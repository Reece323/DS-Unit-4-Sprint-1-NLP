{
 "cells": [
  {
   "cell_type": "markdown",
   "metadata": {
    "colab_type": "text",
    "id": "cOMBkFKn6uEK"
   },
   "source": [
    "# Topic Modeling (Prepare)\n",
    "\n",
    "On Monday we talked about summarizing your documents using just token counts. Today, we're going to learn about a much more sophisticated approach - learning 'topics' from documents. Topics are a latent structure. They are not directly observable in the data, but we know they're there by reading them.\n",
    "\n",
    "> **latent**: existing but not yet developed or manifest; hidden or concealed.\n",
    "\n",
    "## Use Cases\n",
    "Primary use case: what the hell are your documents about? Who might want to know that in industry - \n",
    "* Identifying common themes in customer reviews\n",
    "* Discovering the needle in a haystack \n",
    "* Monitoring communications (Email - State Department) \n",
    "\n",
    "## Learning Objectives\n",
    "*At the end of the lesson you should be able to:*\n",
    "* Part 0: Warm-Up\n",
    "* Part 1: Describe how an LDA Model works\n",
    "* Part 2: Estimate a LDA Model with Gensim\n",
    "* Part 3: Interpret LDA results & Select the appropriate number of topics"
   ]
  },
  {
   "cell_type": "markdown",
   "metadata": {
    "colab_type": "text",
    "id": "cxH0cRGX6uEL"
   },
   "source": [
    "# Part 0: Warm-Up\n",
    "How do we do a grid search? "
   ]
  },
  {
   "cell_type": "code",
   "execution_count": 1,
   "metadata": {
    "colab": {},
    "colab_type": "code",
    "id": "FFjplZ7r3Lyk"
   },
   "outputs": [],
   "source": [
    "import warnings\n",
    "warnings.filterwarnings(\"ignore\")"
   ]
  },
  {
   "cell_type": "code",
   "execution_count": 2,
   "metadata": {
    "colab": {},
    "colab_type": "code",
    "id": "rnyNg8sQ6uEL"
   },
   "outputs": [
    {
     "name": "stderr",
     "output_type": "stream",
     "text": [
      "/opt/anaconda3/envs/U4-S1-NLP/lib/python3.8/site-packages/sklearn/feature_extraction/text.py:17: DeprecationWarning: Using or importing the ABCs from 'collections' instead of from 'collections.abc' is deprecated since Python 3.3, and in 3.9 it will stop working\n",
      "  from collections import Mapping, defaultdict\n",
      "/opt/anaconda3/envs/U4-S1-NLP/lib/python3.8/site-packages/sklearn/ensemble/weight_boosting.py:29: DeprecationWarning: numpy.core.umath_tests is an internal NumPy module and should not be imported. It will be removed in a future NumPy release.\n",
      "  from numpy.core.umath_tests import inner1d\n"
     ]
    }
   ],
   "source": [
    "import pandas as pd\n",
    "from sklearn.datasets import fetch_20newsgroups\n",
    "from sklearn.ensemble import RandomForestClassifier\n",
    "from sklearn.model_selection import GridSearchCV\n",
    "from sklearn.feature_extraction.text import TfidfVectorizer"
   ]
  },
  {
   "cell_type": "code",
   "execution_count": 3,
   "metadata": {
    "colab": {},
    "colab_type": "code",
    "id": "boKWVkRz6uEO"
   },
   "outputs": [
    {
     "name": "stdout",
     "output_type": "stream",
     "text": [
      "Training Samples: 11314\n",
      "Testing Samples: 7532\n"
     ]
    }
   ],
   "source": [
    "# Load training data\n",
    "newsgroups_train = fetch_20newsgroups(subset='train', \n",
    "                                      remove=('headers', 'footers', 'quotes'))\n",
    "\n",
    "# Load testing data\n",
    "newsgroups_test = fetch_20newsgroups(subset='test', \n",
    "                                     remove=('headers', 'footers', 'quotes'))\n",
    "\n",
    "print(f'Training Samples: {len(newsgroups_train.data)}')\n",
    "print(f'Testing Samples: {len(newsgroups_test.data)}')"
   ]
  },
  {
   "cell_type": "code",
   "execution_count": 4,
   "metadata": {
    "colab": {},
    "colab_type": "code",
    "id": "hPpukADi7Ofv"
   },
   "outputs": [
    {
     "data": {
      "text/plain": [
       "dict_keys(['data', 'filenames', 'target_names', 'target', 'DESCR', 'description'])"
      ]
     },
     "execution_count": 4,
     "metadata": {},
     "output_type": "execute_result"
    }
   ],
   "source": [
    "newsgroups_train.keys()"
   ]
  },
  {
   "cell_type": "code",
   "execution_count": 5,
   "metadata": {
    "colab": {},
    "colab_type": "code",
    "id": "g9Jhb3j-7_e2"
   },
   "outputs": [
    {
     "data": {
      "text/plain": [
       "['alt.atheism',\n",
       " 'comp.graphics',\n",
       " 'comp.os.ms-windows.misc',\n",
       " 'comp.sys.ibm.pc.hardware',\n",
       " 'comp.sys.mac.hardware',\n",
       " 'comp.windows.x',\n",
       " 'misc.forsale',\n",
       " 'rec.autos',\n",
       " 'rec.motorcycles',\n",
       " 'rec.sport.baseball',\n",
       " 'rec.sport.hockey',\n",
       " 'sci.crypt',\n",
       " 'sci.electronics',\n",
       " 'sci.med',\n",
       " 'sci.space',\n",
       " 'soc.religion.christian',\n",
       " 'talk.politics.guns',\n",
       " 'talk.politics.mideast',\n",
       " 'talk.politics.misc',\n",
       " 'talk.religion.misc']"
      ]
     },
     "execution_count": 5,
     "metadata": {},
     "output_type": "execute_result"
    }
   ],
   "source": [
    "newsgroups_train['target_names']"
   ]
  },
  {
   "cell_type": "code",
   "execution_count": 6,
   "metadata": {
    "colab": {},
    "colab_type": "code",
    "id": "JbVoIoMm8HbR"
   },
   "outputs": [
    {
     "data": {
      "text/plain": [
       "\"Anybody seen mouse cursor distortion running the Diamond 1024x768x256 driver?\\nSorry, don't know the version of the driver (no indication in the menus) but it's a recently\\ndelivered Gateway system.  Am going to try the latest drivers from Diamond BBS but wondered\\nif anyone else had seen this.\\n\\npost or email\""
      ]
     },
     "execution_count": 6,
     "metadata": {},
     "output_type": "execute_result"
    }
   ],
   "source": [
    "newsgroups_train['data'][1000]"
   ]
  },
  {
   "cell_type": "markdown",
   "metadata": {
    "colab_type": "text",
    "id": "w-39zg9a6uEQ"
   },
   "source": [
    "### GridSearch on Just Classifier\n",
    "* Fit the vectorizer and prepare BEFORE it goes into the gridsearch"
   ]
  },
  {
   "cell_type": "code",
   "execution_count": 7,
   "metadata": {
    "colab": {},
    "colab_type": "code",
    "id": "2q3NmHEo6uEQ"
   },
   "outputs": [
    {
     "name": "stdout",
     "output_type": "stream",
     "text": [
      "(11314, 18101)\n"
     ]
    }
   ],
   "source": [
    "# Instantiate vectorizer\n",
    "vect = TfidfVectorizer(min_df=5)\n",
    "\n",
    "# Transform the training data\n",
    "X_train = vect.fit_transform(newsgroups_train['data'])\n",
    "print(X_train.shape)"
   ]
  },
  {
   "cell_type": "code",
   "execution_count": 8,
   "metadata": {
    "colab": {},
    "colab_type": "code",
    "id": "7OfA7KNQ6uEU"
   },
   "outputs": [
    {
     "name": "stdout",
     "output_type": "stream",
     "text": [
      "Fitting 5 folds for each of 4 candidates, totalling 20 fits\n"
     ]
    },
    {
     "name": "stderr",
     "output_type": "stream",
     "text": [
      "[Parallel(n_jobs=-1)]: Done  20 out of  20 | elapsed:    6.2s finished\n"
     ]
    },
    {
     "data": {
      "text/plain": [
       "GridSearchCV(cv=5, error_score='raise',\n",
       "       estimator=RandomForestClassifier(bootstrap=True, class_weight=None, criterion='gini',\n",
       "            max_depth=None, max_features='auto', max_leaf_nodes=None,\n",
       "            min_impurity_decrease=0.0, min_impurity_split=None,\n",
       "            min_samples_leaf=1, min_samples_split=2,\n",
       "            min_weight_fraction_leaf=0.0, n_estimators=10, n_jobs=1,\n",
       "            oob_score=False, random_state=None, verbose=0,\n",
       "            warm_start=False),\n",
       "       fit_params=None, iid=True, n_jobs=-1,\n",
       "       param_grid={'min_samples_leaf': [1, 2, 5, 10]},\n",
       "       pre_dispatch='2*n_jobs', refit=True, return_train_score='warn',\n",
       "       scoring=None, verbose=1)"
      ]
     },
     "execution_count": 8,
     "metadata": {},
     "output_type": "execute_result"
    }
   ],
   "source": [
    "params_1 = {\n",
    "    'min_samples_leaf': [1, 2, 5, 10]\n",
    "}\n",
    "\n",
    "# Instantiate classifier\n",
    "clf = RandomForestClassifier()\n",
    "\n",
    "# GridSearch\n",
    "gs1 = GridSearchCV(clf, params_1, cv=5, n_jobs=-1, verbose=1)\n",
    "gs1.fit(X_train, newsgroups_train['target'])"
   ]
  },
  {
   "cell_type": "code",
   "execution_count": 9,
   "metadata": {},
   "outputs": [
    {
     "data": {
      "text/plain": [
       "0.5424253137705498"
      ]
     },
     "execution_count": 9,
     "metadata": {},
     "output_type": "execute_result"
    }
   ],
   "source": [
    "gs1.best_score_"
   ]
  },
  {
   "cell_type": "code",
   "execution_count": 10,
   "metadata": {},
   "outputs": [
    {
     "data": {
      "text/plain": [
       "{'min_samples_leaf': 5}"
      ]
     },
     "execution_count": 10,
     "metadata": {},
     "output_type": "execute_result"
    }
   ],
   "source": [
    "gs1.best_params_"
   ]
  },
  {
   "cell_type": "code",
   "execution_count": 11,
   "metadata": {
    "colab": {},
    "colab_type": "code",
    "id": "gDkMaXvG83Zt"
   },
   "outputs": [
    {
     "data": {
      "text/plain": [
       "(1, 18101)"
      ]
     },
     "execution_count": 11,
     "metadata": {},
     "output_type": "execute_result"
    }
   ],
   "source": [
    "test_sample = vect.transform([\"The new york yankees are the best team in the region.\"])\n",
    "test_sample.shape"
   ]
  },
  {
   "cell_type": "code",
   "execution_count": 12,
   "metadata": {
    "colab": {},
    "colab_type": "code",
    "id": "cMq_hw5W6uEX"
   },
   "outputs": [
    {
     "data": {
      "text/plain": [
       "10"
      ]
     },
     "execution_count": 12,
     "metadata": {},
     "output_type": "execute_result"
    }
   ],
   "source": [
    "gs1.predict(test_sample)[0]"
   ]
  },
  {
   "cell_type": "code",
   "execution_count": 13,
   "metadata": {},
   "outputs": [
    {
     "data": {
      "text/plain": [
       "'rec.sport.baseball'"
      ]
     },
     "execution_count": 13,
     "metadata": {},
     "output_type": "execute_result"
    }
   ],
   "source": [
    "newsgroups_train['target_names'][9]"
   ]
  },
  {
   "cell_type": "markdown",
   "metadata": {
    "colab_type": "text",
    "id": "WdVTuXKl6uEZ"
   },
   "source": [
    "### GridSearch with BOTH the Vectoizer & Classifier"
   ]
  },
  {
   "cell_type": "code",
   "execution_count": 14,
   "metadata": {
    "colab": {},
    "colab_type": "code",
    "id": "97TjUtoI6uEZ"
   },
   "outputs": [
    {
     "name": "stdout",
     "output_type": "stream",
     "text": [
      "Fitting 5 folds for each of 8 candidates, totalling 40 fits\n"
     ]
    },
    {
     "name": "stderr",
     "output_type": "stream",
     "text": [
      "[Parallel(n_jobs=-1)]: Done  40 out of  40 | elapsed:   55.5s finished\n"
     ]
    },
    {
     "data": {
      "text/plain": [
       "GridSearchCV(cv=5, error_score='raise',\n",
       "       estimator=Pipeline(memory=None,\n",
       "     steps=[('vect', TfidfVectorizer(analyzer='word', binary=False, decode_error='strict',\n",
       "        dtype=<class 'numpy.int64'>, encoding='utf-8', input='content',\n",
       "        lowercase=True, max_df=1.0, max_features=None, min_df=1,\n",
       "        ngram_range=(1, 1), norm='l2', preprocessor=None, smooth_idf=True,\n",
       "  ...stimators=10, n_jobs=1,\n",
       "            oob_score=False, random_state=42, verbose=0, warm_start=False))]),\n",
       "       fit_params=None, iid=True, n_jobs=-1,\n",
       "       param_grid={'vect__stop_words': (None, 'english'), 'vect__min_df': (2, 5), 'clf__max_depth': (10, None)},\n",
       "       pre_dispatch='2*n_jobs', refit=True, return_train_score='warn',\n",
       "       scoring=None, verbose=1)"
      ]
     },
     "execution_count": 14,
     "metadata": {},
     "output_type": "execute_result"
    }
   ],
   "source": [
    "from sklearn.pipeline import Pipeline\n",
    "\n",
    "# 1. Create a pipeline with a vectorize and a classifier\n",
    "# 2. Use Grid Search to optimize the entire pipeline\n",
    "pipe = Pipeline([\n",
    "    ('vect', TfidfVectorizer()),\n",
    "    ('clf', RandomForestClassifier(random_state=42))\n",
    "])\n",
    "\n",
    "params_2 = {\n",
    "    'vect__stop_words': (None, 'english'), \n",
    "    'vect__min_df': (2, 5),\n",
    "    'clf__max_depth': (10, None)\n",
    "}\n",
    "\n",
    "gs2 = GridSearchCV(pipe, params_2, cv=5, n_jobs=-1, verbose=1)\n",
    "gs2.fit(newsgroups_train['data'], newsgroups_train['target'])"
   ]
  },
  {
   "cell_type": "code",
   "execution_count": 15,
   "metadata": {},
   "outputs": [
    {
     "data": {
      "text/plain": [
       "0.56655471097755"
      ]
     },
     "execution_count": 15,
     "metadata": {},
     "output_type": "execute_result"
    }
   ],
   "source": [
    "gs2.best_score_"
   ]
  },
  {
   "cell_type": "code",
   "execution_count": 16,
   "metadata": {},
   "outputs": [
    {
     "data": {
      "text/plain": [
       "{'clf__max_depth': None, 'vect__min_df': 5, 'vect__stop_words': 'english'}"
      ]
     },
     "execution_count": 16,
     "metadata": {},
     "output_type": "execute_result"
    }
   ],
   "source": [
    "gs2.best_params_"
   ]
  },
  {
   "cell_type": "code",
   "execution_count": 17,
   "metadata": {
    "colab": {},
    "colab_type": "code",
    "id": "IdIE67Us6uEc"
   },
   "outputs": [
    {
     "data": {
      "text/plain": [
       "array([9])"
      ]
     },
     "execution_count": 17,
     "metadata": {},
     "output_type": "execute_result"
    }
   ],
   "source": [
    "pred = gs2.predict([\"The new york yankees are the best team in the region.\"])\n",
    "pred"
   ]
  },
  {
   "cell_type": "code",
   "execution_count": 18,
   "metadata": {
    "colab": {},
    "colab_type": "code",
    "id": "xhcb5G0W-Dch"
   },
   "outputs": [
    {
     "data": {
      "text/plain": [
       "'rec.sport.baseball'"
      ]
     },
     "execution_count": 18,
     "metadata": {},
     "output_type": "execute_result"
    }
   ],
   "source": [
    "newsgroups_train['target_names'][pred[0]]"
   ]
  },
  {
   "cell_type": "markdown",
   "metadata": {
    "colab_type": "text",
    "id": "F2R2ACd36uEd"
   },
   "source": [
    "Advantages to using GS with the Pipe:\n",
    "* Allows us to make predictions on raw text increasing reproducibility. :)\n",
    "* Allows us to tune the parameters of the vectorizer along side the classifier. :D "
   ]
  },
  {
   "cell_type": "markdown",
   "metadata": {
    "colab_type": "text",
    "id": "xbZjG6U86uEe"
   },
   "source": [
    "# Part 1: Describe how an LDA Model works"
   ]
  },
  {
   "cell_type": "markdown",
   "metadata": {
    "colab_type": "text",
    "id": "dMzU-XOM3LzW"
   },
   "source": [
    "[Your Guide to Latent Dirichlet Allocation](https://medium.com/@lettier/how-does-lda-work-ill-explain-using-emoji-108abf40fa7d)\n",
    "\n",
    "[LDA Topic Modeling](https://lettier.com/projects/lda-topic-modeling/)\n",
    "\n",
    "[Topic Modeling with Gensim](https://www.machinelearningplus.com/nlp/topic-modeling-gensim-python/)"
   ]
  },
  {
   "cell_type": "code",
   "execution_count": 19,
   "metadata": {
    "colab": {},
    "colab_type": "code",
    "id": "yPIlE_IeF0cX"
   },
   "outputs": [
    {
     "name": "stdout",
     "output_type": "stream",
     "text": [
      "\u001b[38;5;3m⚠ Skipping model package dependencies and setting `--no-deps`. You\n",
      "don't seem to have the spaCy package itself installed (maybe because you've\n",
      "built from source?), so installing the model dependencies would cause spaCy to\n",
      "be downloaded, which probably isn't what you want. If the model package has\n",
      "other dependencies, you'll have to install them manually.\u001b[0m\n",
      "\u001b[38;5;2m✔ Download and installation successful\u001b[0m\n",
      "You can now load the model via spacy.load('en_core_web_lg')\n"
     ]
    }
   ],
   "source": [
    "# Download spacy model\n",
    "import spacy.cli\n",
    "spacy.cli.download(\"en_core_web_lg\")"
   ]
  },
  {
   "cell_type": "code",
   "execution_count": 20,
   "metadata": {
    "colab": {},
    "colab_type": "code",
    "id": "qapChu_UGBFc"
   },
   "outputs": [],
   "source": [
    "import re\n",
    "import numpy as np\n",
    "import pandas as pd\n",
    "from pprint import pprint\n",
    "\n",
    "import gensim\n",
    "import gensim.corpora as corpora\n",
    "from gensim.utils import simple_preprocess\n",
    "from gensim.models import CoherenceModel\n",
    "\n",
    "import spacy\n",
    "import pyLDAvis\n",
    "import pyLDAvis.gensim \n",
    "import matplotlib.pyplot as plt\n",
    "%matplotlib inline"
   ]
  },
  {
   "cell_type": "code",
   "execution_count": 55,
   "metadata": {
    "colab": {},
    "colab_type": "code",
    "id": "qaMsy1XAGLxc"
   },
   "outputs": [
    {
     "name": "stdout",
     "output_type": "stream",
     "text": [
      "                                                                                                                                                                                                                                                                                                                                                                                                                                                                                             content  \\\n",
      "0  I was wondering if anyone out there could enlighten me on this car I saw\\nthe other day. It was a 2-door sports car, looked to be from the late 60s/\\nearly 70s. It was called a Bricklin. The doors were really small. In addition,\\nthe front bumper was separate from the rest of the body. This is \\nall I know. If anyone can tellme a model name, engine specs, years\\nof production, where this car is made, history, or whatever info you\\nhave on this funky looking car, please e-mail.   \n",
      "\n",
      "   target target_names  \n",
      "0  7       rec.autos    \n"
     ]
    },
    {
     "name": "stderr",
     "output_type": "stream",
     "text": [
      "/opt/anaconda3/envs/U4-S1-NLP/lib/python3.8/site-packages/ipykernel/ipkernel.py:287: DeprecationWarning: `should_run_async` will not call `transform_cell` automatically in the future. Please pass the result to `transformed_cell` argument and any exception that happen during thetransform in `preprocessing_exc_tuple` in IPython 7.17 and above.\n",
      "  and should_run_async(code)\n"
     ]
    }
   ],
   "source": [
    "df = pd.DataFrame({\n",
    "    'content': newsgroups_train['data'],\n",
    "    'target': newsgroups_train['target'],\n",
    "    'target_names': [newsgroups_train['target_names'][i] for i in newsgroups_train['target']]\n",
    "})\n",
    "print(df.head(1))"
   ]
  },
  {
   "cell_type": "code",
   "execution_count": 22,
   "metadata": {},
   "outputs": [
    {
     "name": "stderr",
     "output_type": "stream",
     "text": [
      "/opt/anaconda3/envs/U4-S1-NLP/lib/python3.8/site-packages/ipykernel/ipkernel.py:287: DeprecationWarning: `should_run_async` will not call `transform_cell` automatically in the future. Please pass the result to `transformed_cell` argument and any exception that happen during thetransform in `preprocessing_exc_tuple` in IPython 7.17 and above.\n",
      "  and should_run_async(code)\n"
     ]
    },
    {
     "data": {
      "text/html": [
       "<div>\n",
       "<style scoped>\n",
       "    .dataframe tbody tr th:only-of-type {\n",
       "        vertical-align: middle;\n",
       "    }\n",
       "\n",
       "    .dataframe tbody tr th {\n",
       "        vertical-align: top;\n",
       "    }\n",
       "\n",
       "    .dataframe thead th {\n",
       "        text-align: right;\n",
       "    }\n",
       "</style>\n",
       "<table border=\"1\" class=\"dataframe\">\n",
       "  <thead>\n",
       "    <tr style=\"text-align: right;\">\n",
       "      <th></th>\n",
       "      <th>content</th>\n",
       "      <th>target</th>\n",
       "      <th>target_names</th>\n",
       "    </tr>\n",
       "  </thead>\n",
       "  <tbody>\n",
       "    <tr>\n",
       "      <th>8391</th>\n",
       "      <td>Gordon Rubenfeld responds to Ron Roth:\\nGR&gt;\\nGR&gt; RR&gt; Well, Gordon, I look at the RESULTS, not at anyone's *scientific*\\nGR&gt; RR&gt; stamp of approval.\\nGR&gt;  \\nGR&gt;    If you and your patients (followers?) are convinced (as you've written)\\nGR&gt;  by your methods of uncontrolled, undocumented, unreported, unsubstantiated,\\nGR&gt;  subjective endpoint research - great.  But, why should the rest of us care?\\n\\n Gordon, even if you are trying to beat this issue to death, you'll \\n never get more than a stalemate out of this one!\\n I have never tried to force my type of medicine on any of you. Why \\n should I?  My patients are happy. I'm happy. You and your peers seem \\n to be the only miserable ones around bemoaning the steady loss of \\n patients to the alternative camp.\\n Just look at Europe. There has been a steady exodus from 'synthetic' \\n medicine for over a decade now, and it'll be just a matter of time\\n before more people on this continent will abandon their drug and white \\n coat worship as well and visit different doctors for different needs.\\n\\nGR&gt;     You see Ron, the point isn't whether YOU and your patients are\\nGR&gt;  convinced that whatever it is you do works; it's whether what you do is\\nGR&gt;  MORE effective in similar cases (of whatever it is you think you are\\nGR&gt;  treating) than cupping, bloodletting, and placebo.\\n\\n This is very interesting. I have come exactly to the same conclusions\\n but in regards to *conventional* medicine.\\n\\n You see, I don't just treat little old ladies that wouldn't know any\\n different of what is being done, but a bulk of my patients consist of\\n teachers, lawyers, judges, nurses, accountants, university graduates,\\n and various health practitioners.\\n If these people have gotten results with my method after having been\\n unsuccessful with yours or their own, I certainly wouldn't lose any \\n sleep over whether you or your peers approve of my treatments --- \\n let's face it, with all the blunders committed by \"scientific\" MDs \\n over the years, I know a lot of people who hold your *scientific* \\n method in much lower esteem than they hold mine!\\n\\nGR&gt;  As far as we know ayurveda = crystals = homeopathy = Ron Roth\\nGR&gt;  which may all equal placebo administered with appropriate\\nGR&gt;  trappings...\\n     \\n  Sorry, but I'm not familiar OR interested with what appears to be \\n 'NEW AGE' medicine (ayurveda, crystals), with the exception of homeo-\\n pathy, of which I took a course. But Gordon, you already knew that -\\n you just wanted to make my system look a bit more far out, right?\\n \\n I use homeopathy very little, since my cellular test (EMR) is hard to\\n beat for accuracy and minerals are more predictable, while homeopathy\\n does have a problem with reliability, especially in acute conditions.\\n An exception perhaps are homeopathic nosodes which act fairly quickly\\n and are more dependable in certain viral or bacterial situations. \\n\\nGR&gt;  My colleagues and I spend hours debating study design\\nGR&gt;  and results, even of therapies currently accepted as \"standard\".\\nGR&gt;  As good (well, adequate) scientists, we are prepared, *if \\nGR&gt;  presented with appropriate data*, to abandon our most deeply held \\nGR&gt;  beliefs in favor of new ideas.\\n\\n I have met the challenges of hundreds of sceptics by verifying the\\n accuracy of measuring their mineral status to their total satisfac-\\n tion --- in other words EVERYONE INVOLVED is happy!\\n If you were to cook a meal, would you worry over whether EVERYONE \\n in this world would find it to their liking, or only those that end \\n up eating it?\\n Since I have financed every research project that I have undertaken \\n entirely myself, I don't need to follow any of your rules or guide-\\n lines to satisfy any aspects of a grant application, which YOU may \\n have to; neither am I concerned of whether or not my study designs \\n meet your or anyone else's criteria or acceptance. \\n\\nGR&gt;    Sorry Ron, if conviction were the ruler of truth, a flat Earth would\\nGR&gt;  still be the center of the Universe and epilepsy a curse of the gods.\\n                         \\n I think there would be more justification for an uneducated person\\n growing up in an uncivilized environment to believe in a flat earth,\\n than for a civilized, well educated and scientifically trained mind\\n to follow the doctrine of evolution.\\n Genetic engineering of course is now the final frontier to show God\\n how it is (properly) done. Now we've become capable of creating our\\n own paradise and give disease (and God) the boot, right?\\n\\n But just before we get rid of Him for good, perhaps He could leave us\\n some pointers on how to solve a couple of tiny problems, such as war, \\n poverty, racism, crime, riots, substance abuse... And one last thing, \\n could He also give us a hint on how to control natural disasters, the\\n weather, and last, but not least --- peace?\\n\\n   --Ron--</td>\n",
       "      <td>13</td>\n",
       "      <td>sci.med</td>\n",
       "    </tr>\n",
       "    <tr>\n",
       "      <th>4418</th>\n",
       "      <td>\\nI posted a similar query and got these replies which I am testing (so far so\\ngood)..\\n\\n* turn hardware scrolling off before going into windows (24xmode scrolloff)\\n\\n* in the pif file for dos window, set \"emulate text mode\"\\n\\n* get the latest drivers from the DiamoND BBS (or cica): dates are 1-20-9.\\n</td>\n",
       "      <td>2</td>\n",
       "      <td>comp.os.ms-windows.misc</td>\n",
       "    </tr>\n",
       "    <tr>\n",
       "      <th>11296</th>\n",
       "      <td>\\n\\n\\n\\n\\n   Anaheim.</td>\n",
       "      <td>9</td>\n",
       "      <td>rec.sport.baseball</td>\n",
       "    </tr>\n",
       "  </tbody>\n",
       "</table>\n",
       "</div>"
      ],
      "text/plain": [
       "                                                                                                                                                                                                                                                                                                                                                                                                                                                                                                                                                                                                                                                                                                                                                                                                                                                                                                                                                                                                                                                                                                                                                                                                                                                                                                                                                                                                                                                                                                                                                                                                                                                                                                                                                                                                                                                                                                                                                                                                                                                                                                                                                                                                                                                                                                                                                                                                                                                                                                                                                                                                                                                                                                                                                                                                                                                                                                                                                                                                                                                                                                                                                                                                                                                                                                                                                                                                                                                                                                                                                                                                                                                                                                                                                                                                                                                                                                                                                                                                                                                                                                                                                                                                                                                                                                                                                                                                                                                                                                                                                                                                                                                                                                                                                                                                                                                                                                                                                                                                                                                                                        content  \\\n",
       "8391   Gordon Rubenfeld responds to Ron Roth:\\nGR>\\nGR> RR> Well, Gordon, I look at the RESULTS, not at anyone's *scientific*\\nGR> RR> stamp of approval.\\nGR>  \\nGR>    If you and your patients (followers?) are convinced (as you've written)\\nGR>  by your methods of uncontrolled, undocumented, unreported, unsubstantiated,\\nGR>  subjective endpoint research - great.  But, why should the rest of us care?\\n\\n Gordon, even if you are trying to beat this issue to death, you'll \\n never get more than a stalemate out of this one!\\n I have never tried to force my type of medicine on any of you. Why \\n should I?  My patients are happy. I'm happy. You and your peers seem \\n to be the only miserable ones around bemoaning the steady loss of \\n patients to the alternative camp.\\n Just look at Europe. There has been a steady exodus from 'synthetic' \\n medicine for over a decade now, and it'll be just a matter of time\\n before more people on this continent will abandon their drug and white \\n coat worship as well and visit different doctors for different needs.\\n\\nGR>     You see Ron, the point isn't whether YOU and your patients are\\nGR>  convinced that whatever it is you do works; it's whether what you do is\\nGR>  MORE effective in similar cases (of whatever it is you think you are\\nGR>  treating) than cupping, bloodletting, and placebo.\\n\\n This is very interesting. I have come exactly to the same conclusions\\n but in regards to *conventional* medicine.\\n\\n You see, I don't just treat little old ladies that wouldn't know any\\n different of what is being done, but a bulk of my patients consist of\\n teachers, lawyers, judges, nurses, accountants, university graduates,\\n and various health practitioners.\\n If these people have gotten results with my method after having been\\n unsuccessful with yours or their own, I certainly wouldn't lose any \\n sleep over whether you or your peers approve of my treatments --- \\n let's face it, with all the blunders committed by \"scientific\" MDs \\n over the years, I know a lot of people who hold your *scientific* \\n method in much lower esteem than they hold mine!\\n\\nGR>  As far as we know ayurveda = crystals = homeopathy = Ron Roth\\nGR>  which may all equal placebo administered with appropriate\\nGR>  trappings...\\n     \\n  Sorry, but I'm not familiar OR interested with what appears to be \\n 'NEW AGE' medicine (ayurveda, crystals), with the exception of homeo-\\n pathy, of which I took a course. But Gordon, you already knew that -\\n you just wanted to make my system look a bit more far out, right?\\n \\n I use homeopathy very little, since my cellular test (EMR) is hard to\\n beat for accuracy and minerals are more predictable, while homeopathy\\n does have a problem with reliability, especially in acute conditions.\\n An exception perhaps are homeopathic nosodes which act fairly quickly\\n and are more dependable in certain viral or bacterial situations. \\n\\nGR>  My colleagues and I spend hours debating study design\\nGR>  and results, even of therapies currently accepted as \"standard\".\\nGR>  As good (well, adequate) scientists, we are prepared, *if \\nGR>  presented with appropriate data*, to abandon our most deeply held \\nGR>  beliefs in favor of new ideas.\\n\\n I have met the challenges of hundreds of sceptics by verifying the\\n accuracy of measuring their mineral status to their total satisfac-\\n tion --- in other words EVERYONE INVOLVED is happy!\\n If you were to cook a meal, would you worry over whether EVERYONE \\n in this world would find it to their liking, or only those that end \\n up eating it?\\n Since I have financed every research project that I have undertaken \\n entirely myself, I don't need to follow any of your rules or guide-\\n lines to satisfy any aspects of a grant application, which YOU may \\n have to; neither am I concerned of whether or not my study designs \\n meet your or anyone else's criteria or acceptance. \\n\\nGR>    Sorry Ron, if conviction were the ruler of truth, a flat Earth would\\nGR>  still be the center of the Universe and epilepsy a curse of the gods.\\n                         \\n I think there would be more justification for an uneducated person\\n growing up in an uncivilized environment to believe in a flat earth,\\n than for a civilized, well educated and scientifically trained mind\\n to follow the doctrine of evolution.\\n Genetic engineering of course is now the final frontier to show God\\n how it is (properly) done. Now we've become capable of creating our\\n own paradise and give disease (and God) the boot, right?\\n\\n But just before we get rid of Him for good, perhaps He could leave us\\n some pointers on how to solve a couple of tiny problems, such as war, \\n poverty, racism, crime, riots, substance abuse... And one last thing, \\n could He also give us a hint on how to control natural disasters, the\\n weather, and last, but not least --- peace?\\n\\n   --Ron--   \n",
       "4418   \\nI posted a similar query and got these replies which I am testing (so far so\\ngood)..\\n\\n* turn hardware scrolling off before going into windows (24xmode scrolloff)\\n\\n* in the pif file for dos window, set \"emulate text mode\"\\n\\n* get the latest drivers from the DiamoND BBS (or cica): dates are 1-20-9.\\n                                                                                                                                                                                                                                                                                                                                                                                                                                                                                                                                                                                                                                                                                                                                                                                                                                                                                                                                                                                                                                                                                                                                                                                                                                                                                                                                                                                                                                                                                                                                                                                                                                                                                                                                                                                                                                                                                                                                                                                                                                                                                                                                                                                                                                                                                                                                                                                                                                                                                                                                                                                                                                                                                                                                                                                                                                                                                                                                                                                                                                                                                                                                                                                                                                                                                                                                                                                                                                                                                                                                                                                                                                                                                                                                                                                                                                                                                                                                                                                                                                                                                                                                                                                                                                                                                                                                                                                                                                                                                                                                                                                                                                                                                                                                                                        \n",
       "11296  \\n\\n\\n\\n\\n   Anaheim.                                                                                                                                                                                                                                                                                                                                                                                                                                                                                                                                                                                                                                                                                                                                                                                                                                                                                                                                                                                                                                                                                                                                                                                                                                                                                                                                                                                                                                                                                                                                                                                                                                                                                                                                                                                                                                                                                                                                                                                                                                                                                                                                                                                                                                                                                                                                                                                                                                                                                                                                                                                                                                                                                                                                                                                                                                                                                                                                                                                                                                                                                                                                                                                                                                                                                                                                                                                                                                                                                                                                                                                                                                                                                                                                                                                                                                                                                                                                                                                                                                                                                                                                                                                                                                                                                                                                                                                                                                                                                                                                                                                                                                                                                                                                                                                                                                                                                                                                                                                                                                                                      \n",
       "\n",
       "       target             target_names  \n",
       "8391   13      sci.med                  \n",
       "4418   2       comp.os.ms-windows.misc  \n",
       "11296  9       rec.sport.baseball       "
      ]
     },
     "execution_count": 22,
     "metadata": {},
     "output_type": "execute_result"
    }
   ],
   "source": [
    "pd.set_option('display.max_colwidth', 0)\n",
    "df.sample(3)"
   ]
  },
  {
   "cell_type": "code",
   "execution_count": 23,
   "metadata": {},
   "outputs": [
    {
     "name": "stderr",
     "output_type": "stream",
     "text": [
      "/opt/anaconda3/envs/U4-S1-NLP/lib/python3.8/site-packages/ipykernel/ipkernel.py:287: DeprecationWarning: `should_run_async` will not call `transform_cell` automatically in the future. Please pass the result to `transformed_cell` argument and any exception that happen during thetransform in `preprocessing_exc_tuple` in IPython 7.17 and above.\n",
      "  and should_run_async(code)\n"
     ]
    },
    {
     "data": {
      "text/plain": [
       "'The apple has fallen from the tree.'"
      ]
     },
     "execution_count": 23,
     "metadata": {},
     "output_type": "execute_result"
    }
   ],
   "source": [
    "' '.join(\"  The apple has         fallen from the tree.  \".split())"
   ]
  },
  {
   "cell_type": "code",
   "execution_count": 24,
   "metadata": {
    "colab": {},
    "colab_type": "code",
    "id": "na2bkOcFGter"
   },
   "outputs": [
    {
     "name": "stderr",
     "output_type": "stream",
     "text": [
      "/opt/anaconda3/envs/U4-S1-NLP/lib/python3.8/site-packages/ipykernel/ipkernel.py:287: DeprecationWarning: `should_run_async` will not call `transform_cell` automatically in the future. Please pass the result to `transformed_cell` argument and any exception that happen during thetransform in `preprocessing_exc_tuple` in IPython 7.17 and above.\n",
      "  and should_run_async(code)\n",
      "<>:5: DeprecationWarning: invalid escape sequence \\s\n",
      "<>:8: DeprecationWarning: invalid escape sequence \\S\n",
      "<>:5: DeprecationWarning: invalid escape sequence \\s\n",
      "<>:8: DeprecationWarning: invalid escape sequence \\S\n",
      "<ipython-input-24-ef192abb48ae>:5: DeprecationWarning: invalid escape sequence \\s\n",
      "  df['clean_text'] = df['content'].apply(lambda x: re.sub('\\s+', ' ', x))\n",
      "<ipython-input-24-ef192abb48ae>:8: DeprecationWarning: invalid escape sequence \\S\n",
      "  df['clean_text'] = df['clean_text'].apply(lambda x: re.sub('From: \\S+@\\S+', '', x))\n"
     ]
    }
   ],
   "source": [
    "# For reference on regex: https://docs.python.org/3/library/re.html\n",
    "# From 'content' column: \n",
    "\n",
    "# 1. Remove new line characters\n",
    "df['clean_text'] = df['content'].apply(lambda x: re.sub('\\s+', ' ', x))\n",
    "\n",
    "# 2. Remove Emails\n",
    "df['clean_text'] = df['clean_text'].apply(lambda x: re.sub('From: \\S+@\\S+', '', x))\n",
    "\n",
    "# 3. Remove non-alphanumeric characters\n",
    "df['clean_text'] = df['clean_text'].apply(lambda x: re.sub('[^a-zA-Z]', ' ', x))\n",
    "\n",
    "# 4. Remove extra whitespace \n",
    "df['clean_text'] = df['clean_text'].apply(lambda x: ' '.join(x.split()))"
   ]
  },
  {
   "cell_type": "code",
   "execution_count": 25,
   "metadata": {
    "colab": {},
    "colab_type": "code",
    "id": "2prKILFo3Lzg"
   },
   "outputs": [
    {
     "name": "stderr",
     "output_type": "stream",
     "text": [
      "/opt/anaconda3/envs/U4-S1-NLP/lib/python3.8/site-packages/ipykernel/ipkernel.py:287: DeprecationWarning: `should_run_async` will not call `transform_cell` automatically in the future. Please pass the result to `transformed_cell` argument and any exception that happen during thetransform in `preprocessing_exc_tuple` in IPython 7.17 and above.\n",
      "  and should_run_async(code)\n"
     ]
    },
    {
     "data": {
      "text/html": [
       "<div>\n",
       "<style scoped>\n",
       "    .dataframe tbody tr th:only-of-type {\n",
       "        vertical-align: middle;\n",
       "    }\n",
       "\n",
       "    .dataframe tbody tr th {\n",
       "        vertical-align: top;\n",
       "    }\n",
       "\n",
       "    .dataframe thead th {\n",
       "        text-align: right;\n",
       "    }\n",
       "</style>\n",
       "<table border=\"1\" class=\"dataframe\">\n",
       "  <thead>\n",
       "    <tr style=\"text-align: right;\">\n",
       "      <th></th>\n",
       "      <th>content</th>\n",
       "      <th>target</th>\n",
       "      <th>target_names</th>\n",
       "      <th>clean_text</th>\n",
       "    </tr>\n",
       "  </thead>\n",
       "  <tbody>\n",
       "    <tr>\n",
       "      <th>11011</th>\n",
       "      <td>\\n\\n\\tAnd the Commonwealth of Virginia has not exactly butted\\nagainst the issue on those grounds.  The claim is that AS A MATTER\\nOF TRAFFIC SAFETY one is not allowed to have a functioning radar\\ndetector on the dashboard while operating a motor vehicle.\\n\\n\\tYes, the argument is bogus, BUT... it hasn't been successfully\\nchallenged in court.  Yet.</td>\n",
       "      <td>12</td>\n",
       "      <td>sci.electronics</td>\n",
       "      <td>And the Commonwealth of Virginia has not exactly butted against the issue on those grounds The claim is that AS A MATTER OF TRAFFIC SAFETY one is not allowed to have a functioning radar detector on the dashboard while operating a motor vehicle Yes the argument is bogus BUT it hasn t been successfully challenged in court Yet</td>\n",
       "    </tr>\n",
       "    <tr>\n",
       "      <th>2788</th>\n",
       "      <td>Grf. Dropped my Shoei RF-200 off the seat of my bike while trying to rock \\nit onto it's centerstand, chipped the heck out of the paint on it...\\n \\n So I cheerfully spent $.59 on a bottle of testor's model paint and \\nrepainted the scratches and chips for 20 minutes.\\n \\n Then, while it was drying, I realized that I was out of smokes and that my \\ncage is not currently running... So I \"had to\" take my bike down to the \\nstore. Not wanting to mess up my paint job, I said \"Well, heck. I can just \\nuse my old helmet\".... this is your standard el cheapie openface... \\n  \\n I didn't notice a big difference when I switched TO the shoei, but \\nswitching back was really bad... \\n \\n 1) Doesn't fit worth a damn, too wide in the sides, too short front to \\nback...\\n 2) With a faceplate, it's still bloody windy... with the shoei, I normally \\nignore the face shield until I get up to about 30ish... with this one, \\ntaxiing to the end of the driveway was too smegging much wind. \\n \\n</td>\n",
       "      <td>8</td>\n",
       "      <td>rec.motorcycles</td>\n",
       "      <td>Grf Dropped my Shoei RF off the seat of my bike while trying to rock it onto it s centerstand chipped the heck out of the paint on it So I cheerfully spent on a bottle of testor s model paint and repainted the scratches and chips for minutes Then while it was drying I realized that I was out of smokes and that my cage is not currently running So I had to take my bike down to the store Not wanting to mess up my paint job I said Well heck I can just use my old helmet this is your standard el cheapie openface I didn t notice a big difference when I switched TO the shoei but switching back was really bad Doesn t fit worth a damn too wide in the sides too short front to back With a faceplate it s still bloody windy with the shoei I normally ignore the face shield until I get up to about ish with this one taxiing to the end of the driveway was too smegging much wind</td>\n",
       "    </tr>\n",
       "    <tr>\n",
       "      <th>10821</th>\n",
       "      <td>I've been reading, with much confusion, about whether or not to use\\nATManager. Lately, all the packages I've been buying have all\\nincluded ATManager as a \"bonus\"\\nI do some desktop publishing using PageMaker and Coreldraw.\\nCoreldraw comes with a nifty laser disk that contains over 200 diff\\ntypes. Add that to the TTfonts that come with win31 and you have a\\ndecent amount of fonts. I print my creations out on an HP4\\nPostcript, at 600 dpi resolution with the \"Resolution Enhancement \\nTechnology\" and ..  well ... I get some darn good copies. \\nSo good that there isn't any diff whether or not ATManager is turned\\non or not. Is it worth it to run ATM at all? Especially with these\\nbetter printer technologies ... and TT?</td>\n",
       "      <td>2</td>\n",
       "      <td>comp.os.ms-windows.misc</td>\n",
       "      <td>I ve been reading with much confusion about whether or not to use ATManager Lately all the packages I ve been buying have all included ATManager as a bonus I do some desktop publishing using PageMaker and Coreldraw Coreldraw comes with a nifty laser disk that contains over diff types Add that to the TTfonts that come with win and you have a decent amount of fonts I print my creations out on an HP Postcript at dpi resolution with the Resolution Enhancement Technology and well I get some darn good copies So good that there isn t any diff whether or not ATManager is turned on or not Is it worth it to run ATM at all Especially with these better printer technologies and TT</td>\n",
       "    </tr>\n",
       "  </tbody>\n",
       "</table>\n",
       "</div>"
      ],
      "text/plain": [
       "                                                                                                                                                                                                                                                                                                                                                                                                                                                                                                                                                                                                                                                                                                                                                                                                                                                                                                                                                                                                                            content  \\\n",
       "11011  \\n\\n\\tAnd the Commonwealth of Virginia has not exactly butted\\nagainst the issue on those grounds.  The claim is that AS A MATTER\\nOF TRAFFIC SAFETY one is not allowed to have a functioning radar\\ndetector on the dashboard while operating a motor vehicle.\\n\\n\\tYes, the argument is bogus, BUT... it hasn't been successfully\\nchallenged in court.  Yet.                                                                                                                                                                                                                                                                                                                                                                                                                                                                                                                                                                                                                                                                \n",
       "2788   Grf. Dropped my Shoei RF-200 off the seat of my bike while trying to rock \\nit onto it's centerstand, chipped the heck out of the paint on it...\\n \\n So I cheerfully spent $.59 on a bottle of testor's model paint and \\nrepainted the scratches and chips for 20 minutes.\\n \\n Then, while it was drying, I realized that I was out of smokes and that my \\ncage is not currently running... So I \"had to\" take my bike down to the \\nstore. Not wanting to mess up my paint job, I said \"Well, heck. I can just \\nuse my old helmet\".... this is your standard el cheapie openface... \\n  \\n I didn't notice a big difference when I switched TO the shoei, but \\nswitching back was really bad... \\n \\n 1) Doesn't fit worth a damn, too wide in the sides, too short front to \\nback...\\n 2) With a faceplate, it's still bloody windy... with the shoei, I normally \\nignore the face shield until I get up to about 30ish... with this one, \\ntaxiing to the end of the driveway was too smegging much wind. \\n \\n     \n",
       "10821  I've been reading, with much confusion, about whether or not to use\\nATManager. Lately, all the packages I've been buying have all\\nincluded ATManager as a \"bonus\"\\nI do some desktop publishing using PageMaker and Coreldraw.\\nCoreldraw comes with a nifty laser disk that contains over 200 diff\\ntypes. Add that to the TTfonts that come with win31 and you have a\\ndecent amount of fonts. I print my creations out on an HP4\\nPostcript, at 600 dpi resolution with the \"Resolution Enhancement \\nTechnology\" and ..  well ... I get some darn good copies. \\nSo good that there isn't any diff whether or not ATManager is turned\\non or not. Is it worth it to run ATM at all? Especially with these\\nbetter printer technologies ... and TT?                                                                                                                                                                                                                                                                       \n",
       "\n",
       "       target             target_names  \\\n",
       "11011  12      sci.electronics           \n",
       "2788   8       rec.motorcycles           \n",
       "10821  2       comp.os.ms-windows.misc   \n",
       "\n",
       "                                                                                                                                                                                                                                                                                                                                                                                                                                                                                                                                                                                                                                                                                                                                                                                                                                                                                                     clean_text  \n",
       "11011  And the Commonwealth of Virginia has not exactly butted against the issue on those grounds The claim is that AS A MATTER OF TRAFFIC SAFETY one is not allowed to have a functioning radar detector on the dashboard while operating a motor vehicle Yes the argument is bogus BUT it hasn t been successfully challenged in court Yet                                                                                                                                                                                                                                                                                                                                                                                                                                                                                                                                                                     \n",
       "2788   Grf Dropped my Shoei RF off the seat of my bike while trying to rock it onto it s centerstand chipped the heck out of the paint on it So I cheerfully spent on a bottle of testor s model paint and repainted the scratches and chips for minutes Then while it was drying I realized that I was out of smokes and that my cage is not currently running So I had to take my bike down to the store Not wanting to mess up my paint job I said Well heck I can just use my old helmet this is your standard el cheapie openface I didn t notice a big difference when I switched TO the shoei but switching back was really bad Doesn t fit worth a damn too wide in the sides too short front to back With a faceplate it s still bloody windy with the shoei I normally ignore the face shield until I get up to about ish with this one taxiing to the end of the driveway was too smegging much wind  \n",
       "10821  I ve been reading with much confusion about whether or not to use ATManager Lately all the packages I ve been buying have all included ATManager as a bonus I do some desktop publishing using PageMaker and Coreldraw Coreldraw comes with a nifty laser disk that contains over diff types Add that to the TTfonts that come with win and you have a decent amount of fonts I print my creations out on an HP Postcript at dpi resolution with the Resolution Enhancement Technology and well I get some darn good copies So good that there isn t any diff whether or not ATManager is turned on or not Is it worth it to run ATM at all Especially with these better printer technologies and TT                                                                                                                                                                                                      "
      ]
     },
     "execution_count": 25,
     "metadata": {},
     "output_type": "execute_result"
    }
   ],
   "source": [
    "df.sample(3)"
   ]
  },
  {
   "cell_type": "code",
   "execution_count": 26,
   "metadata": {
    "colab": {},
    "colab_type": "code",
    "id": "kSW10Cb33Lzk"
   },
   "outputs": [
    {
     "name": "stderr",
     "output_type": "stream",
     "text": [
      "/opt/anaconda3/envs/U4-S1-NLP/lib/python3.8/site-packages/ipykernel/ipkernel.py:287: DeprecationWarning: `should_run_async` will not call `transform_cell` automatically in the future. Please pass the result to `transformed_cell` argument and any exception that happen during thetransform in `preprocessing_exc_tuple` in IPython 7.17 and above.\n",
      "  and should_run_async(code)\n"
     ]
    }
   ],
   "source": [
    "nlp = spacy.load(\"en_core_web_lg\")"
   ]
  },
  {
   "cell_type": "code",
   "execution_count": 27,
   "metadata": {
    "colab": {},
    "colab_type": "code",
    "id": "pkgfv9tc3Lzi"
   },
   "outputs": [
    {
     "name": "stderr",
     "output_type": "stream",
     "text": [
      "/opt/anaconda3/envs/U4-S1-NLP/lib/python3.8/site-packages/ipykernel/ipkernel.py:287: DeprecationWarning: `should_run_async` will not call `transform_cell` automatically in the future. Please pass the result to `transformed_cell` argument and any exception that happen during thetransform in `preprocessing_exc_tuple` in IPython 7.17 and above.\n",
      "  and should_run_async(code)\n"
     ]
    }
   ],
   "source": [
    "# Leverage tqdm for progress_apply\n",
    "from tqdm import tqdm\n",
    "tqdm.pandas()\n",
    "\n",
    "# If you're on macOS, Linux, or python session executed from Windows Subsystem for Linux (WSL)\n",
    "# conda activate U4-S1-NLP\n",
    "# pip install pandarallel\n",
    "#\n",
    "from pandarallel import pandarallel\n",
    "pandarallel.initialize(progress_bar=True)\n",
    "#\n",
    "# df['lemmas'] = df['content'].parallel_apply(get_lemmas)\n",
    "#\n",
    "# Ref: https://github.com/nalepae/pandarallel"
   ]
  },
  {
   "cell_type": "code",
   "execution_count": 28,
   "metadata": {
    "colab": {},
    "colab_type": "code",
    "id": "6EBPQXqEKE9P"
   },
   "outputs": [
    {
     "name": "stderr",
     "output_type": "stream",
     "text": [
      "/opt/anaconda3/envs/U4-S1-NLP/lib/python3.8/site-packages/ipykernel/ipkernel.py:287: DeprecationWarning: `should_run_async` will not call `transform_cell` automatically in the future. Please pass the result to `transformed_cell` argument and any exception that happen during thetransform in `preprocessing_exc_tuple` in IPython 7.17 and above.\n",
      "  and should_run_async(code)\n",
      "100%|██████████| 11314/11314 [06:15<00:00, 30.11it/s]\n"
     ]
    }
   ],
   "source": [
    "# Create 'lemmas' column\n",
    "def get_lemmas(x):\n",
    "    lemmas = []\n",
    "    for token in nlp(x):\n",
    "        if (token.is_stop!=True) and (token.is_punct!=True):\n",
    "            lemmas.append(token.lemma_)\n",
    "    return lemmas\n",
    "\n",
    "df['lemmas'] = df['clean_text'].progress_apply(get_lemmas)"
   ]
  },
  {
   "cell_type": "code",
   "execution_count": 29,
   "metadata": {
    "colab": {},
    "colab_type": "code",
    "id": "-yvsyIpvKBlw"
   },
   "outputs": [
    {
     "name": "stderr",
     "output_type": "stream",
     "text": [
      "/opt/anaconda3/envs/U4-S1-NLP/lib/python3.8/site-packages/ipykernel/ipkernel.py:287: DeprecationWarning: `should_run_async` will not call `transform_cell` automatically in the future. Please pass the result to `transformed_cell` argument and any exception that happen during thetransform in `preprocessing_exc_tuple` in IPython 7.17 and above.\n",
      "  and should_run_async(code)\n"
     ]
    },
    {
     "data": {
      "text/html": [
       "<div>\n",
       "<style scoped>\n",
       "    .dataframe tbody tr th:only-of-type {\n",
       "        vertical-align: middle;\n",
       "    }\n",
       "\n",
       "    .dataframe tbody tr th {\n",
       "        vertical-align: top;\n",
       "    }\n",
       "\n",
       "    .dataframe thead th {\n",
       "        text-align: right;\n",
       "    }\n",
       "</style>\n",
       "<table border=\"1\" class=\"dataframe\">\n",
       "  <thead>\n",
       "    <tr style=\"text-align: right;\">\n",
       "      <th></th>\n",
       "      <th>content</th>\n",
       "      <th>target</th>\n",
       "      <th>target_names</th>\n",
       "      <th>clean_text</th>\n",
       "      <th>lemmas</th>\n",
       "    </tr>\n",
       "  </thead>\n",
       "  <tbody>\n",
       "    <tr>\n",
       "      <th>0</th>\n",
       "      <td>I was wondering if anyone out there could enlighten me on this car I saw\\nthe other day. It was a 2-door sports car, looked to be from the late 60s/\\nearly 70s. It was called a Bricklin. The doors were really small. In addition,\\nthe front bumper was separate from the rest of the body. This is \\nall I know. If anyone can tellme a model name, engine specs, years\\nof production, where this car is made, history, or whatever info you\\nhave on this funky looking car, please e-mail.</td>\n",
       "      <td>7</td>\n",
       "      <td>rec.autos</td>\n",
       "      <td>I was wondering if anyone out there could enlighten me on this car I saw the other day It was a door sports car looked to be from the late s early s It was called a Bricklin The doors were really small In addition the front bumper was separate from the rest of the body This is all I know If anyone can tellme a model name engine specs years of production where this car is made history or whatever info you have on this funky looking car please e mail</td>\n",
       "      <td>[wonder, enlighten, car, see, day, door, sport, car, look, late, s, early, s, call, Bricklin, door, small, addition, bumper, separate, rest, body, know, tellme, model, engine, spec, year, production, car, history, info, funky, look, car, e, mail]</td>\n",
       "    </tr>\n",
       "    <tr>\n",
       "      <th>1</th>\n",
       "      <td>A fair number of brave souls who upgraded their SI clock oscillator have\\nshared their experiences for this poll. Please send a brief message detailing\\nyour experiences with the procedure. Top speed attained, CPU rated speed,\\nadd on cards and adapters, heat sinks, hour of usage per day, floppy disk\\nfunctionality with 800 and 1.4 m floppies are especially requested.\\n\\nI will be summarizing in the next two days, so please add to the network\\nknowledge base if you have done the clock upgrade and haven't answered this\\npoll. Thanks.</td>\n",
       "      <td>4</td>\n",
       "      <td>comp.sys.mac.hardware</td>\n",
       "      <td>A fair number of brave souls who upgraded their SI clock oscillator have shared their experiences for this poll Please send a brief message detailing your experiences with the procedure Top speed attained CPU rated speed add on cards and adapters heat sinks hour of usage per day floppy disk functionality with and m floppies are especially requested I will be summarizing in the next two days so please add to the network knowledge base if you have done the clock upgrade and haven t answered this poll Thanks</td>\n",
       "      <td>[fair, number, brave, soul, upgrade, SI, clock, oscillator, share, experience, poll, send, brief, message, detail, experience, procedure, speed, attain, CPU, rate, speed, add, card, adapter, heat, sink, hour, usage, day, floppy, disk, functionality, m, floppy, especially, request, summarize, day, add, network, knowledge, base, clock, upgrade, haven, t, answer, poll, thanks]</td>\n",
       "    </tr>\n",
       "    <tr>\n",
       "      <th>2</th>\n",
       "      <td>well folks, my mac plus finally gave up the ghost this weekend after\\nstarting life as a 512k way back in 1985.  sooo, i'm in the market for a\\nnew machine a bit sooner than i intended to be...\\n\\ni'm looking into picking up a powerbook 160 or maybe 180 and have a bunch\\nof questions that (hopefully) somebody can answer:\\n\\n* does anybody know any dirt on when the next round of powerbook\\nintroductions are expected?  i'd heard the 185c was supposed to make an\\nappearence \"this summer\" but haven't heard anymore on it - and since i\\ndon't have access to macleak, i was wondering if anybody out there had\\nmore info...\\n\\n* has anybody heard rumors about price drops to the powerbook line like the\\nones the duo's just went through recently?\\n\\n* what's the impression of the display on the 180?  i could probably swing\\na 180 if i got the 80Mb disk rather than the 120, but i don't really have\\na feel for how much \"better\" the display is (yea, it looks great in the\\nstore, but is that all \"wow\" or is it really that good?).  could i solicit\\nsome opinions of people who use the 160 and 180 day-to-day on if its worth\\ntaking the disk size and money hit to get the active display?  (i realize\\nthis is a real subjective question, but i've only played around with the\\nmachines in a computer store breifly and figured the opinions of somebody\\nwho actually uses the machine daily might prove helpful).\\n\\n* how well does hellcats perform?  ;)\\n\\nthanks a bunch in advance for any info - if you could email, i'll post a\\nsummary (news reading time is at a premium with finals just around the\\ncorner... :( )\\n--\\nTom Willis  \\  twillis@ecn.purdue.edu    \\    Purdue Electrical Engineering</td>\n",
       "      <td>4</td>\n",
       "      <td>comp.sys.mac.hardware</td>\n",
       "      <td>well folks my mac plus finally gave up the ghost this weekend after starting life as a k way back in sooo i m in the market for a new machine a bit sooner than i intended to be i m looking into picking up a powerbook or maybe and have a bunch of questions that hopefully somebody can answer does anybody know any dirt on when the next round of powerbook introductions are expected i d heard the c was supposed to make an appearence this summer but haven t heard anymore on it and since i don t have access to macleak i was wondering if anybody out there had more info has anybody heard rumors about price drops to the powerbook line like the ones the duo s just went through recently what s the impression of the display on the i could probably swing a if i got the Mb disk rather than the but i don t really have a feel for how much better the display is yea it looks great in the store but is that all wow or is it really that good could i solicit some opinions of people who use the and day to day on if its worth taking the disk size and money hit to get the active display i realize this is a real subjective question but i ve only played around with the machines in a computer store breifly and figured the opinions of somebody who actually uses the machine daily might prove helpful how well does hellcats perform thanks a bunch in advance for any info if you could email i ll post a summary news reading time is at a premium with finals just around the corner Tom Willis twillis ecn purdue edu Purdue Electrical Engineering</td>\n",
       "      <td>[folk, mac, plus, finally, give, ghost, weekend, start, life, k, way, sooo, m, market, new, machine, bit, soon, intend, m, look, pick, powerbook, maybe, bunch, question, hopefully, somebody, answer, anybody, know, dirt, round, powerbook, introduction, expect, d, hear, c, suppose, appearence, summer, haven, t, hear, anymore, don, t, access, macleak, wonder, anybody, info, anybody, hear, rumor, price, drop, powerbook, line, like, one, duo, s, go, recently, s, impression, display, probably, swing, get, Mb, disk, don, t, feel, well, display, yea, look, great, store, wow, good, solicit, opinion, people, use, day, day, worth, take, disk, size, money, hit, active, display, realize, ...]</td>\n",
       "    </tr>\n",
       "    <tr>\n",
       "      <th>3</th>\n",
       "      <td>\\nDo you have Weitek's address/phone number?  I'd like to get some information\\nabout this chip.\\n</td>\n",
       "      <td>1</td>\n",
       "      <td>comp.graphics</td>\n",
       "      <td>Do you have Weitek s address phone number I d like to get some information about this chip</td>\n",
       "      <td>[Weitek, s, address, phone, number, d, like, information, chip]</td>\n",
       "    </tr>\n",
       "    <tr>\n",
       "      <th>4</th>\n",
       "      <td>From article &lt;C5owCB.n3p@world.std.com&gt;, by tombaker@world.std.com (Tom A Baker):\\n\\n\\nMy understanding is that the 'expected errors' are basically\\nknown bugs in the warning system software - things are checked\\nthat don't have the right values in yet because they aren't\\nset till after launch, and suchlike. Rather than fix the code\\nand possibly introduce new bugs, they just tell the crew\\n'ok, if you see a warning no. 213 before liftoff, ignore it'.</td>\n",
       "      <td>14</td>\n",
       "      <td>sci.space</td>\n",
       "      <td>From article C owCB n p world std com by tombaker world std com Tom A Baker My understanding is that the expected errors are basically known bugs in the warning system software things are checked that don t have the right values in yet because they aren t set till after launch and suchlike Rather than fix the code and possibly introduce new bugs they just tell the crew ok if you see a warning no before liftoff ignore it</td>\n",
       "      <td>[article, C, owCB, n, p, world, std, com, tombaker, world, std, com, Tom, Baker, understanding, expect, error, basically, know, bug, warning, system, software, thing, check, don, t, right, value, aren, t, set, till, launch, suchlike, fix, code, possibly, introduce, new, bug, tell, crew, ok, warning, liftoff, ignore]</td>\n",
       "    </tr>\n",
       "  </tbody>\n",
       "</table>\n",
       "</div>"
      ],
      "text/plain": [
       "                                                                                                                                                                                                                                                                                                                                                                                                                                                                                                                                                                                                                                                                                                                                                                                                                                                                                                                                                                                                                                                                                                                                                                                                                                                                                                                                                                                                                                                                                                                                                                                                                                                                                                                                                       content  \\\n",
       "0  I was wondering if anyone out there could enlighten me on this car I saw\\nthe other day. It was a 2-door sports car, looked to be from the late 60s/\\nearly 70s. It was called a Bricklin. The doors were really small. In addition,\\nthe front bumper was separate from the rest of the body. This is \\nall I know. If anyone can tellme a model name, engine specs, years\\nof production, where this car is made, history, or whatever info you\\nhave on this funky looking car, please e-mail.                                                                                                                                                                                                                                                                                                                                                                                                                                                                                                                                                                                                                                                                                                                                                                                                                                                                                                                                                                                                                                                                                                                                                                                                                                                             \n",
       "1  A fair number of brave souls who upgraded their SI clock oscillator have\\nshared their experiences for this poll. Please send a brief message detailing\\nyour experiences with the procedure. Top speed attained, CPU rated speed,\\nadd on cards and adapters, heat sinks, hour of usage per day, floppy disk\\nfunctionality with 800 and 1.4 m floppies are especially requested.\\n\\nI will be summarizing in the next two days, so please add to the network\\nknowledge base if you have done the clock upgrade and haven't answered this\\npoll. Thanks.                                                                                                                                                                                                                                                                                                                                                                                                                                                                                                                                                                                                                                                                                                                                                                                                                                                                                                                                                                                                                                                                                                                                                                                                    \n",
       "2  well folks, my mac plus finally gave up the ghost this weekend after\\nstarting life as a 512k way back in 1985.  sooo, i'm in the market for a\\nnew machine a bit sooner than i intended to be...\\n\\ni'm looking into picking up a powerbook 160 or maybe 180 and have a bunch\\nof questions that (hopefully) somebody can answer:\\n\\n* does anybody know any dirt on when the next round of powerbook\\nintroductions are expected?  i'd heard the 185c was supposed to make an\\nappearence \"this summer\" but haven't heard anymore on it - and since i\\ndon't have access to macleak, i was wondering if anybody out there had\\nmore info...\\n\\n* has anybody heard rumors about price drops to the powerbook line like the\\nones the duo's just went through recently?\\n\\n* what's the impression of the display on the 180?  i could probably swing\\na 180 if i got the 80Mb disk rather than the 120, but i don't really have\\na feel for how much \"better\" the display is (yea, it looks great in the\\nstore, but is that all \"wow\" or is it really that good?).  could i solicit\\nsome opinions of people who use the 160 and 180 day-to-day on if its worth\\ntaking the disk size and money hit to get the active display?  (i realize\\nthis is a real subjective question, but i've only played around with the\\nmachines in a computer store breifly and figured the opinions of somebody\\nwho actually uses the machine daily might prove helpful).\\n\\n* how well does hellcats perform?  ;)\\n\\nthanks a bunch in advance for any info - if you could email, i'll post a\\nsummary (news reading time is at a premium with finals just around the\\ncorner... :( )\\n--\\nTom Willis  \\  twillis@ecn.purdue.edu    \\    Purdue Electrical Engineering   \n",
       "3  \\nDo you have Weitek's address/phone number?  I'd like to get some information\\nabout this chip.\\n                                                                                                                                                                                                                                                                                                                                                                                                                                                                                                                                                                                                                                                                                                                                                                                                                                                                                                                                                                                                                                                                                                                                                                                                                                                                                                                                                                                                                                                                                                                                                                                                                                                            \n",
       "4  From article <C5owCB.n3p@world.std.com>, by tombaker@world.std.com (Tom A Baker):\\n\\n\\nMy understanding is that the 'expected errors' are basically\\nknown bugs in the warning system software - things are checked\\nthat don't have the right values in yet because they aren't\\nset till after launch, and suchlike. Rather than fix the code\\nand possibly introduce new bugs, they just tell the crew\\n'ok, if you see a warning no. 213 before liftoff, ignore it'.                                                                                                                                                                                                                                                                                                                                                                                                                                                                                                                                                                                                                                                                                                                                                                                                                                                                                                                                                                                                                                                                                                                                                                                                                                                                                      \n",
       "\n",
       "   target           target_names  \\\n",
       "0  7       rec.autos               \n",
       "1  4       comp.sys.mac.hardware   \n",
       "2  4       comp.sys.mac.hardware   \n",
       "3  1       comp.graphics           \n",
       "4  14      sci.space               \n",
       "\n",
       "                                                                                                                                                                                                                                                                                                                                                                                                                                                                                                                                                                                                                                                                                                                                                                                                                                                                                                                                                                                                                                                                                                                                                                                                                                                                                                                                                                                                                                                                                                                                                                                    clean_text  \\\n",
       "0  I was wondering if anyone out there could enlighten me on this car I saw the other day It was a door sports car looked to be from the late s early s It was called a Bricklin The doors were really small In addition the front bumper was separate from the rest of the body This is all I know If anyone can tellme a model name engine specs years of production where this car is made history or whatever info you have on this funky looking car please e mail                                                                                                                                                                                                                                                                                                                                                                                                                                                                                                                                                                                                                                                                                                                                                                                                                                                                                                                                                                                                                                                                                                                          \n",
       "1  A fair number of brave souls who upgraded their SI clock oscillator have shared their experiences for this poll Please send a brief message detailing your experiences with the procedure Top speed attained CPU rated speed add on cards and adapters heat sinks hour of usage per day floppy disk functionality with and m floppies are especially requested I will be summarizing in the next two days so please add to the network knowledge base if you have done the clock upgrade and haven t answered this poll Thanks                                                                                                                                                                                                                                                                                                                                                                                                                                                                                                                                                                                                                                                                                                                                                                                                                                                                                                                                                                                                                                                                \n",
       "2  well folks my mac plus finally gave up the ghost this weekend after starting life as a k way back in sooo i m in the market for a new machine a bit sooner than i intended to be i m looking into picking up a powerbook or maybe and have a bunch of questions that hopefully somebody can answer does anybody know any dirt on when the next round of powerbook introductions are expected i d heard the c was supposed to make an appearence this summer but haven t heard anymore on it and since i don t have access to macleak i was wondering if anybody out there had more info has anybody heard rumors about price drops to the powerbook line like the ones the duo s just went through recently what s the impression of the display on the i could probably swing a if i got the Mb disk rather than the but i don t really have a feel for how much better the display is yea it looks great in the store but is that all wow or is it really that good could i solicit some opinions of people who use the and day to day on if its worth taking the disk size and money hit to get the active display i realize this is a real subjective question but i ve only played around with the machines in a computer store breifly and figured the opinions of somebody who actually uses the machine daily might prove helpful how well does hellcats perform thanks a bunch in advance for any info if you could email i ll post a summary news reading time is at a premium with finals just around the corner Tom Willis twillis ecn purdue edu Purdue Electrical Engineering   \n",
       "3  Do you have Weitek s address phone number I d like to get some information about this chip                                                                                                                                                                                                                                                                                                                                                                                                                                                                                                                                                                                                                                                                                                                                                                                                                                                                                                                                                                                                                                                                                                                                                                                                                                                                                                                                                                                                                                                                                                    \n",
       "4  From article C owCB n p world std com by tombaker world std com Tom A Baker My understanding is that the expected errors are basically known bugs in the warning system software things are checked that don t have the right values in yet because they aren t set till after launch and suchlike Rather than fix the code and possibly introduce new bugs they just tell the crew ok if you see a warning no before liftoff ignore it                                                                                                                                                                                                                                                                                                                                                                                                                                                                                                                                                                                                                                                                                                                                                                                                                                                                                                                                                                                                                                                                                                                                                       \n",
       "\n",
       "                                                                                                                                                                                                                                                                                                                                                                                                                                                                                                                                                                                                                                                                                                             lemmas  \n",
       "0  [wonder, enlighten, car, see, day, door, sport, car, look, late, s, early, s, call, Bricklin, door, small, addition, bumper, separate, rest, body, know, tellme, model, engine, spec, year, production, car, history, info, funky, look, car, e, mail]                                                                                                                                                                                                                                                                                                                                                                                                                                                            \n",
       "1  [fair, number, brave, soul, upgrade, SI, clock, oscillator, share, experience, poll, send, brief, message, detail, experience, procedure, speed, attain, CPU, rate, speed, add, card, adapter, heat, sink, hour, usage, day, floppy, disk, functionality, m, floppy, especially, request, summarize, day, add, network, knowledge, base, clock, upgrade, haven, t, answer, poll, thanks]                                                                                                                                                                                                                                                                                                                          \n",
       "2  [folk, mac, plus, finally, give, ghost, weekend, start, life, k, way, sooo, m, market, new, machine, bit, soon, intend, m, look, pick, powerbook, maybe, bunch, question, hopefully, somebody, answer, anybody, know, dirt, round, powerbook, introduction, expect, d, hear, c, suppose, appearence, summer, haven, t, hear, anymore, don, t, access, macleak, wonder, anybody, info, anybody, hear, rumor, price, drop, powerbook, line, like, one, duo, s, go, recently, s, impression, display, probably, swing, get, Mb, disk, don, t, feel, well, display, yea, look, great, store, wow, good, solicit, opinion, people, use, day, day, worth, take, disk, size, money, hit, active, display, realize, ...]  \n",
       "3  [Weitek, s, address, phone, number, d, like, information, chip]                                                                                                                                                                                                                                                                                                                                                                                                                                                                                                                                                                                                                                                   \n",
       "4  [article, C, owCB, n, p, world, std, com, tombaker, world, std, com, Tom, Baker, understanding, expect, error, basically, know, bug, warning, system, software, thing, check, don, t, right, value, aren, t, set, till, launch, suchlike, fix, code, possibly, introduce, new, bug, tell, crew, ok, warning, liftoff, ignore]                                                                                                                                                                                                                                                                                                                                                                                     "
      ]
     },
     "execution_count": 29,
     "metadata": {},
     "output_type": "execute_result"
    }
   ],
   "source": [
    "df.head()"
   ]
  },
  {
   "cell_type": "markdown",
   "metadata": {
    "colab_type": "text",
    "id": "cPuCuK0z3Lzs"
   },
   "source": [
    "### The two main inputs to the LDA topic model are the dictionary (id2word) and the corpus."
   ]
  },
  {
   "cell_type": "code",
   "execution_count": 30,
   "metadata": {
    "colab": {},
    "colab_type": "code",
    "id": "1klqRpqtJxWc"
   },
   "outputs": [
    {
     "name": "stderr",
     "output_type": "stream",
     "text": [
      "/opt/anaconda3/envs/U4-S1-NLP/lib/python3.8/site-packages/ipykernel/ipkernel.py:287: DeprecationWarning: `should_run_async` will not call `transform_cell` automatically in the future. Please pass the result to `transformed_cell` argument and any exception that happen during thetransform in `preprocessing_exc_tuple` in IPython 7.17 and above.\n",
      "  and should_run_async(code)\n"
     ]
    }
   ],
   "source": [
    "# Create Dictionary\n",
    "id2word = corpora.Dictionary(df['lemmas'])"
   ]
  },
  {
   "cell_type": "code",
   "execution_count": 31,
   "metadata": {},
   "outputs": [
    {
     "name": "stderr",
     "output_type": "stream",
     "text": [
      "/opt/anaconda3/envs/U4-S1-NLP/lib/python3.8/site-packages/ipykernel/ipkernel.py:287: DeprecationWarning: `should_run_async` will not call `transform_cell` automatically in the future. Please pass the result to `transformed_cell` argument and any exception that happen during thetransform in `preprocessing_exc_tuple` in IPython 7.17 and above.\n",
      "  and should_run_async(code)\n"
     ]
    },
    {
     "data": {
      "text/plain": [
       "79051"
      ]
     },
     "execution_count": 31,
     "metadata": {},
     "output_type": "execute_result"
    }
   ],
   "source": [
    "# How many words do we have?\n",
    "len(id2word.keys())"
   ]
  },
  {
   "cell_type": "code",
   "execution_count": 32,
   "metadata": {},
   "outputs": [
    {
     "name": "stderr",
     "output_type": "stream",
     "text": [
      "/opt/anaconda3/envs/U4-S1-NLP/lib/python3.8/site-packages/ipykernel/ipkernel.py:287: DeprecationWarning: `should_run_async` will not call `transform_cell` automatically in the future. Please pass the result to `transformed_cell` argument and any exception that happen during thetransform in `preprocessing_exc_tuple` in IPython 7.17 and above.\n",
      "  and should_run_async(code)\n"
     ]
    }
   ],
   "source": [
    "# Let's remove extreme values from the dataset\n",
    "id2word.filter_extremes(no_below=3, no_above=0.75)"
   ]
  },
  {
   "cell_type": "code",
   "execution_count": 33,
   "metadata": {},
   "outputs": [
    {
     "name": "stderr",
     "output_type": "stream",
     "text": [
      "/opt/anaconda3/envs/U4-S1-NLP/lib/python3.8/site-packages/ipykernel/ipkernel.py:287: DeprecationWarning: `should_run_async` will not call `transform_cell` automatically in the future. Please pass the result to `transformed_cell` argument and any exception that happen during thetransform in `preprocessing_exc_tuple` in IPython 7.17 and above.\n",
      "  and should_run_async(code)\n"
     ]
    },
    {
     "data": {
      "text/plain": [
       "22940"
      ]
     },
     "execution_count": 33,
     "metadata": {},
     "output_type": "execute_result"
    }
   ],
   "source": [
    "# How many words do we have?\n",
    "len(id2word.keys())"
   ]
  },
  {
   "cell_type": "code",
   "execution_count": 34,
   "metadata": {},
   "outputs": [
    {
     "name": "stderr",
     "output_type": "stream",
     "text": [
      "/opt/anaconda3/envs/U4-S1-NLP/lib/python3.8/site-packages/ipykernel/ipkernel.py:287: DeprecationWarning: `should_run_async` will not call `transform_cell` automatically in the future. Please pass the result to `transformed_cell` argument and any exception that happen during thetransform in `preprocessing_exc_tuple` in IPython 7.17 and above.\n",
      "  and should_run_async(code)\n"
     ]
    }
   ],
   "source": [
    "# Term Document Frequency\n",
    "corpus = [id2word.doc2bow(text) for text in df['lemmas']]"
   ]
  },
  {
   "cell_type": "code",
   "execution_count": 35,
   "metadata": {
    "colab": {},
    "colab_type": "code",
    "id": "ArZPxcP5LH1J"
   },
   "outputs": [
    {
     "name": "stderr",
     "output_type": "stream",
     "text": [
      "/opt/anaconda3/envs/U4-S1-NLP/lib/python3.8/site-packages/ipykernel/ipkernel.py:287: DeprecationWarning: `should_run_async` will not call `transform_cell` automatically in the future. Please pass the result to `transformed_cell` argument and any exception that happen during thetransform in `preprocessing_exc_tuple` in IPython 7.17 and above.\n",
      "  and should_run_async(code)\n"
     ]
    },
    {
     "data": {
      "text/plain": [
       "'hear'"
      ]
     },
     "execution_count": 35,
     "metadata": {},
     "output_type": "execute_result"
    }
   ],
   "source": [
    "id2word[109]"
   ]
  },
  {
   "cell_type": "code",
   "execution_count": 36,
   "metadata": {
    "colab": {},
    "colab_type": "code",
    "id": "_IIBnI2e3Lzw"
   },
   "outputs": [
    {
     "name": "stderr",
     "output_type": "stream",
     "text": [
      "/opt/anaconda3/envs/U4-S1-NLP/lib/python3.8/site-packages/ipykernel/ipkernel.py:287: DeprecationWarning: `should_run_async` will not call `transform_cell` automatically in the future. Please pass the result to `transformed_cell` argument and any exception that happen during thetransform in `preprocessing_exc_tuple` in IPython 7.17 and above.\n",
      "  and should_run_async(code)\n"
     ]
    },
    {
     "data": {
      "text/plain": [
       "'Of course The term must be rigidly defined in any bill I doubt she uses this term for that You are using a quote allegedly from her can you back it up I read the article as presenting first an argument about weapons of mass destruction as commonly understood and then switching to other topics The first point evidently was to show that not all weapons should be allowed and then the later analysis was given this understanding to consider another class'"
      ]
     },
     "execution_count": 36,
     "metadata": {},
     "output_type": "execute_result"
    }
   ],
   "source": [
    "df.iloc[5]['clean_text']"
   ]
  },
  {
   "cell_type": "code",
   "execution_count": 37,
   "metadata": {
    "colab": {},
    "colab_type": "code",
    "id": "bGFG9E2j3Lzz"
   },
   "outputs": [
    {
     "name": "stderr",
     "output_type": "stream",
     "text": [
      "/opt/anaconda3/envs/U4-S1-NLP/lib/python3.8/site-packages/ipykernel/ipkernel.py:287: DeprecationWarning: `should_run_async` will not call `transform_cell` automatically in the future. Please pass the result to `transformed_cell` argument and any exception that happen during thetransform in `preprocessing_exc_tuple` in IPython 7.17 and above.\n",
      "  and should_run_async(code)\n"
     ]
    },
    {
     "data": {
      "text/plain": [
       "[(105, 1),\n",
       " (163, 1),\n",
       " (180, 1),\n",
       " (206, 1),\n",
       " (210, 1),\n",
       " (211, 1),\n",
       " (212, 1),\n",
       " (213, 1),\n",
       " (214, 1),\n",
       " (215, 1),\n",
       " (216, 1),\n",
       " (217, 1),\n",
       " (218, 1),\n",
       " (219, 1),\n",
       " (220, 1),\n",
       " (221, 1),\n",
       " (222, 1),\n",
       " (223, 1),\n",
       " (224, 1),\n",
       " (225, 1),\n",
       " (226, 1),\n",
       " (227, 1),\n",
       " (228, 1),\n",
       " (229, 1),\n",
       " (230, 2),\n",
       " (231, 1),\n",
       " (232, 1),\n",
       " (233, 2)]"
      ]
     },
     "execution_count": 37,
     "metadata": {},
     "output_type": "execute_result"
    }
   ],
   "source": [
    "corpus[5]"
   ]
  },
  {
   "cell_type": "code",
   "execution_count": 38,
   "metadata": {
    "colab": {},
    "colab_type": "code",
    "id": "TB6wox963Lz2"
   },
   "outputs": [
    {
     "name": "stderr",
     "output_type": "stream",
     "text": [
      "/opt/anaconda3/envs/U4-S1-NLP/lib/python3.8/site-packages/ipykernel/ipkernel.py:287: DeprecationWarning: `should_run_async` will not call `transform_cell` automatically in the future. Please pass the result to `transformed_cell` argument and any exception that happen during thetransform in `preprocessing_exc_tuple` in IPython 7.17 and above.\n",
      "  and should_run_async(code)\n"
     ]
    },
    {
     "data": {
      "text/plain": [
       "'give'"
      ]
     },
     "execution_count": 38,
     "metadata": {},
     "output_type": "execute_result"
    }
   ],
   "source": [
    "id2word[105]"
   ]
  },
  {
   "cell_type": "code",
   "execution_count": 39,
   "metadata": {
    "colab": {},
    "colab_type": "code",
    "id": "kk3g75XX3Lz4"
   },
   "outputs": [
    {
     "name": "stderr",
     "output_type": "stream",
     "text": [
      "/opt/anaconda3/envs/U4-S1-NLP/lib/python3.8/site-packages/ipykernel/ipkernel.py:287: DeprecationWarning: `should_run_async` will not call `transform_cell` automatically in the future. Please pass the result to `transformed_cell` argument and any exception that happen during thetransform in `preprocessing_exc_tuple` in IPython 7.17 and above.\n",
      "  and should_run_async(code)\n"
     ]
    },
    {
     "data": {
      "text/plain": [
       "'understand'"
      ]
     },
     "execution_count": 39,
     "metadata": {},
     "output_type": "execute_result"
    }
   ],
   "source": [
    "id2word[232]"
   ]
  },
  {
   "cell_type": "code",
   "execution_count": 40,
   "metadata": {
    "colab": {},
    "colab_type": "code",
    "id": "6K2jWxHJLOzK"
   },
   "outputs": [
    {
     "name": "stderr",
     "output_type": "stream",
     "text": [
      "/opt/anaconda3/envs/U4-S1-NLP/lib/python3.8/site-packages/ipykernel/ipkernel.py:287: DeprecationWarning: `should_run_async` will not call `transform_cell` automatically in the future. Please pass the result to `transformed_cell` argument and any exception that happen during thetransform in `preprocessing_exc_tuple` in IPython 7.17 and above.\n",
      "  and should_run_async(code)\n"
     ]
    },
    {
     "data": {
      "text/plain": [
       "[('give', 1),\n",
       " ('use', 1),\n",
       " ('article', 1),\n",
       " ('understanding', 1),\n",
       " ('allegedly', 1),\n",
       " ('allow', 1),\n",
       " ('analysis', 1),\n",
       " ('argument', 1),\n",
       " ('bill', 1),\n",
       " ('class', 1),\n",
       " ('commonly', 1),\n",
       " ('consider', 1),\n",
       " ('course', 1),\n",
       " ('define', 1),\n",
       " ('destruction', 1),\n",
       " ('doubt', 1),\n",
       " ('evidently', 1),\n",
       " ('later', 1),\n",
       " ('mass', 1),\n",
       " ('point', 1),\n",
       " ('present', 1),\n",
       " ('quote', 1),\n",
       " ('read', 1),\n",
       " ('switch', 1),\n",
       " ('term', 2),\n",
       " ('topic', 1),\n",
       " ('understand', 1),\n",
       " ('weapon', 2)]"
      ]
     },
     "execution_count": 40,
     "metadata": {},
     "output_type": "execute_result"
    }
   ],
   "source": [
    "# Human readable format of corpus (term-frequency)\n",
    "[(id2word[word_id], word_count) for word_id, word_count in corpus[5]]"
   ]
  },
  {
   "cell_type": "markdown",
   "metadata": {
    "colab_type": "text",
    "id": "le-XzI923Lz8"
   },
   "source": [
    "# Part 2: Estimate a LDA Model with Gensim"
   ]
  },
  {
   "cell_type": "markdown",
   "metadata": {
    "colab_type": "text",
    "id": "AlNG4bSI3Lz8"
   },
   "source": [
    " ### Train an LDA model"
   ]
  },
  {
   "cell_type": "code",
   "execution_count": 41,
   "metadata": {
    "colab": {},
    "colab_type": "code",
    "id": "Fasvjf0VLQ2a"
   },
   "outputs": [
    {
     "name": "stderr",
     "output_type": "stream",
     "text": [
      "/opt/anaconda3/envs/U4-S1-NLP/lib/python3.8/site-packages/ipykernel/ipkernel.py:287: DeprecationWarning: `should_run_async` will not call `transform_cell` automatically in the future. Please pass the result to `transformed_cell` argument and any exception that happen during thetransform in `preprocessing_exc_tuple` in IPython 7.17 and above.\n",
      "  and should_run_async(code)\n"
     ]
    },
    {
     "name": "stdout",
     "output_type": "stream",
     "text": [
      "CPU times: user 4min 31s, sys: 37.1 s, total: 5min 8s\n",
      "Wall time: 1min 46s\n"
     ]
    }
   ],
   "source": [
    "%%time\n",
    "lda_model = gensim.models.ldamodel.LdaModel(corpus=corpus,\n",
    "                                            id2word=id2word,\n",
    "                                            num_topics=20, \n",
    "                                            chunksize=100,\n",
    "                                            passes=10,\n",
    "                                            per_word_topics=True)\n",
    "\n",
    "# https://radimrehurek.com/gensim/models/ldamodel.html"
   ]
  },
  {
   "cell_type": "code",
   "execution_count": 42,
   "metadata": {
    "colab": {},
    "colab_type": "code",
    "id": "49CabmIj3Lz_"
   },
   "outputs": [
    {
     "name": "stderr",
     "output_type": "stream",
     "text": [
      "/opt/anaconda3/envs/U4-S1-NLP/lib/python3.8/site-packages/ipykernel/ipkernel.py:287: DeprecationWarning: `should_run_async` will not call `transform_cell` automatically in the future. Please pass the result to `transformed_cell` argument and any exception that happen during thetransform in `preprocessing_exc_tuple` in IPython 7.17 and above.\n",
      "  and should_run_async(code)\n"
     ]
    }
   ],
   "source": [
    "lda_model.save('lda_model.model')"
   ]
  },
  {
   "cell_type": "raw",
   "metadata": {
    "colab": {},
    "colab_type": "code",
    "id": "XDgUshRE3L0C"
   },
   "source": [
    "%%time\n",
    "lda_multicore = gensim.models.ldamulticore.LdaMulticore(corpus=corpus,\n",
    "                                                        id2word=id2word,\n",
    "                                                        num_topics=20, \n",
    "                                                        chunksize=100,\n",
    "                                                        passes=10,\n",
    "                                                        per_word_topics=True,\n",
    "                                                        workers=12)\n",
    "\n",
    "# https://radimrehurek.com/gensim/models/ldamulticore.html"
   ]
  },
  {
   "cell_type": "raw",
   "metadata": {
    "colab": {},
    "colab_type": "code",
    "id": "Rgb9AaPq3L0E"
   },
   "source": [
    "lda_multicore.save('lda_multicore.model')"
   ]
  },
  {
   "cell_type": "code",
   "execution_count": 43,
   "metadata": {
    "colab": {},
    "colab_type": "code",
    "id": "VLxvJPoK3L0G"
   },
   "outputs": [
    {
     "name": "stderr",
     "output_type": "stream",
     "text": [
      "/opt/anaconda3/envs/U4-S1-NLP/lib/python3.8/site-packages/ipykernel/ipkernel.py:287: DeprecationWarning: `should_run_async` will not call `transform_cell` automatically in the future. Please pass the result to `transformed_cell` argument and any exception that happen during thetransform in `preprocessing_exc_tuple` in IPython 7.17 and above.\n",
      "  and should_run_async(code)\n"
     ]
    }
   ],
   "source": [
    "from gensim import models\n",
    "lda =  models.LdaModel.load('lda_model.model')"
   ]
  },
  {
   "cell_type": "markdown",
   "metadata": {
    "colab_type": "text",
    "id": "uDH3tzx13L0I"
   },
   "source": [
    "### View the topics in LDA model"
   ]
  },
  {
   "cell_type": "code",
   "execution_count": 44,
   "metadata": {
    "colab": {},
    "colab_type": "code",
    "id": "JawR8yscLVNS"
   },
   "outputs": [
    {
     "name": "stdout",
     "output_type": "stream",
     "text": [
      "[(0,\n",
      "  '0.046*\"evidence\" + 0.037*\"believe\" + 0.033*\"people\" + 0.030*\"reason\" + '\n",
      "  '0.027*\"law\" + 0.024*\"claim\" + 0.020*\"sense\" + 0.018*\"group\" + '\n",
      "  '0.016*\"belief\" + 0.015*\"fact\"'),\n",
      " (1,\n",
      "  '0.030*\"use\" + 0.028*\"file\" + 0.025*\"program\" + 0.023*\"thank\" + '\n",
      "  '0.021*\"system\" + 0.020*\"card\" + 0.016*\"entry\" + 0.016*\"work\" + 0.015*\"run\" '\n",
      "  '+ 0.015*\"problem\"'),\n",
      " (2,\n",
      "  '0.181*\"drive\" + 0.064*\"disk\" + 0.040*\"power\" + 0.034*\"hard\" + '\n",
      "  '0.029*\"motherboard\" + 0.025*\"past\" + 0.021*\"supply\" + 0.021*\"recommend\" + '\n",
      "  '0.020*\"factor\" + 0.020*\"air\"'),\n",
      " (3,\n",
      "  '0.033*\"space\" + 0.025*\"New\" + 0.019*\"s\" + 0.018*\"April\" + 0.018*\"speak\" + '\n",
      "  '0.016*\"year\" + 0.016*\"launch\" + 0.016*\"Space\" + 0.014*\"trade\" + '\n",
      "  '0.012*\"Center\"'),\n",
      " (4,\n",
      "  '0.319*\"S\" + 0.096*\"U\" + 0.090*\"C\" + 0.049*\"possibly\" + 0.041*\"pull\" + '\n",
      "  '0.031*\"benefit\" + 0.027*\"MS\" + 0.026*\"prefer\" + 0.020*\"Microsoft\" + '\n",
      "  '0.020*\"D\"'),\n",
      " (5,\n",
      "  '0.017*\"new\" + 0.017*\"good\" + 0.014*\"like\" + 0.012*\"buy\" + 0.011*\"car\" + '\n",
      "  '0.011*\"high\" + 0.011*\"old\" + 0.010*\"use\" + 0.010*\"sell\" + 0.009*\"pay\"'),\n",
      " (6,\n",
      "  '0.059*\"Jesus\" + 0.042*\"Bible\" + 0.038*\"man\" + 0.033*\"st\" + 0.027*\"vs\" + '\n",
      "  '0.026*\"season\" + 0.025*\"young\" + 0.023*\"John\" + 0.022*\"Christ\" + '\n",
      "  '0.020*\"come\"'),\n",
      " (7,\n",
      "  '0.609*\"x\" + 0.194*\"n\" + 0.014*\"resource\" + 0.009*\"C\" + 0.009*\"p\" + '\n",
      "  '0.007*\"warning\" + 0.006*\"introduce\" + 0.005*\"ok\" + 0.005*\"std\" + '\n",
      "  '0.005*\"define\"'),\n",
      " (8,\n",
      "  '0.100*\"t\" + 0.055*\"s\" + 0.036*\"don\" + 0.029*\"know\" + 0.028*\"think\" + '\n",
      "  '0.023*\"like\" + 0.021*\"go\" + 0.018*\"m\" + 0.015*\"get\" + 0.014*\"ve\"'),\n",
      " (9,\n",
      "  '0.247*\"com\" + 0.102*\"sale\" + 0.066*\"draw\" + 0.054*\"criminal\" + '\n",
      "  '0.036*\"agent\" + 0.025*\"San\" + 0.025*\"finish\" + 0.024*\"dog\" + 0.024*\"Inc\" + '\n",
      "  '0.023*\"Power\"'),\n",
      " (10,\n",
      "  '0.105*\"MD\" + 0.085*\"LA\" + 0.067*\"box\" + 0.040*\"function\" + 0.037*\"pp\" + '\n",
      "  '0.033*\"event\" + 0.032*\"widget\" + 0.028*\"button\" + 0.027*\"rs\" + '\n",
      "  '0.024*\"expand\"'),\n",
      " (11,\n",
      "  '0.065*\"Israel\" + 0.038*\"Mac\" + 0.027*\"solution\" + 0.023*\"compare\" + '\n",
      "  '0.022*\"newsgroup\" + 0.021*\"mb\" + 0.021*\"SCSI\" + 0.020*\"s\" + '\n",
      "  '0.020*\"controller\" + 0.018*\"speed\"'),\n",
      " (12,\n",
      "  '0.054*\"key\" + 0.035*\"game\" + 0.031*\"team\" + 0.027*\"year\" + 0.027*\"play\" + '\n",
      "  '0.022*\"win\" + 0.020*\"s\" + 0.016*\"chip\" + 0.016*\"number\" + '\n",
      "  '0.013*\"government\"'),\n",
      " (13,\n",
      "  '0.030*\"s\" + 0.027*\"God\" + 0.013*\"point\" + 0.012*\"case\" + 0.011*\"question\" + '\n",
      "  '0.011*\"way\" + 0.011*\"use\" + 0.010*\"time\" + 0.010*\"thing\" + 0.010*\"think\"'),\n",
      " (14,\n",
      "  '0.703*\"ax\" + 0.033*\"physical\" + 0.023*\"explain\" + 0.022*\"L\" + 0.018*\"q\" + '\n",
      "  '0.015*\"reality\" + 0.013*\"replace\" + 0.012*\"family\" + 0.008*\"direct\" + '\n",
      "  '0.008*\"warranty\"'),\n",
      " (15,\n",
      "  '0.068*\"M\" + 0.061*\"m\" + 0.059*\"p\" + 0.054*\"g\" + 0.054*\"c\" + 0.052*\"t\" + '\n",
      "  '0.051*\"W\" + 0.049*\"w\" + 0.048*\"s\" + 0.048*\"v\"'),\n",
      " (16,\n",
      "  '0.165*\"r\" + 0.139*\"X\" + 0.130*\"f\" + 0.114*\"q\" + 0.050*\"y\" + 0.044*\"t\" + '\n",
      "  '0.031*\"c\" + 0.028*\"SC\" + 0.016*\"z\" + 0.015*\"telnet\"'),\n",
      " (17,\n",
      "  '0.023*\"cause\" + 0.022*\"child\" + 0.019*\"day\" + 0.018*\"patient\" + '\n",
      "  '0.018*\"order\" + 0.015*\"lose\" + 0.014*\"matter\" + 0.013*\"die\" + 0.011*\"call\" '\n",
      "  '+ 0.011*\"find\"'),\n",
      " (18,\n",
      "  '0.020*\"government\" + 0.019*\"people\" + 0.015*\"village\" + 0.015*\"soldier\" + '\n",
      "  '0.015*\"country\" + 0.014*\"kill\" + 0.012*\"attack\" + 0.012*\"city\" + '\n",
      "  '0.011*\"war\" + 0.011*\"military\"'),\n",
      " (19,\n",
      "  '0.034*\"edu\" + 0.021*\"send\" + 0.018*\"mail\" + 0.018*\"information\" + '\n",
      "  '0.017*\"list\" + 0.016*\"include\" + 0.015*\"source\" + 0.014*\"available\" + '\n",
      "  '0.014*\"e\" + 0.014*\"message\"')]\n"
     ]
    },
    {
     "name": "stderr",
     "output_type": "stream",
     "text": [
      "/opt/anaconda3/envs/U4-S1-NLP/lib/python3.8/site-packages/ipykernel/ipkernel.py:287: DeprecationWarning: `should_run_async` will not call `transform_cell` automatically in the future. Please pass the result to `transformed_cell` argument and any exception that happen during thetransform in `preprocessing_exc_tuple` in IPython 7.17 and above.\n",
      "  and should_run_async(code)\n"
     ]
    }
   ],
   "source": [
    "# View the top 10 words per topic\n",
    "pprint(lda.print_topics())"
   ]
  },
  {
   "cell_type": "code",
   "execution_count": 45,
   "metadata": {},
   "outputs": [
    {
     "name": "stderr",
     "output_type": "stream",
     "text": [
      "/opt/anaconda3/envs/U4-S1-NLP/lib/python3.8/site-packages/ipykernel/ipkernel.py:287: DeprecationWarning: `should_run_async` will not call `transform_cell` automatically in the future. Please pass the result to `transformed_cell` argument and any exception that happen during thetransform in `preprocessing_exc_tuple` in IPython 7.17 and above.\n",
      "  and should_run_async(code)\n"
     ]
    },
    {
     "data": {
      "text/plain": [
       "[(5, 0.36730012),\n",
       " (8, 0.15100342),\n",
       " (11, 0.09547115),\n",
       " (13, 0.060818713),\n",
       " (16, 0.029684462),\n",
       " (17, 0.17710817),\n",
       " (19, 0.100028284)]"
      ]
     },
     "execution_count": 45,
     "metadata": {},
     "output_type": "execute_result"
    }
   ],
   "source": [
    "# Extract Document-Topic distributions for each document in corpus\n",
    "doc_lda = lda[corpus]\n",
    "doc_lda[0][0]"
   ]
  },
  {
   "cell_type": "code",
   "execution_count": 46,
   "metadata": {},
   "outputs": [
    {
     "name": "stderr",
     "output_type": "stream",
     "text": [
      "/opt/anaconda3/envs/U4-S1-NLP/lib/python3.8/site-packages/ipykernel/ipkernel.py:287: DeprecationWarning: `should_run_async` will not call `transform_cell` automatically in the future. Please pass the result to `transformed_cell` argument and any exception that happen during thetransform in `preprocessing_exc_tuple` in IPython 7.17 and above.\n",
      "  and should_run_async(code)\n"
     ]
    },
    {
     "data": {
      "text/plain": [
       "[(0, 0.09090702), (5, 0.041159622), (8, 0.07148543), (13, 0.7697753)]"
      ]
     },
     "execution_count": 46,
     "metadata": {},
     "output_type": "execute_result"
    }
   ],
   "source": [
    "doc_lda[5][0]"
   ]
  },
  {
   "cell_type": "markdown",
   "metadata": {
    "colab_type": "text",
    "id": "gKEP0bIC3L0K"
   },
   "source": [
    "### What is topic Perplexity?\n",
    "Perplexity is a statistical measure of how well a probability model predicts a sample. As applied to LDA, for a given value of , you estimate the LDA model. Then given the theoretical word distributions represented by the topics, compare that to the actual topic mixtures, or distribution of words in your documents.\n",
    "\n",
    "### What is topic coherence?\n",
    "Topic Coherence measures score a single topic by measuring the degree of semantic similarity between high scoring words in the topic. These measurements help distinguish between topics that are semantically interpretable topics and topics that are artifacts of statistical inference.\n",
    "A set of statements or facts is said to be coherent, if they support each other. Thus, a coherent fact set can be interpreted in a context that covers all or most of the facts. An example of a coherent fact set is “the game is a team sport”, “the game is played with a ball”, “the game demands great physical efforts”"
   ]
  },
  {
   "cell_type": "code",
   "execution_count": 47,
   "metadata": {
    "colab": {},
    "colab_type": "code",
    "id": "xCjhr8k4LXSy"
   },
   "outputs": [
    {
     "name": "stderr",
     "output_type": "stream",
     "text": [
      "/opt/anaconda3/envs/U4-S1-NLP/lib/python3.8/site-packages/ipykernel/ipkernel.py:287: DeprecationWarning: `should_run_async` will not call `transform_cell` automatically in the future. Please pass the result to `transformed_cell` argument and any exception that happen during thetransform in `preprocessing_exc_tuple` in IPython 7.17 and above.\n",
      "  and should_run_async(code)\n"
     ]
    },
    {
     "name": "stdout",
     "output_type": "stream",
     "text": [
      "\n",
      "Perplexity:  -14.269095673042283\n",
      "\n",
      "Coherence Score:  0.5442799406979267\n"
     ]
    }
   ],
   "source": [
    "# Compute Perplexity\n",
    "print('\\nPerplexity: ', lda.log_perplexity(corpus))  # a measure of how good the model is. lower the better.\n",
    "\n",
    "# Compute Coherence Score\n",
    "coherence_model_lda = CoherenceModel(model=lda, \n",
    "                                     texts=df['lemmas'], \n",
    "                                     dictionary=id2word, \n",
    "                                     coherence='c_v')\n",
    "coherence_lda = coherence_model_lda.get_coherence()\n",
    "print('\\nCoherence Score: ', coherence_lda)"
   ]
  },
  {
   "cell_type": "markdown",
   "metadata": {
    "colab_type": "text",
    "id": "7UvfgYt93L0X"
   },
   "source": [
    "# Part 3: Interpret LDA results & Select the appropriate number of topics"
   ]
  },
  {
   "cell_type": "code",
   "execution_count": 48,
   "metadata": {
    "colab": {},
    "colab_type": "code",
    "id": "CYXi480VLaHK"
   },
   "outputs": [
    {
     "name": "stderr",
     "output_type": "stream",
     "text": [
      "/opt/anaconda3/envs/U4-S1-NLP/lib/python3.8/site-packages/ipykernel/ipkernel.py:287: DeprecationWarning: `should_run_async` will not call `transform_cell` automatically in the future. Please pass the result to `transformed_cell` argument and any exception that happen during thetransform in `preprocessing_exc_tuple` in IPython 7.17 and above.\n",
      "  and should_run_async(code)\n"
     ]
    },
    {
     "data": {
      "text/html": [
       "\n",
       "<link rel=\"stylesheet\" type=\"text/css\" href=\"https://cdn.rawgit.com/bmabey/pyLDAvis/files/ldavis.v1.0.0.css\">\n",
       "\n",
       "\n",
       "<div id=\"ldavis_el10829140356624142224390214325\"></div>\n",
       "<script type=\"text/javascript\">\n",
       "\n",
       "var ldavis_el10829140356624142224390214325_data = {\"mdsDat\": {\"x\": [0.27921277673869854, 0.2328380115503322, -0.09080667675644341, 0.22797521353630676, -0.13898350197201167, 0.17629074899148675, 0.07039989175842498, 0.1069472671075831, 0.08372482744171866, 0.11194706014173439, 0.1297534977067906, -0.14565966861692448, -0.006676060927836632, -0.02474885264232231, -0.036139612052961234, -0.1496665831301521, -0.1868686969245306, -0.2084774303475483, -0.2081601624113004, -0.22290204919104525], \"y\": [0.0015367581107278345, 0.15637805721923054, 0.3480890606035214, 0.014096791628855678, 0.1656957586282814, -0.010075188754842132, -0.038314346414147604, -0.07254149432418786, -0.09573425451528599, -0.03645616224144441, -0.07093493508547359, 0.27869985923675533, -0.08049662805017647, -0.04498070821588939, -0.080827799056434, -0.0933491845658931, -0.062130977722172735, -0.11563830204383455, -0.12795017583509533, -0.035066128602494445], \"topics\": [1, 2, 3, 4, 5, 6, 7, 8, 9, 10, 11, 12, 13, 14, 15, 16, 17, 18, 19, 20], \"cluster\": [1, 1, 1, 1, 1, 1, 1, 1, 1, 1, 1, 1, 1, 1, 1, 1, 1, 1, 1, 1], \"Freq\": [12.02902138174163, 11.967704128696921, 10.504156300931498, 8.956048636501674, 7.624051185188711, 7.292078863241959, 6.99731371780799, 5.089807483203001, 4.80050202902032, 4.479421458361515, 4.373280482048737, 3.6441707071372975, 3.5480395805037848, 2.1658542117556947, 2.0291558626175874, 1.351302571936132, 1.3258024540783517, 0.6654189312555475, 0.6107208594021248, 0.5461491545695217]}, \"tinfo\": {\"Term\": [\"ax\", \"x\", \"t\", \"S\", \"r\", \"X\", \"M\", \"f\", \"q\", \"c\", \"m\", \"g\", \"p\", \"W\", \"w\", \"o\", \"n\", \"v\", \"s\", \"drive\", \"don\", \"h\", \"d\", \"com\", \"key\", \"z\", \"people\", \"J\", \"God\", \"think\", \"God\", \"rule\", \"word\", \"argument\", \"accept\", \"serial\", \"value\", \"black\", \"spend\", \"quote\", \"risk\", \"personal\", \"apply\", \"logic\", \"term\", \"universe\", \"picture\", \"reasonable\", \"approach\", \"dangerous\", \"gift\", \"following\", \"nature\", \"determine\", \"mirror\", \"anti\", \"thought\", \"personally\", \"debate\", \"topic\", \"contain\", \"certain\", \"self\", \"example\", \"case\", \"opinion\", \"question\", \"involve\", \"answer\", \"point\", \"correct\", \"give\", \"course\", \"way\", \"important\", \"make\", \"mean\", \"thing\", \"s\", \"read\", \"different\", \"use\", \"time\", \"think\", \"good\", \"system\", \"far\", \"possible\", \"know\", \"number\", \"state\", \"like\", \"don\", \"didn\", \"gun\", \"wouldn\", \"weapon\", \"wire\", \"character\", \"oh\", \"bike\", \"aren\", \"bomb\", \"firearm\", \"watch\", \"haven\", \"wasn\", \"somebody\", \"steal\", \"left\", \"abuse\", \"effective\", \"cop\", \"hate\", \"gang\", \"bet\", \"lock\", \"ammunition\", \"hurt\", \"threat\", \"damn\", \"corner\", \"doesn\", \"maybe\", \"obviously\", \"hell\", \"go\", \"Don\", \"will\", \"isn\", \"think\", \"ve\", \"t\", \"see\", \"know\", \"tell\", \"get\", \"let\", \"like\", \"want\", \"talk\", \"s\", \"bad\", \"come\", \"say\", \"thing\", \"hear\", \"try\", \"sure\", \"time\", \"m\", \"people\", \"happen\", \"right\", \"good\", \"look\", \"d\", \"g\", \"W\", \"w\", \"o\", \"h\", \"J\", \"K\", \"k\", \"MR\", \"graphic\", \"BC\", \"brand\", \"M\", \"locate\", \"rm\", \"GN\", \"SI\", \"H\", \"OpenWindows\", \"rn\", \"ultra\", \"saying\", \"dec\", \"B\", \"liter\", \"Sparc\", \"b\", \"v\", \"p\", \"G\", \"V\", \"c\", \"z\", \"m\", \"e\", \"d\", \"F\", \"S\", \"T\", \"P\", \"D\", \"t\", \"s\", \"U\", \"buy\", \"car\", \"sell\", \"bus\", \"engine\", \"signal\", \"purchase\", \"load\", \"Apr\", \"belt\", \"kid\", \"switch\", \"edge\", \"trap\", \"piece\", \"expensive\", \"generate\", \"poor\", \"dealer\", \"doctor\", \"mile\", \"cycle\", \"son\", \"insurance\", \"sport\", \"ring\", \"pointer\", \"Team\", \"ensure\", \"electronic\", \"low\", \"rate\", \"manual\", \"cost\", \"pay\", \"transfer\", \"model\", \"price\", \"offer\", \"publish\", \"weight\", \"unit\", \"condition\", \"job\", \"high\", \"company\", \"new\", \"old\", \"money\", \"local\", \"lot\", \"good\", \"month\", \"light\", \"like\", \"cover\", \"usually\", \"need\", \"look\", \"use\", \"etc\", \"end\", \"work\", \"year\", \"order\", \"get\", \"d\", \"ax\", \"physical\", \"explain\", \"reality\", \"replace\", \"family\", \"direct\", \"warranty\", \"concept\", \"catch\", \"wife\", \"acquire\", \"daughter\", \"being\", \"customer\", \"definitely\", \"cartridge\", \"Greeks\", \"Adam\", \"replacement\", \"consistently\", \"stereo\", \"partner\", \"Sony\", \"imagination\", \"loop\", \"deletion\", \"sister\", \"evolve\", \"Eve\", \"L\", \"q\", \"p\", \"t\", \"d\", \"e\", \"m\", \"F\", \"file\", \"card\", \"entry\", \"window\", \"cpu\", \"application\", \"video\", \"screen\", \"user\", \"display\", \"Windows\", \"hardware\", \"format\", \"port\", \"mouse\", \"algorithm\", \"RSA\", \"DES\", \"digital\", \"tax\", \"manager\", \"crash\", \"background\", \"ram\", \"default\", \"privacy\", \"System\", \"strange\", \"ATI\", \"tap\", \"memory\", \"software\", \"program\", \"advance\", \"driver\", \"thank\", \"package\", \"mode\", \"image\", \"machine\", \"input\", \"use\", \"system\", \"run\", \"version\", \"help\", \"work\", \"problem\", \"set\", \"need\", \"bit\", \"know\", \"build\", \"try\", \"edu\", \"section\", \"easy\", \"code\", \"pin\", \"server\", \"scan\", \"request\", \"gov\", \"contact\", \"review\", \"USA\", \"archive\", \"update\", \"floppy\", \"plane\", \"procedure\", \"Robert\", \"btw\", \"cable\", \"pub\", \"imaging\", \"FAQ\", \"modify\", \"insert\", \"Medical\", \"Computer\", \"Society\", \"Box\", \"animal\", \"release\", \"message\", \"test\", \"mail\", \"list\", \"send\", \"information\", \"available\", \"source\", \"reference\", \"copy\", \"date\", \"include\", \"book\", \"post\", \"email\", \"article\", \"e\", \"receive\", \"type\", \"s\", \"group\", \"cause\", \"patient\", \"lose\", \"die\", \"ftp\", \"sorry\", \"drug\", \"Paul\", \"treatment\", \"main\", \"health\", \"refer\", \"deny\", \"object\", \"disease\", \"step\", \"earth\", \"camp\", \"room\", \"blind\", \"table\", \"trial\", \"aware\", \"description\", \"fear\", \"trouble\", \"welcome\", \"Church\", \"map\", \"male\", \"matter\", \"site\", \"child\", \"soon\", \"authority\", \"story\", \"eat\", \"day\", \"reduce\", \"age\", \"order\", \"report\", \"call\", \"week\", \"body\", \"return\", \"find\", \"increase\", \"take\", \"receive\", \"year\", \"suggest\", \"time\", \"start\", \"village\", \"soldier\", \"country\", \"city\", \"war\", \"civilian\", \"wait\", \"Armenians\", \"cd\", \"withdraw\", \"terrorism\", \"turkish\", \"population\", \"greek\", \"printer\", \"armenian\", \"occupy\", \"land\", \"route\", \"minority\", \"Turks\", \"town\", \"Germany\", \"Turkey\", \"link\", \"buffer\", \"girl\", \"civil\", \"Northern\", \"Europe\", \"fire\", \"military\", \"arm\", \"attack\", \"murder\", \"kill\", \"government\", \"Jews\", \"death\", \"force\", \"Mr\", \"people\", \"state\", \"live\", \"say\", \"right\", \"million\", \"year\", \"key\", \"game\", \"team\", \"play\", \"encryption\", \"private\", \"miss\", \"terrorist\", \"stand\", \"fan\", \"hit\", \"enforcement\", \"goal\", \"NSA\", \"secure\", \"average\", \"score\", \"minor\", \"Clipper\", \"master\", \"listen\", \"secret\", \"middle\", \"division\", \"exact\", \"Dave\", \"okay\", \"homosexual\", \"club\", \"Blue\", \"round\", \"guy\", \"win\", \"block\", \"chip\", \"security\", \"phone\", \"year\", \"public\", \"government\", \"number\", \"s\", \"run\", \"good\", \"evidence\", \"law\", \"belief\", \"religion\", \"truth\", \"atheist\", \"religious\", \"alt\", \"Iran\", \"moral\", \"necessarily\", \"peace\", \"flame\", \"pro\", \"meaning\", \"responsible\", \"understanding\", \"absolute\", \"origin\", \"concerned\", \"al\", \"penalty\", \"found\", \"Qur\", \"thinking\", \"domain\", \"social\", \"progress\", \"islamic\", \"Islam\", \"statement\", \"believe\", \"claim\", \"discussion\", \"parent\", \"conclusion\", \"observation\", \"sense\", \"reason\", \"human\", \"faith\", \"group\", \"crime\", \"person\", \"act\", \"people\", \"fact\", \"exist\", \"life\", \"true\", \"issue\", \"prove\", \"Christians\", \"book\", \"state\", \"consider\", \"post\", \"say\", \"right\", \"r\", \"f\", \"y\", \"SC\", \"telnet\", \"session\", \"font\", \"directory\", \"SS\", \"ST\", \"ah\", \"gif\", \"helmet\", \"Control\", \"VW\", \"Plus\", \"MO\", \"SR\", \"Access\", \"parameter\", \"oo\", \"MIT\", \"Adobe\", \"deck\", \"arbitrary\", \"rotate\", \"TC\", \"List\", \"LX\", \"worthless\", \"X\", \"q\", \"MA\", \"IV\", \"c\", \"t\", \"R\", \"z\", \"T\", \"v\", \"d\", \"F\", \"b\", \"New\", \"April\", \"speak\", \"launch\", \"Space\", \"trade\", \"Center\", \"NASA\", \"Earth\", \"orbit\", \"York\", \"Washington\", \"satellite\", \"Chicago\", \"mission\", \"Research\", \"prior\", \"Press\", \"particularly\", \"proof\", \"schedule\", \"shuttle\", \"consideration\", \"wing\", \"Mars\", \"captain\", \"South\", \"status\", \"City\", \"routine\", \"space\", \"Dr\", \"California\", \"National\", \"research\", \"report\", \"meet\", \"year\", \"technology\", \"s\", \"program\", \"University\", \"Israel\", \"Mac\", \"solution\", \"compare\", \"newsgroup\", \"SCSI\", \"controller\", \"notice\", \"internal\", \"hole\", \"fix\", \"Bill\", \"IDE\", \"thread\", \"door\", \"Apple\", \"IBM\", \"biblical\", \"implementation\", \"decent\", \"cross\", \"resolution\", \"Bay\", \"unlikely\", \"configuration\", \"expansion\", \"rom\", \"mac\", \"icon\", \"bible\", \"MB\", \"external\", \"mb\", \"speed\", \"fast\", \"slow\", \"board\", \"bit\", \"wide\", \"chip\", \"s\", \"read\", \"pc\", \"machine\", \"Jesus\", \"st\", \"vs\", \"season\", \"young\", \"Christ\", \"Christianity\", \"Mark\", \"insist\", \"Lord\", \"Christian\", \"interpretation\", \"Law\", \"upgrade\", \"waste\", \"Toronto\", \"Office\", \"fax\", \"clock\", \"regular\", \"PS\", \"soul\", \"regardless\", \"Mail\", \"heaven\", \"Man\", \"follower\", \"advantage\", \"Hall\", \"Jew\", \"Bible\", \"John\", \"James\", \"man\", \"letter\", \"Christians\", \"St\", \"christian\", \"faith\", \"come\", \"appear\", \"s\", \"address\", \"believe\", \"drive\", \"disk\", \"motherboard\", \"recommend\", \"factor\", \"output\", \"circuit\", \"hot\", \"heat\", \"shouldn\", \"water\", \"industry\", \"rational\", \"nuclear\", \"Koresh\", \"plug\", \"voltage\", \"predict\", \"cool\", \"registration\", \"ice\", \"thermal\", \"org\", \"speaker\", \"meg\", \"unable\", \"solid\", \"canadian\", \"Mb\", \"ns\", \"air\", \"past\", \"supply\", \"power\", \"hard\", \"pattern\", \"medium\", \"x\", \"n\", \"warning\", \"introduce\", \"std\", \"la\", \"appoint\", \"territorial\", \"resource\", \"accessory\", \"ruler\", \"blooded\", \"carve\", \"flag\", \"ok\", \"DC\", \"define\", \"de\", \"C\", \"return\", \"u\", \"Y\", \"l\", \"cx\", \"N\", \"CX\", \"remark\", \"j\", \"Z\", \"winner\", \"Q\", \"p\", \"MD\", \"LA\", \"box\", \"pp\", \"widget\", \"button\", \"rs\", \"expand\", \"blue\", \"London\", \"COM\", \"flow\", \"scope\", \"wow\", \"Cambridge\", \"Mexico\", \"Avenue\", \"dialog\", \"Technical\", \"ATF\", \"callback\", \"tiff\", \"Happy\", \"Interface\", \"Vegas\", \"birthday\", \"Las\", \"Firearms\", \"Drug\", \"rd\", \"function\", \"event\", \"th\", \"G\", \"MA\", \"com\", \"sale\", \"criminal\", \"agent\", \"finish\", \"dog\", \"Power\", \"Systems\", \"NIST\", \"joke\", \"Stephen\", \"garage\", \"draw\", \"tricky\", \"Golden\", \"Boulder\", \"Jose\", \"Inc\", \"San\", \"style\", \"address\", \"drum\", \"amoco\", \"song\", \"velocity\", \"hr\", \"sensitive\", \"pad\", \"nist\", \"ncsl\", \"pts\", \"PT\", \"possibly\", \"pull\", \"benefit\", \"prefer\", \"Microsoft\", \"enable\", \"Doug\", \"Hill\", \"MVP\", \"Roberts\", \"efficiently\", \"MS\", \"NL\", \"U\", \"S\", \"C\", \"D\", \"cx\", \"CX\", \"Y\", \"CK\", \"LK\", \"qs\", \"MC\", \"SJ\", \"hz\", \"WW\", \"CJ\", \"GCX\", \"GC\", \"RIPEM\", \"u\", \"Z\", \"Q\", \"N\"], \"Freq\": [63849.0, 9615.0, 23312.0, 5309.0, 7164.0, 6502.0, 8596.0, 5660.0, 6570.0, 8086.0, 10621.0, 6760.0, 8163.0, 6331.0, 6132.0, 5910.0, 3061.0, 6610.0, 22771.0, 2918.0, 5120.0, 4730.0, 8395.0, 1796.0, 2900.0, 4456.0, 5552.0, 3718.0, 3927.0, 5406.0, 3925.44203592544, 973.3685902650054, 932.2083810689214, 910.5176503256039, 885.5895000702217, 745.5067827149214, 661.056702499946, 557.681783580123, 542.4812681193581, 536.3968393009602, 527.2019034722326, 517.4281732564858, 508.783947629111, 477.0518864068614, 454.9264178060894, 394.7833003478593, 392.405183538081, 377.3438882566175, 359.6371760894481, 338.0704226835679, 327.2946006932804, 317.58881286019704, 315.307322993264, 313.8794989790003, 307.2651062341719, 305.15849212192927, 303.2625761104646, 297.5195269123711, 272.14823355631825, 271.47147806086383, 672.8656022605986, 545.3512250738368, 593.9101496108856, 944.7576760236645, 1747.525845231007, 640.0314535528486, 1578.6303543806207, 505.7284082410834, 852.7235982214331, 1876.059491574279, 646.7253625668324, 1237.997866806573, 1050.5269218651827, 1552.3424892643368, 499.8912336606256, 861.9883109105101, 1174.6479489365654, 1462.8646727322691, 4239.533166921131, 1020.145836719221, 817.4290480411504, 1523.1059847779125, 1473.0699721621945, 1369.7774046134055, 1258.2334231410348, 1012.435827192003, 794.3182314439903, 724.7106767078818, 1011.1885157820468, 833.9917132150184, 760.9342730966606, 802.6939228922669, 5118.632290340725, 1173.7996713573664, 1150.378187491312, 703.9182552020268, 686.3590777833391, 685.358112020414, 599.4946025395822, 594.434223509894, 568.1103902353738, 538.8781348586266, 456.14196311249833, 449.75133230790016, 404.27014126367, 391.7996489281043, 327.0915130168012, 309.77567474211065, 292.69351903281336, 292.55899061473554, 243.18533560599923, 238.90699011470036, 224.9426482979782, 201.35360122346717, 201.09960997729857, 196.69471684852073, 148.41125969846965, 146.32865757953903, 145.72291467288088, 139.8515157769318, 137.19336829955486, 133.08149094078863, 1365.9750098668555, 842.977964717549, 420.1641727793665, 444.40334651958335, 2948.7147903585555, 435.07658487346475, 1741.3116855604808, 739.1623114818487, 4014.915221609873, 2026.843773074559, 14318.083993400647, 1327.8623856116224, 4141.719438696274, 1820.2638722268332, 2074.2122445137916, 1206.9224660197226, 3323.760109488115, 1923.2399008857687, 1043.652486131558, 7845.1924127439315, 1057.4789147500728, 2018.0599367979944, 1980.4424195969596, 1747.1461173479597, 1095.3390078603697, 1519.0796322398235, 1185.8290472002068, 1986.4884333266348, 2605.0571346815714, 1809.914276483425, 913.345087979632, 1291.4290105099187, 1572.3462489748495, 1318.6284399461065, 1177.9156967309968, 6758.652680559184, 6329.909792035365, 6130.876790535307, 5909.215461722033, 4728.448492973229, 3717.3469114816767, 3290.7556177269976, 2719.4787795589486, 1062.6760117916328, 617.8693852257333, 256.9184211192641, 220.53223087602552, 8530.801572450611, 192.04904173288224, 151.4722338836621, 123.61301071868759, 68.94960222744933, 629.8282234358957, 43.81882852893159, 43.28678415964584, 36.81707642562583, 33.50373713072072, 27.22614257385272, 2383.5068136427944, 25.53545741658577, 16.745621041562703, 3911.5247277743956, 5975.604533068454, 7328.309880949423, 1068.042882304693, 963.3210437548057, 6733.508800167385, 3762.5970418874545, 7582.606293514672, 4194.724369876483, 5515.719209275563, 1338.7016907629366, 3234.167090845033, 1261.716469543869, 646.6771980354815, 1008.3263411300795, 6457.832050497227, 6050.159598597166, 806.0225497585565, 1308.8081994821102, 1215.8176093245397, 1112.1765771028613, 491.62956704960214, 479.88228411520157, 415.2667646316889, 387.47897863752496, 379.76868498036913, 372.86520311081813, 362.13770305856207, 355.5523864948928, 343.75474145931145, 341.3838238626481, 325.1532460876788, 291.43182117244237, 288.94475784243457, 285.9841963944711, 285.60369929669395, 277.7731623979615, 276.32413448676874, 268.9124374295132, 260.06132298037306, 249.11332731846005, 239.1807935300104, 231.70713718160786, 218.6176843840327, 215.97558624254972, 215.94757418627165, 215.8649535202813, 206.88603406437244, 990.3655543764719, 1001.5597481996799, 388.37375026851356, 924.4284519044784, 1004.9328169763979, 455.6468390912586, 720.2859727687556, 969.0738089332825, 848.3374756993486, 565.6261950470481, 376.89975871650677, 362.5350371901659, 585.5590080933858, 428.5195465907364, 1164.412903382424, 532.3388825039721, 1789.9280800837248, 1162.7251273249037, 727.8844417012483, 616.1598452391554, 879.5605877619762, 1760.150469591872, 563.1467803990736, 509.0046409572731, 1448.5834929665725, 530.9748344301761, 498.0187495525584, 992.1444192836624, 924.3247476961297, 1119.7302962787821, 713.6823291682663, 728.5317983351638, 920.1133039017277, 908.7078276540394, 628.321349005753, 596.0164451030674, 579.852991962956, 63847.73163595928, 2952.948300086995, 2074.140201108219, 1345.7435484685398, 1181.3648109650674, 1121.4831872757395, 761.423779545629, 759.6360954843486, 667.8548686236677, 590.2254429610276, 537.857275860271, 479.31808527793225, 435.89172088566175, 428.18352249712217, 314.89892806955976, 304.17187240129084, 270.46710237788733, 245.14728597993005, 217.41913587834875, 209.52351013434694, 193.57835935153554, 186.6456189207072, 160.40830481753687, 144.16275444966806, 131.85491202757512, 129.3376861168695, 124.60397212072397, 124.56466226650763, 121.60772408492271, 117.27903159828566, 1980.2621386358087, 1625.8922694506675, 692.8172919614575, 647.3600065180634, 393.20145174685354, 357.2232635829391, 215.78858553386854, 171.24700089458048, 2469.9464716641705, 1749.3864111372116, 1413.6820730225324, 1246.0951031666564, 1177.4581691244366, 908.0503153746512, 839.7716711959517, 833.5477799640438, 825.137997052369, 786.9030497838447, 730.2229683021519, 727.0511729121562, 577.3564143231828, 550.2366215091681, 503.7964319756605, 487.4912102577417, 475.4732543130408, 401.81354930147324, 386.0158374918142, 373.16394773610665, 367.29122909729256, 327.2489804088522, 265.43170570399343, 231.82638109182062, 222.37240159878093, 219.05314526213422, 213.55891578557967, 212.8899328045166, 204.28636602986327, 191.75503651660796, 815.4661926891428, 1024.5119906825698, 2141.698606614368, 817.307058509366, 1063.614355284335, 1963.600237119147, 541.6604724012718, 726.4735417145798, 785.0255461965392, 891.9749895793186, 610.1093244846618, 2592.518485389464, 1784.4800540492722, 1317.7396501106223, 736.7351898644099, 1031.4665344262257, 1398.2904904565908, 1299.7188022685664, 869.0478351930774, 1188.171602190209, 924.0754967647056, 971.0827224682226, 755.8543619382057, 771.6843036599669, 2831.75516548951, 1026.0849890977483, 932.1921177071964, 915.9454984109042, 819.5047311977801, 779.11992273549, 760.6896255604371, 711.8100718908529, 605.2383338345136, 583.7276282817078, 531.7443447998692, 489.4199768356049, 437.5675029306457, 426.08171584086796, 408.388934779184, 390.5036451708083, 362.33115827112596, 329.1331156604883, 327.2755886252962, 321.0844074396784, 312.1866593072346, 304.5096194718739, 299.05176352620384, 287.3837122469863, 270.2421280511526, 266.56399635169714, 265.36626024966375, 261.5650410456515, 253.71295463618753, 251.1868086705838, 574.3435642126757, 1159.8888674276902, 890.9195425585096, 1525.8634856815877, 1452.7594418970352, 1712.8869551526304, 1499.4935788100192, 1206.6352665258696, 1208.7079638677349, 598.4088399420209, 855.4554403628773, 494.37254150114063, 1305.4778698619596, 801.6757467499062, 920.3828572763136, 614.9216185049445, 587.5508689733732, 1201.2313680754978, 574.9606703239514, 573.1732240054143, 698.8874360877306, 582.2979971836997, 1369.8338416816964, 1104.5876947489908, 915.2388075384342, 810.0673614674413, 629.1149471856569, 536.9785375896613, 528.149923146597, 455.7737276439365, 404.71131050284345, 397.3184728336196, 370.0196050643439, 362.5072581089338, 361.50319945796065, 357.39175823566785, 355.8108428813905, 355.5836510428185, 353.655470041883, 326.66754093501373, 324.78474749482166, 320.7889485837016, 295.21763073217477, 259.0039742518313, 258.1780222602431, 256.45860145785133, 255.7207995609159, 244.06836189679842, 235.4474209476208, 232.80205721213986, 225.38226362220087, 220.0052489788555, 865.24723198906, 544.3600565947943, 1310.0025365145373, 575.0311523846777, 460.51082848777065, 524.0859299899819, 366.62962282998757, 1152.4758616997337, 362.8094749079884, 618.3225304097801, 1102.0676689883117, 638.0492965805524, 664.7103675074412, 480.26802238894186, 406.2458221569578, 478.9986948972557, 646.565109438941, 452.953319780377, 535.096308671369, 467.54149713218186, 551.5570333908846, 402.3507621788559, 483.259254579379, 402.5045661704547, 871.0570127229113, 863.1343890498503, 844.9767259191535, 657.8895584408767, 656.7351342037846, 474.17908984261027, 468.71945439866306, 463.3795102048303, 435.37950459835713, 430.27415099527377, 419.6440984661969, 419.2771713086505, 399.562563544569, 378.36265019382387, 357.1597285887943, 355.50084939208915, 349.35261655591273, 343.5493745805535, 341.2624624030984, 337.1335135999373, 331.5676841175766, 314.98027647993035, 305.1100344422945, 304.5224930966478, 265.84845588076206, 242.91128899159978, 225.19517369773564, 224.42474114028138, 223.60266244732398, 221.95716066458291, 570.7934622849205, 653.1667589445874, 533.9493221907255, 702.9946842608363, 424.03444593147424, 777.3045283521784, 1156.82934970342, 428.83447503554436, 621.1785801867782, 589.1963646940992, 425.0217656363224, 1067.3182909000238, 573.2136960327878, 465.2615592746916, 558.7286588141906, 496.1521777879008, 389.69320002367107, 409.2577677776001, 2899.084020479214, 1841.0519505953007, 1666.377363101091, 1416.8726436539782, 679.9179082684775, 588.6428977646611, 585.1442728434214, 564.7948156048463, 521.9629919187535, 521.668028326629, 477.49220007692674, 459.4455157025872, 452.6648308420969, 419.321623730953, 416.0852466320188, 413.7407158261999, 407.85557858737684, 407.1792291076083, 404.7477791836453, 331.9363866005906, 327.6950863792208, 300.25447982214877, 257.091076716511, 253.43590298631312, 240.6748896721588, 239.9394431412143, 230.9405446271665, 217.49575433500843, 217.37659142853877, 215.721600743167, 355.4864993914033, 489.2897004343917, 1178.3873506522098, 468.233711741614, 859.1971968926966, 420.7447224563718, 452.0362011754049, 1461.0103656083868, 654.821112124419, 705.5565888490024, 838.8830140604562, 1093.2967384950423, 568.0295780302511, 428.3426805340504, 2377.7413660606794, 1395.2277629860132, 818.3899490552978, 718.5495736921771, 693.7093721573272, 538.6098848008882, 466.34951754709664, 301.93546391789556, 284.1216766607436, 282.6605111610603, 258.9277764529521, 249.93501679643117, 246.90498037972134, 232.1273169204441, 219.25975725862997, 187.19583511354526, 183.61970482556384, 134.602353378799, 129.20436206773036, 122.92356709892664, 120.1110029806443, 114.35851266365229, 114.25188648320884, 110.74864712786085, 108.94868612545834, 105.9278777905542, 102.93300752001586, 102.08499409447599, 96.84586888030144, 92.7007382210078, 447.5920406943037, 1928.8436184852849, 1251.1380441679196, 634.4903095799515, 171.6583524980748, 478.6208048849296, 165.211549066827, 1064.7099345303275, 1542.787240563048, 535.6858561254995, 707.1413848439659, 955.6423989570668, 310.99874988687634, 634.2910509199894, 475.04806994899235, 1729.2780186983691, 756.205919557887, 650.42319306722, 547.904224476473, 541.0227189735162, 550.4014088948835, 365.87612730037415, 416.0427205302811, 494.6856220516277, 553.6994598504493, 476.2754412079217, 560.3965977374091, 637.385235237819, 566.9877521355623, 7162.841727729281, 5658.567290614563, 2178.2554161736075, 1194.1926800273598, 647.7013576131159, 480.45568532266265, 402.48472335757543, 369.67419011500294, 356.07815771714803, 297.0393747009067, 262.57072070583007, 221.11711582773046, 207.92476130174654, 202.54664033574298, 196.6643211607127, 192.12738606398364, 180.65171842180206, 147.0522399757266, 141.81714930449985, 133.30147618232823, 123.42670707016255, 120.93677749632127, 117.17214536392187, 111.32303993519547, 104.70667372632118, 85.28528165690874, 82.63412849646826, 76.91381096050611, 75.04602022448951, 74.88425604299307, 6036.592954467059, 4943.071371892035, 292.44957245459995, 161.82006991468944, 1351.4948417647877, 1888.1180741926057, 248.14902306976933, 692.8117080494479, 417.51972843070956, 633.6823071820193, 602.8350529330147, 311.02746470648617, 274.6713362583865, 1076.1428647451007, 778.4287363107094, 746.7818575548005, 682.9408697638976, 657.6427043802795, 611.0757530151977, 505.05596634165073, 480.7451451046057, 477.3852235988842, 476.90556087259563, 440.9689885842182, 436.01912425051773, 433.1261547433309, 428.9421609469204, 388.8109304434907, 388.66505221505923, 354.2135494126672, 349.20131200314694, 342.4857190183212, 328.9048573427514, 280.53347453785756, 267.50836287065675, 258.2184933467997, 239.21127245515484, 239.17384860966297, 230.8885988035366, 219.1853044424863, 218.92337687614153, 210.88134271361403, 203.54398657550595, 1382.9361518929536, 451.86330218428105, 342.0814942644911, 475.14140630540277, 359.1046610635923, 498.61756953731367, 288.4539894208068, 689.565244584843, 337.0473377362127, 813.4887012571553, 429.07827985497124, 341.8871342509429, 1668.5629160847354, 989.8391976337758, 703.5151143322837, 589.6873838192947, 557.7207689992032, 544.8433584517292, 504.9458895380365, 464.5337738937629, 423.1286860101645, 360.674513215043, 344.13884457819654, 338.1417592398124, 300.2195210052064, 276.71524641174915, 266.38954583016545, 252.69413908824856, 246.04084553761274, 206.2418426876174, 200.48084529117457, 198.89977914152868, 187.71713073771846, 186.79669284319334, 185.4866666049153, 181.193363660724, 180.11948541931756, 179.0160721631963, 164.0927582946748, 164.04220405435987, 156.89542713057594, 150.97274985081648, 278.0164445752751, 256.599967622233, 553.601625352842, 471.4002144029707, 424.2943762289925, 268.60730233972, 379.0380617540258, 369.95689150374994, 240.24179733734053, 310.77441522273455, 523.5666653544214, 286.5804938318422, 217.9757833404693, 219.57929802305617, 1417.2200376587175, 803.7857372477393, 663.7248160548828, 622.0111784797442, 605.4270896640329, 524.9144532692756, 402.6458683573352, 361.25381644755277, 359.4993527252132, 352.35652301608286, 352.30356682106685, 342.25163478819474, 304.78835639959925, 298.4699148857239, 269.55106117311374, 249.9125274465748, 241.92080070395212, 234.4552600384537, 222.35932690590224, 201.2907958673702, 173.72823290547933, 169.73080537966155, 149.24992381331907, 144.3860897258652, 144.10761395917154, 138.3969646265972, 133.5328267105701, 123.00895888025325, 121.19101749193725, 113.87565816487553, 1015.3715055007134, 552.6182627589693, 224.59714812945643, 911.668556853008, 212.9474378947297, 397.26229611025474, 238.79415712180645, 242.4265740021221, 364.5570406952723, 480.21055738262305, 288.9404329638168, 406.3911069144953, 259.11385200361667, 248.03207614255254, 2917.2199270827596, 1030.7134352201613, 465.9006710209585, 335.878070863993, 327.8813778901163, 288.97327319210365, 288.65853362975116, 267.61924301836285, 262.1225713510465, 256.7836891176561, 230.94907149706015, 226.8745730236307, 196.375290274998, 196.0121857332307, 191.05860467455258, 188.72591990197634, 184.27999876977455, 175.6454336161968, 167.70221639272359, 165.88768286536876, 151.09233058031268, 150.02137676281467, 144.49044344599645, 130.26949086223365, 124.86730850781491, 124.8542842849728, 124.06364351674519, 120.61711042060175, 119.1708221811993, 103.03108983075106, 324.04428297228986, 401.0940865463887, 337.9841281640773, 646.2648150443274, 540.9832324295687, 165.55597734184568, 151.0407732424797, 9613.491599464485, 3059.7517500218173, 111.93183973191233, 95.0201182114621, 75.5623024040188, 53.948995134026276, 46.04518822828614, 41.87743344612301, 223.50358903860982, 26.578799539517274, 16.830152319210033, 14.60846549320086, 1.4030751124535934, 26.206421440275555, 85.44693750578159, 63.329138962174625, 71.75428880876608, 28.748166791330334, 144.95861505752052, 62.57343138570283, 0.07835502412891814, 0.07828519800822385, 0.0782773932788465, 0.07824970695273883, 0.07822648662633006, 0.0781795792693639, 0.07816737316086209, 0.0781728946299432, 0.07817415114111251, 0.07815542553465794, 0.07817909102502384, 135.19799999194942, 830.5457584419739, 673.3398464032385, 532.4923614604046, 295.30954541327674, 250.28655605332358, 220.1901103685103, 210.04320291010512, 191.21882243019348, 182.24009992427534, 179.99717950167724, 178.52070424925287, 142.410058889098, 111.70420626551162, 102.21839005523657, 83.21838772390987, 83.04782876500073, 82.5260777654299, 67.933729277539, 53.56101142825377, 37.681714042970356, 32.86985908391118, 28.393612641422973, 26.50420721198836, 26.446773641316312, 24.93390977154439, 22.26147192571588, 20.586962666166034, 10.735547128009017, 5.516791705026109, 131.53670753950172, 319.25268734410207, 261.7844292161129, 121.26347869898107, 131.83134426635462, 33.299131111841554, 1794.4623134457572, 741.8006374563124, 393.1715905870833, 260.67296286435777, 180.44983029056095, 176.3407227450507, 165.72220013674288, 156.04736768165054, 139.41779389269016, 105.98707675526676, 82.38071343013345, 69.54687144737932, 479.6098370581649, 54.744812523384155, 27.436613607206148, 19.58832569296836, 121.26268771346744, 174.91619889327401, 183.90945401739086, 31.17970067353102, 79.93317331233244, 0.08008096368667356, 0.08007596283433625, 0.08007616789574162, 0.08007612820643736, 0.080076075287365, 0.08007671693111729, 0.08007633988272676, 0.08006647047573304, 0.08006641755666069, 0.08007927689124233, 0.08007089583315852, 321.86140622363513, 266.51672548170075, 199.8302950371448, 172.04988954264644, 132.08021059587767, 114.7135394982151, 88.89232319453352, 67.48081207936522, 29.741814745167932, 17.96083089520069, 9.980107187829104, 172.83097504818716, 40.33004039471884, 622.7197014830881, 2074.1794957574843, 586.3579196415117, 127.82804182371386, 0.06372311095549424, 0.06367921801736576, 0.0636965444884949, 0.06366646422024919, 0.06366806731812423, 0.06366458900981971, 0.06366489069982571, 0.06366116985641833, 0.06366085041994138, 0.06366056647640632, 0.06365858478715118, 0.06365746084399157, 0.06365746084399157, 0.06365933605442105, 0.06368749970380509, 0.06366199210957195, 0.0636663399949526, 0.06366212225035885], \"Total\": [63849.0, 9615.0, 23312.0, 5309.0, 7164.0, 6502.0, 8596.0, 5660.0, 6570.0, 8086.0, 10621.0, 6760.0, 8163.0, 6331.0, 6132.0, 5910.0, 3061.0, 6610.0, 22771.0, 2918.0, 5120.0, 4730.0, 8395.0, 1796.0, 2900.0, 4456.0, 5552.0, 3718.0, 3927.0, 5406.0, 3927.0845384590925, 975.0110928016022, 933.8508835911581, 912.1601528537615, 887.2320025989578, 747.1492852650233, 662.6992050221827, 559.3242861158657, 544.1237706545488, 538.0393418328043, 528.8444060294512, 519.0706757787225, 510.42645015134775, 478.6943889974594, 456.5689203283261, 396.4258028815117, 394.0476862973795, 378.9863908095156, 361.27967861774954, 339.71292520580465, 328.93710324949416, 319.2313153983694, 316.9498255155007, 315.5220015084171, 308.90760880752765, 306.800994644166, 304.9050786327013, 299.16202944741997, 273.7907360899706, 273.11398060552017, 729.1159162330367, 585.0028951185602, 649.9846921003376, 1122.7219362474061, 2289.8496932590942, 721.6705593261779, 2067.8885678619754, 549.5155019985866, 1025.8780801934195, 2713.705385164925, 771.7151459455007, 1930.3916583583007, 1663.225805859718, 3072.2126609251045, 572.1633272707596, 1345.948121332717, 2261.8455415882386, 3440.02239287913, 22771.353816531984, 1931.1741565714897, 1328.2388659480625, 5327.254301764334, 4982.686477640519, 5406.845711629252, 5020.4758331935145, 3452.772804793727, 1657.9812773208469, 1306.1690568318056, 6565.216704253257, 3147.491923751389, 1889.3426367124866, 6292.639526180521, 5120.273780178776, 1175.4411611954174, 1152.019677329363, 705.5597450400775, 688.0005676419532, 686.9996018947907, 601.1360925100818, 596.0757139671365, 569.7518800734244, 540.5196247038573, 457.7834530902844, 451.39282218851486, 405.9116311305213, 393.44113880187496, 328.7330028548519, 311.41716458608244, 294.3350089093271, 294.200480493949, 244.8268255974568, 240.54848006327836, 226.58413814209365, 202.99509107762478, 202.74110024994957, 198.33620669263618, 150.05274958820223, 147.97014766038538, 147.3644045109316, 141.49300562148196, 138.83485813760558, 134.72298077883934, 1441.3544325220716, 891.2024073265611, 438.54119432049333, 467.3219752502104, 3549.7772791710127, 470.420144037514, 2075.451222658079, 829.7414887221473, 5406.845711629252, 2556.276816651496, 23312.6766547272, 1719.6725182985324, 6565.216704253257, 2503.2593522103034, 3035.3486811583193, 1686.6212030116028, 6292.639526180521, 3236.7450550149356, 1472.7414297845473, 22771.353816531984, 1530.0270418147404, 3823.1292103186233, 3727.638758161472, 3440.02239287913, 1645.5401401191305, 2896.2744365211997, 1966.9893877013817, 4982.686477640519, 10621.743931290177, 5552.826156953549, 1286.754462468131, 2965.295659392606, 5020.4758331935145, 3206.8480634619095, 8395.115131560575, 6760.281138166552, 6331.538249660236, 6132.505248149856, 5910.843919336582, 4730.076950587778, 3718.975369112471, 3292.384075334367, 2721.1072371893733, 1064.3044694145308, 619.4978429061069, 258.5468787398779, 222.16068854958908, 8596.287850410567, 193.67749963127952, 153.10069154426256, 125.24146837324777, 70.57805985349584, 650.6729394134635, 45.44728615335348, 44.915241832545696, 38.445534547471304, 35.13219485889441, 28.85460022325015, 2534.598894086399, 27.16391504800805, 18.374078683037478, 4307.622937384729, 6610.813940706211, 8163.828596802434, 1201.4058130431654, 1103.2727966981074, 8086.530742394642, 4456.935850392641, 10621.743931290177, 6046.684423347692, 8395.115131560575, 1822.3341294590007, 5309.911405501147, 1919.5451686498316, 887.6095982386022, 1605.7422538744406, 23312.6766547272, 22771.353816531984, 1430.307070140274, 1310.4471307974163, 1217.4565406398458, 1113.8155084181674, 493.2684983806453, 481.5212154431868, 416.90569594699446, 389.11790995283053, 381.4076163121625, 374.50413445205544, 363.7766345659411, 357.19131785551184, 345.39367278422446, 343.0227551779537, 326.79217757001, 293.0707525469186, 290.58368915774014, 287.6231277410374, 287.2426306449488, 279.4120937132671, 277.96306581546486, 270.5513687448188, 261.7002543121772, 250.752258666715, 240.81972484531602, 233.34606851258567, 220.25661571626395, 217.61451758211555, 217.58650559728505, 217.50388487126312, 208.52496540522307, 1009.928870604513, 1025.361960763625, 398.7813531302251, 1000.44528305101, 1096.2256030143499, 477.6309732841316, 793.5599608670517, 1110.0836013513156, 1012.2267658816435, 649.4897470981938, 403.19087863531706, 384.93508635820626, 689.7400809711709, 478.0754499651359, 1748.3190529970054, 636.9513540757367, 3243.020914979144, 1852.7811392699425, 1046.3083672635225, 855.7865012290595, 1569.7732696132166, 5020.4758331935145, 777.1710165812823, 672.6252664134016, 6292.639526180521, 773.7080984815203, 681.8072026743558, 3515.16662380537, 3206.8480634619095, 5327.254301764334, 1681.8249743734548, 1856.6759039179406, 3820.0962562305126, 4573.310771182375, 1907.7479559856217, 3035.3486811583193, 8395.115131560575, 63849.27944142324, 2954.4961058505687, 2075.688006789873, 1347.2913542594042, 1182.9126168477235, 1123.0309930163203, 762.9715855689009, 761.1839011408872, 669.4026744385021, 591.7732485647292, 539.4050814524807, 480.8658913003791, 437.4395264462886, 429.7313282870003, 316.44673389302136, 305.7196782480669, 272.014908055867, 246.69509165069488, 218.96694147181984, 211.07131591006345, 195.12616528054215, 188.19342450242922, 161.95611044291462, 145.71055999218223, 133.40271804538784, 130.88549181740294, 126.15177763065411, 126.11246785452335, 123.15552970445835, 118.82683722676249, 2521.296098737215, 6570.410089651824, 8163.828596802434, 23312.6766547272, 8395.115131560575, 6046.684423347692, 10621.743931290177, 1822.3341294590007, 2471.577960360138, 1751.0178998452843, 1415.3135618262452, 1247.726591841223, 1179.0896578123843, 909.6818040492174, 841.4031598705179, 835.17926863861, 826.7694857269352, 788.5345384823092, 731.854456983829, 728.6826616018244, 578.987902997749, 551.8681101837343, 505.42792065022655, 489.1226989455526, 477.1047429936716, 403.44503798210405, 387.64732621605623, 374.7954364167356, 368.9227177845383, 328.88046914089625, 267.06319446889614, 233.45786976638672, 224.0038902806652, 220.68463395530097, 215.19040447664435, 214.5214215414325, 205.91785470442937, 193.386525210478, 839.2882187902951, 1083.092071320876, 2572.31838093738, 923.9977520380813, 1238.5714108390457, 2522.772146592368, 612.5214115700096, 861.4846915341027, 947.7791278958224, 1124.0583664723226, 705.195856039866, 5327.254301764334, 3452.772804793727, 2499.8636514771574, 1058.4150942237093, 2056.1884142994327, 3820.0962562305126, 3314.299576875298, 1598.0390302919006, 3515.16662380537, 1902.6908494175273, 6565.216704253257, 1333.2595451500322, 2896.2744365211997, 2833.3800605777665, 1027.7098841931854, 933.8170128255963, 917.5703934991606, 821.1296263434291, 780.7448178237464, 762.3145207198246, 713.4349669791093, 606.8632290374364, 585.3525233699642, 533.3692398881255, 491.04487195103974, 439.192398018902, 427.7066109529302, 410.0138298904961, 392.128540265564, 363.95605339600786, 330.7580107902965, 328.9004837644942, 322.7093025352529, 313.81155439549093, 306.1345146252803, 300.6766587368777, 289.0086073424227, 271.8670232008421, 268.1888916216605, 266.9911553379201, 263.1899361435153, 255.33784973405133, 252.81170379178945, 598.3498930046181, 1275.8700327296676, 977.8199662585124, 1768.7039970455817, 1793.820143502689, 2196.7191893894756, 1917.5284665531667, 1646.8203434499774, 1660.8674730358853, 726.2703500947622, 1242.890496423045, 583.3651802488444, 2353.566037812248, 1297.9251133117139, 2175.0965115748195, 993.6679520876958, 957.4084679007276, 6046.684423347692, 1247.5787427178739, 1254.4282194949672, 22771.353816531984, 1785.7699172327293, 1371.4711110561163, 1106.2249641169112, 916.8760769220266, 811.704630844969, 630.7522167621314, 538.6158069575815, 529.7871925145172, 457.41099701735124, 406.34857987076356, 398.9557422350715, 371.65687443226403, 364.14452748952857, 363.1404688677476, 359.02902760358796, 357.4481122493106, 357.2209204228662, 355.2927394098031, 328.3048104184178, 326.42201686274177, 322.4262180816101, 296.8549001231507, 260.64124362636636, 259.8152916354814, 258.09587082577144, 257.358068928836, 245.70563127058332, 237.08469033259382, 234.43932658555462, 227.01953300585856, 221.6425183526967, 954.7928642493841, 591.2330785911992, 1547.9078615102676, 678.2575532507785, 535.9772438945998, 638.7432504033176, 410.95903239770365, 1857.9853779126283, 410.1928793040658, 846.0230143734572, 1907.7479559856217, 1339.7714772918353, 1497.4060246489566, 808.4480929237482, 564.3591055987206, 1032.6607833862972, 3046.7564054715417, 849.7624534399771, 1844.0447873896119, 1247.5787427178739, 4573.310771182375, 682.2622787479875, 4982.686477640519, 1657.1397351148203, 872.6878013257223, 864.7651776526612, 846.6075145291445, 659.5203470436877, 658.3659228065956, 475.80987844542113, 470.3502430202927, 465.01029880764116, 437.0102933866613, 431.9049396039494, 421.2748870950014, 420.9079599114614, 401.19335214737987, 379.99343880212933, 358.79051725199866, 357.1316379949, 350.98340516593095, 345.1801631929718, 342.8932515266975, 338.7643022027482, 333.1984727203875, 316.6110650882358, 306.74082304510534, 306.15328169945866, 267.4792445989221, 244.54207763306587, 226.8259623005466, 226.05552974309234, 225.23345105974238, 223.5879492734567, 606.0589023929167, 755.8882223162057, 602.8242321144687, 837.8128266323448, 470.9161604747412, 1081.5738022952519, 1863.9306800541924, 518.6922033978996, 1016.2989141811396, 1072.5359686311858, 568.2652518772134, 5552.826156953549, 1889.3426367124866, 1302.5254159285994, 3727.638758161472, 2965.295659392606, 716.9863715172752, 4573.310771182375, 2900.7149061925547, 1842.682836308642, 1668.0082488144324, 1418.503529373819, 681.5487939818184, 590.2737834780021, 586.7751585649054, 566.4257014024308, 523.5938776435099, 523.2989140632237, 479.1230857902676, 461.07640142184914, 454.2957165650452, 420.95250944429387, 417.7161323589974, 415.371601567967, 409.4864643007177, 408.8101148658053, 406.3786648969862, 333.56727242156467, 329.32597212001644, 301.88536554363276, 258.72196245942524, 255.06678871207455, 242.305775414875, 241.5703288611701, 232.57143034865055, 219.12664006345142, 219.00747714837917, 217.35248647906934, 386.4380918258822, 561.3531883553064, 1989.7614609365808, 618.2265622414716, 1625.6367180707498, 564.472139701742, 631.0291863904826, 4573.310771182375, 1531.4767675432488, 1863.9306800541924, 3147.491923751389, 22771.353816531984, 2499.8636514771574, 5020.4758331935145, 2379.397148296985, 1396.883545222319, 820.0457312916033, 720.2053559284825, 695.3651544056266, 540.2656670371936, 468.0052997834021, 303.591246178434, 285.7774589470539, 284.31629339736577, 260.58355871008035, 251.5907990327367, 248.56076263590884, 233.78309919547561, 220.9155394949355, 188.85161735945823, 185.27548706186937, 136.25813561510452, 130.8601443328447, 124.57934935675627, 121.76678524612613, 116.01429492112457, 115.9076687346164, 112.40442936416638, 110.60446836176386, 107.5836600834687, 104.58878975632139, 103.74077634234082, 98.50165111660696, 94.35652045731332, 455.7056097050753, 2297.0721072113693, 1510.2076450101563, 743.970166409409, 184.33946018184574, 584.8878350766959, 176.96497545250256, 1515.002947501619, 2358.466525726656, 740.8147316293237, 1073.279027324806, 1785.7699172327293, 420.8162786606202, 1147.196054742622, 801.1900582146499, 5552.826156953549, 1622.589639371617, 1425.419425238606, 1144.9705449209214, 1166.8270818599385, 1404.3904325653698, 604.129495771684, 814.8856184261037, 1297.9251133117139, 1889.3426367124866, 1240.2919011009028, 2175.0965115748195, 3727.638758161472, 2965.295659392606, 7164.457303388822, 5660.182866287637, 2179.8709918403283, 1195.8082557357764, 649.3169333957563, 482.07126105171443, 404.1002990100052, 371.2897657833703, 357.69373342086107, 298.6549503604473, 264.1862963582598, 222.7326914900331, 209.54033705145335, 204.16221617804285, 198.27989682743342, 193.742961961883, 182.26729408134273, 148.66781569109708, 143.4327250325485, 134.91705191230625, 125.04228299940104, 122.55235315835853, 118.7877210693509, 112.93861563548441, 106.32224969332579, 86.90085744461298, 84.24970418293461, 78.5293868145039, 76.66159591914487, 76.4998322841379, 6502.028915668114, 6570.410089651824, 327.2674081148363, 177.24514541168645, 8086.530742394642, 23312.6766547272, 529.1657316895173, 4456.935850392641, 1919.5451686498316, 6610.813940706211, 8395.115131560575, 1822.3341294590007, 4307.622937384729, 1077.769803345778, 780.0556749113863, 748.4087961819273, 684.5678083645745, 659.2696429809564, 612.7026916158746, 506.6829049423276, 482.37208370528253, 479.01216219956103, 478.5324994732725, 442.59592718489506, 437.6460628511946, 434.75309334400777, 430.56909954759726, 390.43786904416754, 390.2919908157361, 355.8404882335316, 350.82825061032327, 344.1126576634961, 330.53179599582336, 282.16041314459915, 269.1353014713336, 259.8454319474765, 240.83821105583175, 240.80078721033988, 232.51553740421352, 220.81224304966267, 220.55031563160372, 212.5082813207904, 205.17092519798516, 1492.9737819538645, 490.39748427567366, 403.286390456016, 644.3028234844453, 454.7570730076247, 1339.7714772918353, 403.0055708174727, 4573.310771182375, 639.6820660408412, 22771.353816531984, 2572.31838093738, 859.4156806505828, 1670.2020448645355, 991.4783264045287, 705.1542431417834, 591.3265126232998, 559.3598978212333, 546.4824872126093, 506.5850182989165, 466.1729026546429, 424.76781477836266, 362.3136419831031, 345.7779733462566, 339.7808880247877, 301.8586497660864, 278.3543751854413, 268.02867461061624, 254.33326784912862, 247.6799742984928, 207.88097151510263, 202.1199740679922, 200.53890790240874, 189.3562595156514, 188.4358217380616, 187.12579545456356, 182.8324924715944, 181.7586141973886, 180.65520093974854, 165.73188705555486, 165.68133281523993, 158.53455617686745, 152.61187865463015, 295.84867097088164, 284.78630609355906, 734.2861814921605, 718.6419752533924, 751.8656912659197, 365.7045798815669, 730.4215053066727, 1902.6908494175273, 490.8803323239994, 1625.6367180707498, 22771.353816531984, 1931.1741565714897, 676.8328341061102, 1124.0583664723226, 1418.8617900223624, 805.4274896416199, 665.3665684315997, 623.6529308529965, 607.068842095731, 526.5562056329204, 404.28762072690097, 362.89556881781243, 361.14110516015575, 353.9982753797276, 353.9453191847116, 343.89338717212064, 306.430108763244, 300.11166727848723, 271.1928135637766, 251.55427981021964, 243.56255316987358, 236.09701251939106, 224.0010793066725, 202.93254823101503, 175.36998543136357, 171.37255774330637, 150.89167623727985, 146.02784215610436, 145.74936632281637, 140.03871699984944, 135.17457908013594, 124.65071126038572, 122.8327699109626, 115.51741053501976, 1044.1381939272032, 634.8930177854883, 240.7780672720662, 1692.262896629864, 286.7866149245397, 814.8856184261037, 374.1094625064717, 416.33641347091606, 1073.279027324806, 3823.1292103186233, 846.7695770431176, 22771.353816531984, 1235.0621323047967, 2297.0721072113693, 2918.8588988387564, 1032.3524069761581, 467.5396427868282, 337.51704263502415, 329.52034971756143, 290.6122449723335, 290.297505385748, 269.2582147743597, 263.76154310704334, 258.42266090028124, 232.58804325305707, 228.51354481690208, 198.01426228779874, 197.65115751125552, 192.6975764419651, 190.36489171795233, 185.91897052577147, 177.28440540800304, 169.34118816114096, 167.5266546804282, 152.73130235747635, 151.66034854854598, 146.12941520860824, 131.90846261823057, 126.5062805523495, 126.49325611566213, 125.7026152727421, 122.25608217659865, 120.80979394306094, 104.67006174312266, 368.0703166922839, 565.4010791807304, 520.879424827048, 1466.2410228133722, 1145.8208793086978, 231.07689979476987, 260.91885319529223, 9615.13041591281, 3061.390566480465, 113.57065622804808, 96.65893490147222, 77.20111923639385, 55.58781159491611, 47.684004757826614, 43.51624996941646, 235.63988203455824, 28.217615986794936, 18.468968855954564, 16.247281990745115, 3.0418915601678633, 72.3644532904556, 372.19262116140993, 320.4198899673008, 440.3206118739864, 302.4468119075215, 1721.5623394891632, 1032.6607833862972, 1.7185508133286507, 1.7179546971970854, 1.7182309762152734, 1.7177019168098382, 1.7179480844156694, 1.717298940346949, 1.717050122889502, 1.7172689927399205, 1.7173276033710665, 1.7170397987833297, 1.7175900234646049, 8163.828596802434, 832.1658202896156, 674.9599080823695, 534.1124231395355, 296.92960709951836, 251.9066177468145, 221.8101720476411, 211.6632646165587, 192.83888411538902, 183.86016160340614, 181.61724121622655, 180.14076593499854, 144.03012058389908, 113.32426794464243, 103.83845173436738, 84.83844943182719, 84.66789044413154, 84.14613945416816, 69.55379095666981, 55.18107310738458, 39.30177572210116, 34.48992076304199, 30.013674336291334, 28.124268955535673, 28.066835327627185, 26.5539714506752, 23.88153362232703, 22.207024345296844, 12.355608807139827, 7.1368534245655955, 234.46877854263263, 708.9268011534809, 766.3386388727015, 699.9847427676834, 1201.4058130431654, 327.2674081148363, 1796.09920112928, 743.437525139835, 394.8084782706058, 262.3098505478803, 182.08671798664764, 177.97761042857323, 167.3590878488157, 157.68425553312184, 141.05468158227742, 107.62396444528873, 84.01760114282214, 71.18375913090186, 492.16504959824886, 56.38170027330955, 29.073501290728682, 21.225213566701292, 187.29635408789287, 278.0474056559838, 455.5369996159314, 186.60883492795958, 1235.0621323047967, 1.7170104381990963, 1.716983717343139, 1.7169887688971766, 1.7169986515529987, 1.7170011323876022, 1.7170157120735658, 1.7170104916611189, 1.716987166271433, 1.7169864171040385, 1.7173004846077136, 1.7172340582743395, 323.5147003771823, 268.1700195873434, 201.48358916980743, 173.7031836482891, 133.73350471139312, 116.36683363240805, 90.54561730017616, 69.13410621407063, 31.395108850810576, 19.614125063420154, 11.633401536640864, 266.29177925163424, 69.68899411827111, 1430.307070140274, 5309.911405501147, 1721.5623394891632, 1605.7422538744406, 1.7177019168098382, 1.717298940346949, 1.7179546971970854, 1.7171924479664507, 1.7172679907575592, 1.717175761860821, 1.7172021960801795, 1.717129968503052, 1.7171450047066534, 1.7171700468771407, 1.7171214654023286, 1.717099332223223, 1.7171082752227138, 1.717194012988603, 1.7185508133286507, 1.7173276033710665, 1.7175900234646049, 1.7179480844156694], \"Category\": [\"Default\", \"Default\", \"Default\", \"Default\", \"Default\", \"Default\", \"Default\", \"Default\", \"Default\", \"Default\", \"Default\", \"Default\", \"Default\", \"Default\", \"Default\", \"Default\", \"Default\", \"Default\", \"Default\", \"Default\", \"Default\", \"Default\", \"Default\", \"Default\", \"Default\", \"Default\", \"Default\", \"Default\", \"Default\", \"Default\", \"Topic1\", \"Topic1\", \"Topic1\", \"Topic1\", \"Topic1\", \"Topic1\", \"Topic1\", \"Topic1\", \"Topic1\", \"Topic1\", \"Topic1\", \"Topic1\", \"Topic1\", \"Topic1\", \"Topic1\", \"Topic1\", \"Topic1\", \"Topic1\", \"Topic1\", \"Topic1\", \"Topic1\", \"Topic1\", \"Topic1\", \"Topic1\", \"Topic1\", \"Topic1\", \"Topic1\", \"Topic1\", \"Topic1\", \"Topic1\", \"Topic1\", \"Topic1\", \"Topic1\", \"Topic1\", \"Topic1\", \"Topic1\", \"Topic1\", \"Topic1\", \"Topic1\", \"Topic1\", \"Topic1\", \"Topic1\", \"Topic1\", \"Topic1\", \"Topic1\", \"Topic1\", \"Topic1\", \"Topic1\", \"Topic1\", \"Topic1\", \"Topic1\", \"Topic1\", \"Topic1\", \"Topic1\", \"Topic1\", \"Topic1\", \"Topic1\", \"Topic1\", \"Topic1\", \"Topic1\", \"Topic1\", \"Topic1\", \"Topic2\", \"Topic2\", \"Topic2\", \"Topic2\", \"Topic2\", \"Topic2\", \"Topic2\", \"Topic2\", \"Topic2\", \"Topic2\", \"Topic2\", \"Topic2\", \"Topic2\", \"Topic2\", \"Topic2\", \"Topic2\", \"Topic2\", \"Topic2\", \"Topic2\", \"Topic2\", \"Topic2\", \"Topic2\", \"Topic2\", \"Topic2\", \"Topic2\", \"Topic2\", \"Topic2\", \"Topic2\", \"Topic2\", \"Topic2\", \"Topic2\", \"Topic2\", \"Topic2\", \"Topic2\", \"Topic2\", \"Topic2\", \"Topic2\", \"Topic2\", \"Topic2\", \"Topic2\", \"Topic2\", \"Topic2\", \"Topic2\", \"Topic2\", \"Topic2\", \"Topic2\", \"Topic2\", \"Topic2\", \"Topic2\", \"Topic2\", \"Topic2\", \"Topic2\", \"Topic2\", \"Topic2\", \"Topic2\", \"Topic2\", \"Topic2\", \"Topic2\", \"Topic2\", \"Topic2\", \"Topic2\", \"Topic2\", \"Topic2\", \"Topic2\", \"Topic2\", \"Topic3\", \"Topic3\", \"Topic3\", \"Topic3\", \"Topic3\", \"Topic3\", \"Topic3\", \"Topic3\", \"Topic3\", \"Topic3\", \"Topic3\", \"Topic3\", \"Topic3\", \"Topic3\", \"Topic3\", \"Topic3\", \"Topic3\", \"Topic3\", \"Topic3\", \"Topic3\", \"Topic3\", \"Topic3\", \"Topic3\", \"Topic3\", \"Topic3\", \"Topic3\", \"Topic3\", \"Topic3\", \"Topic3\", \"Topic3\", \"Topic3\", \"Topic3\", \"Topic3\", \"Topic3\", \"Topic3\", \"Topic3\", \"Topic3\", \"Topic3\", \"Topic3\", \"Topic3\", \"Topic3\", \"Topic3\", \"Topic3\", \"Topic3\", \"Topic4\", \"Topic4\", \"Topic4\", \"Topic4\", \"Topic4\", \"Topic4\", \"Topic4\", \"Topic4\", \"Topic4\", \"Topic4\", \"Topic4\", \"Topic4\", \"Topic4\", \"Topic4\", \"Topic4\", \"Topic4\", \"Topic4\", \"Topic4\", \"Topic4\", \"Topic4\", \"Topic4\", \"Topic4\", \"Topic4\", \"Topic4\", \"Topic4\", \"Topic4\", \"Topic4\", \"Topic4\", \"Topic4\", \"Topic4\", \"Topic4\", \"Topic4\", \"Topic4\", \"Topic4\", \"Topic4\", \"Topic4\", \"Topic4\", \"Topic4\", \"Topic4\", \"Topic4\", \"Topic4\", \"Topic4\", \"Topic4\", \"Topic4\", \"Topic4\", \"Topic4\", \"Topic4\", \"Topic4\", \"Topic4\", \"Topic4\", \"Topic4\", \"Topic4\", \"Topic4\", \"Topic4\", \"Topic4\", \"Topic4\", \"Topic4\", \"Topic4\", \"Topic4\", \"Topic4\", \"Topic4\", \"Topic4\", \"Topic4\", \"Topic4\", \"Topic4\", \"Topic4\", \"Topic4\", \"Topic5\", \"Topic5\", \"Topic5\", \"Topic5\", \"Topic5\", \"Topic5\", \"Topic5\", \"Topic5\", \"Topic5\", \"Topic5\", \"Topic5\", \"Topic5\", \"Topic5\", \"Topic5\", \"Topic5\", \"Topic5\", \"Topic5\", \"Topic5\", \"Topic5\", \"Topic5\", \"Topic5\", \"Topic5\", \"Topic5\", \"Topic5\", \"Topic5\", \"Topic5\", \"Topic5\", \"Topic5\", \"Topic5\", \"Topic5\", \"Topic5\", \"Topic5\", \"Topic5\", \"Topic5\", \"Topic5\", \"Topic5\", \"Topic5\", \"Topic5\", \"Topic6\", \"Topic6\", \"Topic6\", \"Topic6\", \"Topic6\", \"Topic6\", \"Topic6\", \"Topic6\", \"Topic6\", \"Topic6\", \"Topic6\", \"Topic6\", \"Topic6\", \"Topic6\", \"Topic6\", \"Topic6\", \"Topic6\", \"Topic6\", \"Topic6\", \"Topic6\", \"Topic6\", \"Topic6\", \"Topic6\", \"Topic6\", \"Topic6\", \"Topic6\", \"Topic6\", \"Topic6\", \"Topic6\", \"Topic6\", \"Topic6\", \"Topic6\", \"Topic6\", \"Topic6\", \"Topic6\", \"Topic6\", \"Topic6\", \"Topic6\", \"Topic6\", \"Topic6\", \"Topic6\", \"Topic6\", \"Topic6\", \"Topic6\", \"Topic6\", \"Topic6\", \"Topic6\", \"Topic6\", \"Topic6\", \"Topic6\", \"Topic6\", \"Topic6\", \"Topic6\", \"Topic6\", \"Topic7\", \"Topic7\", \"Topic7\", \"Topic7\", \"Topic7\", \"Topic7\", \"Topic7\", \"Topic7\", \"Topic7\", \"Topic7\", \"Topic7\", \"Topic7\", \"Topic7\", \"Topic7\", \"Topic7\", \"Topic7\", \"Topic7\", \"Topic7\", \"Topic7\", \"Topic7\", \"Topic7\", \"Topic7\", \"Topic7\", \"Topic7\", \"Topic7\", \"Topic7\", \"Topic7\", \"Topic7\", \"Topic7\", \"Topic7\", \"Topic7\", \"Topic7\", \"Topic7\", \"Topic7\", \"Topic7\", \"Topic7\", \"Topic7\", \"Topic7\", \"Topic7\", \"Topic7\", \"Topic7\", \"Topic7\", \"Topic7\", \"Topic7\", \"Topic7\", \"Topic7\", \"Topic7\", \"Topic7\", \"Topic7\", \"Topic7\", \"Topic7\", \"Topic7\", \"Topic8\", \"Topic8\", \"Topic8\", \"Topic8\", \"Topic8\", \"Topic8\", \"Topic8\", \"Topic8\", \"Topic8\", \"Topic8\", \"Topic8\", \"Topic8\", \"Topic8\", \"Topic8\", \"Topic8\", \"Topic8\", \"Topic8\", \"Topic8\", \"Topic8\", \"Topic8\", \"Topic8\", \"Topic8\", \"Topic8\", \"Topic8\", \"Topic8\", \"Topic8\", \"Topic8\", \"Topic8\", \"Topic8\", \"Topic8\", \"Topic8\", \"Topic8\", \"Topic8\", \"Topic8\", \"Topic8\", \"Topic8\", \"Topic8\", \"Topic8\", \"Topic8\", \"Topic8\", \"Topic8\", \"Topic8\", \"Topic8\", \"Topic8\", \"Topic8\", \"Topic8\", \"Topic8\", \"Topic8\", \"Topic8\", \"Topic8\", \"Topic8\", \"Topic8\", \"Topic8\", \"Topic8\", \"Topic9\", \"Topic9\", \"Topic9\", \"Topic9\", \"Topic9\", \"Topic9\", \"Topic9\", \"Topic9\", \"Topic9\", \"Topic9\", \"Topic9\", \"Topic9\", \"Topic9\", \"Topic9\", \"Topic9\", \"Topic9\", \"Topic9\", \"Topic9\", \"Topic9\", \"Topic9\", \"Topic9\", \"Topic9\", \"Topic9\", \"Topic9\", \"Topic9\", \"Topic9\", \"Topic9\", \"Topic9\", \"Topic9\", \"Topic9\", \"Topic9\", \"Topic9\", \"Topic9\", \"Topic9\", \"Topic9\", \"Topic9\", \"Topic9\", \"Topic9\", \"Topic9\", \"Topic9\", \"Topic9\", \"Topic9\", \"Topic9\", \"Topic9\", \"Topic9\", \"Topic9\", \"Topic9\", \"Topic9\", \"Topic10\", \"Topic10\", \"Topic10\", \"Topic10\", \"Topic10\", \"Topic10\", \"Topic10\", \"Topic10\", \"Topic10\", \"Topic10\", \"Topic10\", \"Topic10\", \"Topic10\", \"Topic10\", \"Topic10\", \"Topic10\", \"Topic10\", \"Topic10\", \"Topic10\", \"Topic10\", \"Topic10\", \"Topic10\", \"Topic10\", \"Topic10\", \"Topic10\", \"Topic10\", \"Topic10\", \"Topic10\", \"Topic10\", \"Topic10\", \"Topic10\", \"Topic10\", \"Topic10\", \"Topic10\", \"Topic10\", \"Topic10\", \"Topic10\", \"Topic10\", \"Topic10\", \"Topic10\", \"Topic10\", \"Topic10\", \"Topic10\", \"Topic10\", \"Topic11\", \"Topic11\", \"Topic11\", \"Topic11\", \"Topic11\", \"Topic11\", \"Topic11\", \"Topic11\", \"Topic11\", \"Topic11\", \"Topic11\", \"Topic11\", \"Topic11\", \"Topic11\", \"Topic11\", \"Topic11\", \"Topic11\", \"Topic11\", \"Topic11\", \"Topic11\", \"Topic11\", \"Topic11\", \"Topic11\", \"Topic11\", \"Topic11\", \"Topic11\", \"Topic11\", \"Topic11\", \"Topic11\", \"Topic11\", \"Topic11\", \"Topic11\", \"Topic11\", \"Topic11\", \"Topic11\", \"Topic11\", \"Topic11\", \"Topic11\", \"Topic11\", \"Topic11\", \"Topic11\", \"Topic11\", \"Topic11\", \"Topic11\", \"Topic11\", \"Topic11\", \"Topic11\", \"Topic11\", \"Topic11\", \"Topic11\", \"Topic11\", \"Topic11\", \"Topic11\", \"Topic11\", \"Topic11\", \"Topic11\", \"Topic11\", \"Topic11\", \"Topic11\", \"Topic12\", \"Topic12\", \"Topic12\", \"Topic12\", \"Topic12\", \"Topic12\", \"Topic12\", \"Topic12\", \"Topic12\", \"Topic12\", \"Topic12\", \"Topic12\", \"Topic12\", \"Topic12\", \"Topic12\", \"Topic12\", \"Topic12\", \"Topic12\", \"Topic12\", \"Topic12\", \"Topic12\", \"Topic12\", \"Topic12\", \"Topic12\", \"Topic12\", \"Topic12\", \"Topic12\", \"Topic12\", \"Topic12\", \"Topic12\", \"Topic12\", \"Topic12\", \"Topic12\", \"Topic12\", \"Topic12\", \"Topic12\", \"Topic12\", \"Topic12\", \"Topic12\", \"Topic12\", \"Topic12\", \"Topic12\", \"Topic12\", \"Topic13\", \"Topic13\", \"Topic13\", \"Topic13\", \"Topic13\", \"Topic13\", \"Topic13\", \"Topic13\", \"Topic13\", \"Topic13\", \"Topic13\", \"Topic13\", \"Topic13\", \"Topic13\", \"Topic13\", \"Topic13\", \"Topic13\", \"Topic13\", \"Topic13\", \"Topic13\", \"Topic13\", \"Topic13\", \"Topic13\", \"Topic13\", \"Topic13\", \"Topic13\", \"Topic13\", \"Topic13\", \"Topic13\", \"Topic13\", \"Topic13\", \"Topic13\", \"Topic13\", \"Topic13\", \"Topic13\", \"Topic13\", \"Topic13\", \"Topic13\", \"Topic13\", \"Topic13\", \"Topic13\", \"Topic13\", \"Topic14\", \"Topic14\", \"Topic14\", \"Topic14\", \"Topic14\", \"Topic14\", \"Topic14\", \"Topic14\", \"Topic14\", \"Topic14\", \"Topic14\", \"Topic14\", \"Topic14\", \"Topic14\", \"Topic14\", \"Topic14\", \"Topic14\", \"Topic14\", \"Topic14\", \"Topic14\", \"Topic14\", \"Topic14\", \"Topic14\", \"Topic14\", \"Topic14\", \"Topic14\", \"Topic14\", \"Topic14\", \"Topic14\", \"Topic14\", \"Topic14\", \"Topic14\", \"Topic14\", \"Topic14\", \"Topic14\", \"Topic14\", \"Topic14\", \"Topic14\", \"Topic14\", \"Topic14\", \"Topic14\", \"Topic14\", \"Topic14\", \"Topic14\", \"Topic15\", \"Topic15\", \"Topic15\", \"Topic15\", \"Topic15\", \"Topic15\", \"Topic15\", \"Topic15\", \"Topic15\", \"Topic15\", \"Topic15\", \"Topic15\", \"Topic15\", \"Topic15\", \"Topic15\", \"Topic15\", \"Topic15\", \"Topic15\", \"Topic15\", \"Topic15\", \"Topic15\", \"Topic15\", \"Topic15\", \"Topic15\", \"Topic15\", \"Topic15\", \"Topic15\", \"Topic15\", \"Topic15\", \"Topic15\", \"Topic15\", \"Topic15\", \"Topic15\", \"Topic15\", \"Topic15\", \"Topic15\", \"Topic15\", \"Topic15\", \"Topic15\", \"Topic15\", \"Topic15\", \"Topic15\", \"Topic15\", \"Topic15\", \"Topic16\", \"Topic16\", \"Topic16\", \"Topic16\", \"Topic16\", \"Topic16\", \"Topic16\", \"Topic16\", \"Topic16\", \"Topic16\", \"Topic16\", \"Topic16\", \"Topic16\", \"Topic16\", \"Topic16\", \"Topic16\", \"Topic16\", \"Topic16\", \"Topic16\", \"Topic16\", \"Topic16\", \"Topic16\", \"Topic16\", \"Topic16\", \"Topic16\", \"Topic16\", \"Topic16\", \"Topic16\", \"Topic16\", \"Topic16\", \"Topic16\", \"Topic16\", \"Topic16\", \"Topic16\", \"Topic16\", \"Topic16\", \"Topic16\", \"Topic17\", \"Topic17\", \"Topic17\", \"Topic17\", \"Topic17\", \"Topic17\", \"Topic17\", \"Topic17\", \"Topic17\", \"Topic17\", \"Topic17\", \"Topic17\", \"Topic17\", \"Topic17\", \"Topic17\", \"Topic17\", \"Topic17\", \"Topic17\", \"Topic17\", \"Topic17\", \"Topic17\", \"Topic17\", \"Topic17\", \"Topic17\", \"Topic17\", \"Topic17\", \"Topic17\", \"Topic17\", \"Topic17\", \"Topic17\", \"Topic17\", \"Topic17\", \"Topic18\", \"Topic18\", \"Topic18\", \"Topic18\", \"Topic18\", \"Topic18\", \"Topic18\", \"Topic18\", \"Topic18\", \"Topic18\", \"Topic18\", \"Topic18\", \"Topic18\", \"Topic18\", \"Topic18\", \"Topic18\", \"Topic18\", \"Topic18\", \"Topic18\", \"Topic18\", \"Topic18\", \"Topic18\", \"Topic18\", \"Topic18\", \"Topic18\", \"Topic18\", \"Topic18\", \"Topic18\", \"Topic18\", \"Topic18\", \"Topic18\", \"Topic18\", \"Topic18\", \"Topic18\", \"Topic18\", \"Topic19\", \"Topic19\", \"Topic19\", \"Topic19\", \"Topic19\", \"Topic19\", \"Topic19\", \"Topic19\", \"Topic19\", \"Topic19\", \"Topic19\", \"Topic19\", \"Topic19\", \"Topic19\", \"Topic19\", \"Topic19\", \"Topic19\", \"Topic19\", \"Topic19\", \"Topic19\", \"Topic19\", \"Topic19\", \"Topic19\", \"Topic19\", \"Topic19\", \"Topic19\", \"Topic19\", \"Topic19\", \"Topic19\", \"Topic19\", \"Topic19\", \"Topic19\", \"Topic20\", \"Topic20\", \"Topic20\", \"Topic20\", \"Topic20\", \"Topic20\", \"Topic20\", \"Topic20\", \"Topic20\", \"Topic20\", \"Topic20\", \"Topic20\", \"Topic20\", \"Topic20\", \"Topic20\", \"Topic20\", \"Topic20\", \"Topic20\", \"Topic20\", \"Topic20\", \"Topic20\", \"Topic20\", \"Topic20\", \"Topic20\", \"Topic20\", \"Topic20\", \"Topic20\", \"Topic20\", \"Topic20\", \"Topic20\", \"Topic20\", \"Topic20\", \"Topic20\", \"Topic20\", \"Topic20\"], \"logprob\": [30.0, 29.0, 28.0, 27.0, 26.0, 25.0, 24.0, 23.0, 22.0, 21.0, 20.0, 19.0, 18.0, 17.0, 16.0, 15.0, 14.0, 13.0, 12.0, 11.0, 10.0, 9.0, 8.0, 7.0, 6.0, 5.0, 4.0, 3.0, 2.0, 1.0, -3.597100019454956, -4.991600036621094, -5.034800052642822, -5.0584001541137695, -5.086100101470947, -5.258299827575684, -5.378499984741211, -5.548600196838379, -5.576200008392334, -5.587500095367432, -5.604800224304199, -5.623499870300293, -5.640399932861328, -5.704800128936768, -5.752200126647949, -5.894000053405762, -5.900100231170654, -5.939199924468994, -5.987299919128418, -6.049099922180176, -6.081500053405762, -6.111599922180176, -6.118800163269043, -6.1234002113342285, -6.144700050354004, -6.151599884033203, -6.157800197601318, -6.1768999099731445, -6.265999794006348, -6.268499851226807, -5.360799789428711, -5.571000099182129, -5.4857001304626465, -5.021500110626221, -4.406400203704834, -5.410900115966797, -4.5081000328063965, -5.646399974822998, -5.123899936676025, -4.3354997634887695, -5.4004998207092285, -4.751100063323975, -4.915299892425537, -4.524899959564209, -5.6579999923706055, -5.113100051879883, -4.803699970245361, -4.584199905395508, -3.52020001411438, -4.944699764251709, -5.166200160980225, -4.543900012969971, -4.577300071716309, -4.650000095367432, -4.734899997711182, -4.952300071716309, -5.194900035858154, -5.286600112915039, -4.953499794006348, -5.146200180053711, -5.237800121307373, -5.1844000816345215, -3.3266000747680664, -4.799300193786621, -4.819399833679199, -5.3105998039245605, -5.335899829864502, -5.337299823760986, -5.471199989318848, -5.479700088500977, -5.525000095367432, -5.5777997970581055, -5.744500160217285, -5.758600234985352, -5.865200042724609, -5.896500110626221, -6.077000141143799, -6.131400108337402, -6.1880998611450195, -6.188600063323975, -6.3734002113342285, -6.391200065612793, -6.451399803161621, -6.56220006942749, -6.563499927520752, -6.585599899291992, -6.867300033569336, -6.881400108337402, -6.8856000900268555, -6.926700115203857, -6.945899963378906, -6.97629976272583, -4.647600173950195, -5.130300045013428, -5.826600074768066, -5.770500183105469, -3.8780999183654785, -5.7916998863220215, -4.404900074005127, -5.2617998123168945, -3.569499969482422, -4.252999782562256, -2.2980000972747803, -4.675899982452393, -3.5383999347686768, -4.360499858856201, -4.229899883270264, -4.771399974822998, -3.7583999633789062, -4.305500030517578, -4.916800022125244, -2.899600028991699, -4.903600215911865, -4.257400035858154, -4.276199817657471, -4.401500225067139, -4.868500232696533, -4.541399955749512, -4.789100170135498, -4.273099899291992, -4.002099990844727, -4.366199970245361, -5.05019998550415, -4.703800201416016, -4.506899833679199, -4.6828999519348145, -4.79580020904541, -2.918299913406372, -2.983799934387207, -3.015700101852417, -3.0525999069213867, -3.2755000591278076, -3.5160999298095703, -3.638000011444092, -3.8285999298095703, -4.7683000564575195, -5.3105998039245605, -6.1880998611450195, -6.340799808502197, -2.6854000091552734, -6.479100227355957, -6.716400146484375, -6.9197001457214355, -7.503499984741211, -5.291399955749512, -7.9567999839782715, -7.968999862670898, -8.130900382995605, -8.225199699401855, -8.432700157165527, -3.9605000019073486, -8.496800422668457, -8.918700218200684, -3.465100049972534, -3.0413999557495117, -2.8373000621795654, -4.763199806213379, -4.866399765014648, -2.921999931335449, -3.503999948501587, -2.8032000064849854, -3.39520001411438, -3.121500015258789, -4.537399768829346, -3.6552999019622803, -4.59660005569458, -5.264999866485596, -4.820799827575684, -2.9637999534606934, -3.0290000438690186, -5.0447001457214355, -4.4004998207092285, -4.4741997718811035, -4.563300132751465, -5.379700183868408, -5.403800010681152, -5.548500061035156, -5.617700099945068, -5.637800216674805, -5.656199932098389, -5.685400009155273, -5.703700065612793, -5.737500190734863, -5.7444000244140625, -5.793099880218506, -5.902599811553955, -5.911200046539307, -5.921500205993652, -5.922800064086914, -5.9506001472473145, -5.9558000564575195, -5.982999801635742, -6.016499996185303, -6.059500217437744, -6.100200176239014, -6.131899833679199, -6.190100193023682, -6.202199935913086, -6.202400207519531, -6.202700138092041, -6.245200157165527, -4.679299831390381, -4.668099880218506, -5.6153998374938965, -4.748199939727783, -4.664700031280518, -5.455699920654297, -4.997700214385986, -4.701000213623047, -4.834099769592285, -5.239500045776367, -5.645400047302246, -5.684299945831299, -5.204800128936768, -5.517099857330322, -4.517399787902832, -5.300099849700928, -4.087500095367432, -4.518899917602539, -4.987199783325195, -5.153900146484375, -4.797999858856201, -4.1041998863220215, -5.243800163269043, -5.344900131225586, -4.298999786376953, -5.302700042724609, -5.366799831390381, -4.677499771118164, -4.748300075531006, -4.55649995803833, -5.006999969482422, -4.986400127410889, -4.752900123596191, -4.765399932861328, -5.134300231933594, -5.187099933624268, -5.214600086212158, -0.3521000146865845, -3.425800085067749, -3.779099941253662, -4.211699962615967, -4.341899871826172, -4.394000053405762, -4.781199932098389, -4.7835001945495605, -4.912300109863281, -5.035900115966797, -5.128799915313721, -5.24399995803833, -5.339000225067139, -5.356800079345703, -5.664100170135498, -5.698800086975098, -5.816199779510498, -5.9145002365112305, -6.0345001220703125, -6.071499824523926, -6.150700092315674, -6.18720006942749, -6.338600158691406, -6.445400238037109, -6.5346999168396, -6.553899765014648, -6.59119987487793, -6.5914998054504395, -6.615600109100342, -6.651800155639648, -3.8254001140594482, -4.022600173950195, -4.8755998611450195, -4.94350004196167, -5.441999912261963, -5.538000106811523, -6.042099952697754, -6.2733001708984375, -3.5599000453948975, -3.9047999382019043, -4.1178998947143555, -4.244100093841553, -4.3007001876831055, -4.560500144958496, -4.638700008392334, -4.646200180053711, -4.656300067901611, -4.703700065612793, -4.778500080108643, -4.782899856567383, -5.013400077819824, -5.061500072479248, -5.149700164794922, -5.182600021362305, -5.207499980926514, -5.375899791717529, -5.415999889373779, -5.44980001449585, -5.465700149536133, -5.581099987030029, -5.790500164031982, -5.925899982452393, -5.96750020980835, -5.982500076293945, -6.007900238037109, -6.011099815368652, -6.052299976348877, -6.115600109100342, -4.668099880218506, -4.439899921417236, -3.702500104904175, -4.665800094604492, -4.402400016784668, -3.789299964904785, -5.077199935913086, -4.783599853515625, -4.706099987030029, -4.578400135040283, -4.958199977874756, -3.5114998817443848, -3.884999990463257, -4.188199996948242, -4.769599914550781, -4.43310022354126, -4.128799915313721, -4.201900005340576, -4.604400157928467, -4.2916998863220215, -4.543099880218506, -4.4934000968933105, -4.74399995803833, -4.723299980163574, -3.3819000720977783, -4.39709997177124, -4.493000030517578, -4.5106000900268555, -4.6219000816345215, -4.672399997711182, -4.696400165557861, -4.762800216674805, -4.925000190734863, -4.96120023727417, -5.0543999671936035, -5.137400150299072, -5.2494001388549805, -5.276000022888184, -5.318399906158447, -5.363100051879883, -5.438000202178955, -5.53410005569458, -5.53980016708374, -5.558899879455566, -5.586999893188477, -5.6118998527526855, -5.630000114440918, -5.6697998046875, -5.731299877166748, -5.744999885559082, -5.749499797821045, -5.763899803161621, -5.794400215148926, -5.8043999671936035, -4.977399826049805, -4.274499893188477, -4.538300037384033, -4.00029993057251, -4.0493998527526855, -3.8845999240875244, -4.0177001953125, -4.235000133514404, -4.23330020904541, -4.936299800872803, -4.578999996185303, -5.127299785614014, -4.156300067901611, -4.643899917602539, -4.505799770355225, -4.90910005569458, -4.954599857330322, -4.239500045776367, -4.97629976272583, -4.979400157928467, -4.781099796295166, -4.963600158691406, -3.789900064468384, -4.005099773406982, -4.1930999755859375, -4.315199851989746, -4.567999839782715, -4.72629976272583, -4.7428998947143555, -4.8902997970581055, -5.009099960327148, -5.027599811553955, -5.098700046539307, -5.11929988861084, -5.122000217437744, -5.133500099182129, -5.137899875640869, -5.138500213623047, -5.144000053405762, -5.223400115966797, -5.229100227355957, -5.241499900817871, -5.3246002197265625, -5.45550012588501, -5.458600044250488, -5.4653000831604, -5.468200206756592, -5.514900207519531, -5.55079984664917, -5.562099933624268, -5.5945000648498535, -5.618599891662598, -4.249300003051758, -4.712699890136719, -3.8345000743865967, -4.657899856567383, -4.880000114440918, -4.7505998611450195, -5.107900142669678, -3.962599992752075, -5.1184000968933105, -4.585299968719482, -4.007400035858154, -4.553899765014648, -4.512899875640869, -4.8379998207092285, -5.005300045013428, -4.84060001373291, -4.540599822998047, -4.896500110626221, -4.729899883270264, -4.864799976348877, -4.6996002197265625, -5.014999866485596, -4.831699848175049, -5.014599800109863, -4.184100151062012, -4.19320011138916, -4.2144999504089355, -4.464700222015381, -4.4664998054504395, -4.792200088500977, -4.803800106048584, -4.815199851989746, -4.877600193023682, -4.889400005340576, -4.914400100708008, -4.915200233459473, -4.963399887084961, -5.017899990081787, -5.0756001472473145, -5.0802998542785645, -5.097700119018555, -5.1143999099731445, -5.121099948883057, -5.133299827575684, -5.149899959564209, -5.201300144195557, -5.233099937438965, -5.235000133514404, -5.3709001541137695, -5.461100101470947, -5.536799907684326, -5.540200233459473, -5.543900012969971, -5.551300048828125, -4.606800079345703, -4.47189998626709, -4.673500061035156, -4.398399829864502, -4.9039998054504395, -4.297900199890137, -3.9003000259399414, -4.8927001953125, -4.522200107574463, -4.574999809265137, -4.901599884033203, -3.9809000492095947, -4.602499961853027, -4.811200141906738, -4.6280999183654785, -4.7469000816345215, -4.988399982452393, -4.9394001960754395, -2.912400007247925, -3.366499900817871, -3.466099977493286, -3.6282999515533447, -4.362599849700928, -4.506700038909912, -4.512700080871582, -4.548099994659424, -4.626999855041504, -4.627500057220459, -4.716000080108643, -4.754499912261963, -4.769400119781494, -4.845900058746338, -4.853700160980225, -4.859300136566162, -4.873600006103516, -4.87529993057251, -4.88129997253418, -5.079599857330322, -5.09250020980835, -5.179900169372559, -5.335100173950195, -5.349400043487549, -5.401100158691406, -5.404200077056885, -5.442399978637695, -5.502399921417236, -5.502900123596191, -5.5106000900268555, -5.011099815368652, -4.6915998458862305, -3.812700033187866, -4.735599994659424, -4.128600120544434, -4.84250020980835, -4.7708001136779785, -3.5977001190185547, -4.400199890136719, -4.3256001472473145, -4.152500152587891, -3.8875999450683594, -4.542399883270264, -4.8246002197265625, -3.086699962615967, -3.619800090789795, -4.153200149536133, -4.283299922943115, -4.31850004196167, -4.571599960327148, -4.71560001373291, -5.150400161743164, -5.21120023727417, -5.216300010681152, -5.303999900817871, -5.339399814605713, -5.351600170135498, -5.413300037384033, -5.470300197601318, -5.628399848937988, -5.64769983291626, -5.958199977874756, -5.999199867248535, -6.048999786376953, -6.072199821472168, -6.121200084686279, -6.122200012207031, -6.153299808502197, -6.1697001457214355, -6.197800159454346, -6.226500034332275, -6.234799861907959, -6.287499904632568, -6.331200122833252, -4.756700038909912, -3.2959001064300537, -3.728800058364868, -4.407800197601318, -5.715099811553955, -4.689700126647949, -5.753300189971924, -3.8901000022888184, -3.519200086593628, -4.577000141143799, -4.299300193786621, -3.998199939727783, -5.120800018310547, -4.408100128173828, -4.697199821472168, -3.405100107192993, -4.2322998046875, -4.382900238037109, -4.554500102996826, -4.5671000480651855, -4.549900054931641, -4.9583001136779785, -4.829800128936768, -4.656599998474121, -4.544000148773193, -4.6946001052856445, -4.531899929046631, -4.403200149536133, -4.520199775695801, -1.8014999628067017, -2.0373001098632812, -2.9918999671936035, -3.5929999351501465, -4.204800128936768, -4.503499984741211, -4.680500030517578, -4.765600204467773, -4.802999973297119, -4.984300136566162, -5.107699871063232, -5.2795000076293945, -5.341000080108643, -5.367199897766113, -5.396699905395508, -5.420000076293945, -5.481599807739258, -5.687399864196777, -5.723599910736084, -5.785600185394287, -5.862500190734863, -5.882900238037109, -5.9145002365112305, -5.965799808502197, -6.0269999504089355, -6.2322001457214355, -6.263800144195557, -6.3354997634887695, -6.360099792480469, -6.362199783325195, -1.972599983215332, -2.1723999977111816, -4.999899864196777, -5.591700077056885, -3.4691998958587646, -3.1349000930786133, -5.1641998291015625, -4.137400150299072, -4.643899917602539, -4.226600170135498, -4.276500225067139, -4.938300132751465, -5.062600135803223, -3.670300006866455, -3.9941999912261963, -4.035699844360352, -4.125, -4.162799835205078, -4.236199855804443, -4.426799774169922, -4.476099967956543, -4.483099937438965, -4.484099864959717, -4.5625, -4.573800086975098, -4.580399990081787, -4.590099811553955, -4.688399791717529, -4.688700199127197, -4.781599998474121, -4.79580020904541, -4.815199851989746, -4.8557000160217285, -5.014800071716309, -5.062300205230713, -5.097599983215332, -5.174099922180176, -5.174300193786621, -5.209499835968018, -5.261499881744385, -5.262700080871582, -5.30019998550415, -5.335599899291992, -3.4195001125335693, -4.538099765777588, -4.816400051116943, -4.487800121307373, -4.7677998542785645, -4.439599990844727, -4.9868998527526855, -4.1153998374938965, -4.831200122833252, -3.9500999450683594, -4.589799880981445, -4.816999912261963, -2.7381999492645264, -3.2602999210357666, -3.601799964904785, -3.7783000469207764, -3.8340001106262207, -3.8573999404907227, -3.9333999156951904, -4.0167999267578125, -4.110199928283691, -4.269899845123291, -4.316800117492676, -4.334400177001953, -4.453400135040283, -4.534900188446045, -4.57289981842041, -4.625699996948242, -4.652400016784668, -4.828800201416016, -4.8572001457214355, -4.865099906921387, -4.922900199890137, -4.9278998374938965, -4.934899806976318, -4.9583001136779785, -4.964300155639648, -4.970399856567383, -5.057400226593018, -5.057799816131592, -5.10230016708374, -5.1407999992370605, -4.530200004577637, -4.610400199890137, -3.841399908065796, -4.002200126647949, -4.107399940490723, -4.564599990844727, -4.220200061798096, -4.244500160217285, -4.676199913024902, -4.418799877166748, -3.897200107574463, -4.499899864196777, -4.773499965667725, -4.766200065612793, -2.836199998855591, -3.4033000469207764, -3.5947999954223633, -3.6596999168395996, -3.6867001056671143, -3.829400062561035, -4.094600200653076, -4.203100204467773, -4.208000183105469, -4.228000164031982, -4.2281999588012695, -4.2571001052856445, -4.3730998039245605, -4.394000053405762, -4.4959001541137695, -4.571599960327148, -4.604100227355957, -4.63539981842041, -4.688399791717529, -4.787899971008301, -4.935200214385986, -4.958499908447266, -5.087100028991699, -5.120200157165527, -5.122099876403809, -5.162600040435791, -5.198299884796143, -5.280399799346924, -5.295300006866455, -5.357600212097168, -3.1696999073028564, -3.7780001163482666, -4.678400039672852, -3.277400016784668, -4.731599807739258, -4.108099937438965, -4.617099761962891, -4.6020002365112305, -4.193999767303467, -3.9184999465942383, -4.426499843597412, -4.085400104522705, -4.535399913787842, -4.579100131988525, -1.7077000141143799, -2.7481000423431396, -3.5422000885009766, -3.8694000244140625, -3.8935000896453857, -4.019800186157227, -4.020899772644043, -4.09660005569458, -4.117300033569336, -4.137899875640869, -4.243899822235107, -4.26170015335083, -4.406099796295166, -4.4079999923706055, -4.433499813079834, -4.445799827575684, -4.469699859619141, -4.5177001953125, -4.563899993896484, -4.57480001449585, -4.6682000160217285, -4.6753997802734375, -4.712900161743164, -4.816500186920166, -4.85890007019043, -4.859000205993652, -4.865300178527832, -4.893499851226807, -4.905600070953369, -5.05109977722168, -3.9052000045776367, -3.6919000148773193, -3.863100051879883, -3.214900016784668, -3.392699956893921, -4.5767998695373535, -4.668600082397461, -0.49619999527931213, -1.6410000324249268, -4.94920015335083, -5.11299991607666, -5.342100143432617, -5.678999900817871, -5.837500095367432, -5.932300090789795, -4.257599830627441, -6.38700008392334, -6.843900203704834, -6.985499858856201, -9.328399658203125, -6.401100158691406, -5.219200134277344, -5.518700122833252, -5.393799781799316, -6.308499813079834, -4.6905999183654785, -5.530700206756592, -12.213600158691406, -12.214500427246094, -12.214599609375, -12.214900016784668, -12.215200424194336, -12.215800285339355, -12.215999603271484, -12.215900421142578, -12.215900421142578, -12.216099739074707, -12.215800285339355, -4.760300159454346, -2.2555999755859375, -2.4655001163482666, -2.700200080871582, -3.2897000312805176, -3.4551000595092773, -3.583199977874756, -3.6303999423980713, -3.724299907684326, -3.77239990234375, -3.7848000526428223, -3.7929999828338623, -4.019000053405762, -4.261899948120117, -4.350599765777588, -4.556300163269043, -4.558300018310547, -4.564599990844727, -4.759200096130371, -4.9969000816345215, -5.348499774932861, -5.485199928283691, -5.6315999031066895, -5.700399875640869, -5.702600002288818, -5.761499881744385, -5.874899864196777, -5.953100204467773, -6.6041998863220215, -7.269899845123291, -4.098400115966797, -3.211699962615967, -3.4102001190185547, -4.179800033569336, -4.096199989318848, -5.4721999168396, -1.3995000123977661, -2.282900094985962, -2.9177000522613525, -3.328700065612793, -3.696500062942505, -3.7195000648498535, -3.781599998474121, -3.8417999744415283, -3.9544999599456787, -4.228600025177002, -4.480599880218506, -4.649899959564209, -2.7190001010894775, -4.8892998695373535, -5.580100059509277, -5.916999816894531, -4.093999862670898, -3.72760009765625, -3.677500009536743, -5.452199935913086, -4.510799884796143, -11.41670036315918, -11.41670036315918, -11.41670036315918, -11.41670036315918, -11.41670036315918, -11.41670036315918, -11.41670036315918, -11.416799545288086, -11.416799545288086, -11.41670036315918, -11.416799545288086, -3.0060999393463135, -3.1947999000549316, -3.4827001094818115, -3.6324000358581543, -3.8968000411987305, -4.037799835205078, -4.292799949645996, -4.568399906158447, -5.387599945068359, -5.892000198364258, -6.479599952697754, -3.6278998851776123, -5.083099842071533, -2.346100091934204, -1.142899990081787, -2.4063000679016113, -3.929500102996826, -11.53339958190918, -11.534099578857422, -11.53380012512207, -11.534299850463867, -11.534299850463867, -11.534299850463867, -11.534299850463867, -11.53439998626709, -11.53439998626709, -11.53439998626709, -11.53439998626709, -11.53439998626709, -11.53439998626709, -11.53439998626709, -11.534000396728516, -11.53439998626709, -11.534299850463867, -11.53439998626709], \"loglift\": [30.0, 29.0, 28.0, 27.0, 26.0, 25.0, 24.0, 23.0, 22.0, 21.0, 20.0, 19.0, 18.0, 17.0, 16.0, 15.0, 14.0, 13.0, 12.0, 11.0, 10.0, 9.0, 8.0, 7.0, 6.0, 5.0, 4.0, 3.0, 2.0, 1.0, 2.1174, 2.1162, 2.1161, 2.116, 2.116, 2.1156, 2.1154, 2.1149, 2.1148, 2.1148, 2.1147, 2.1147, 2.1146, 2.1144, 2.1142, 2.1137, 2.1137, 2.1135, 2.1133, 2.113, 2.1128, 2.1127, 2.1127, 2.1126, 2.1125, 2.1125, 2.1124, 2.1123, 2.1118, 2.1118, 2.0376, 2.0477, 2.0276, 1.9453, 1.8476, 1.9978, 1.8479, 2.0348, 1.933, 1.7487, 1.9412, 1.6736, 1.6584, 1.4352, 1.9828, 1.6722, 1.4626, 1.2628, 0.4368, 1.4797, 1.6324, 0.8658, 0.8992, 0.7448, 0.734, 0.891, 1.382, 1.5288, 0.2472, 0.7897, 1.2084, 0.0587, 2.1226, 2.1216, 2.1215, 2.1206, 2.1206, 2.1206, 2.1202, 2.1202, 2.1201, 2.1199, 2.1194, 2.1193, 2.1189, 2.1188, 2.118, 2.1177, 2.1174, 2.1174, 2.1162, 2.1161, 2.1157, 2.1148, 2.1148, 2.1146, 2.112, 2.1118, 2.1118, 2.1113, 2.1111, 2.1107, 2.0692, 2.0673, 2.0802, 2.0727, 1.9374, 2.0449, 1.9474, 2.0074, 1.8253, 1.8909, 1.6355, 1.8644, 1.6623, 1.8043, 1.7422, 1.7883, 1.4847, 1.6024, 1.7786, 1.0574, 1.7536, 1.484, 1.4905, 1.4455, 1.716, 1.4776, 1.6169, 1.2034, 0.7175, 1.0019, 1.7802, 1.2917, 0.962, 1.2343, 0.1591, 2.2532, 2.2531, 2.2531, 2.2531, 2.2531, 2.253, 2.2529, 2.2528, 2.2519, 2.2508, 2.2471, 2.246, 2.2458, 2.245, 2.2427, 2.2403, 2.2301, 2.2208, 2.2169, 2.2165, 2.2101, 2.2059, 2.1953, 2.1919, 2.1916, 2.1606, 2.1569, 2.1524, 2.1454, 2.1357, 2.1177, 2.0703, 2.084, 1.9164, 1.8877, 1.8334, 1.945, 1.7576, 1.8338, 1.9367, 1.7881, 0.9697, 0.928, 1.6799, 2.4116, 2.4115, 2.4114, 2.4095, 2.4094, 2.4089, 2.4086, 2.4085, 2.4085, 2.4083, 2.4082, 2.4081, 2.4081, 2.4078, 2.4072, 2.4072, 2.4071, 2.4071, 2.407, 2.4069, 2.4068, 2.4066, 2.4063, 2.406, 2.4058, 2.4054, 2.4053, 2.4053, 2.4053, 2.405, 2.3933, 2.3894, 2.3864, 2.3338, 2.3259, 2.3657, 2.316, 2.277, 2.2362, 2.2746, 2.3454, 2.3529, 2.2491, 2.3034, 2.0064, 2.2334, 1.8185, 1.9469, 2.05, 2.0843, 1.8336, 1.3647, 2.0907, 2.1341, 0.944, 2.0364, 2.0987, 1.1479, 1.1689, 0.8531, 1.5556, 1.4773, 0.9893, 0.7969, 1.3022, 0.785, -0.2598, 2.5738, 2.5733, 2.5731, 2.5727, 2.5726, 2.5725, 2.5718, 2.5718, 2.5715, 2.5712, 2.571, 2.5706, 2.5703, 2.5703, 2.569, 2.5688, 2.5682, 2.5676, 2.5668, 2.5665, 2.5659, 2.5656, 2.5643, 2.5632, 2.5622, 2.562, 2.5615, 2.5615, 2.5612, 2.5608, 2.3323, 1.1773, 0.1072, -1.01, -0.4872, -0.255, -1.3225, 0.2091, 2.6177, 2.6174, 2.6172, 2.6171, 2.617, 2.6166, 2.6164, 2.6164, 2.6164, 2.6163, 2.6161, 2.6161, 2.6156, 2.6154, 2.6151, 2.615, 2.615, 2.6143, 2.6142, 2.614, 2.6139, 2.6134, 2.6123, 2.6114, 2.6111, 2.611, 2.6108, 2.6107, 2.6104, 2.6099, 2.5896, 2.5628, 2.4352, 2.4957, 2.4661, 2.3678, 2.4954, 2.4479, 2.43, 2.3871, 2.4735, 1.8982, 1.9583, 1.9781, 2.2561, 1.9285, 1.6134, 1.6823, 2.0092, 1.5337, 1.8962, 0.7073, 2.0508, 1.2958, 2.6591, 2.6581, 2.6579, 2.6579, 2.6577, 2.6576, 2.6575, 2.6574, 2.657, 2.6569, 2.6566, 2.6563, 2.6559, 2.6558, 2.6557, 2.6555, 2.6552, 2.6547, 2.6547, 2.6546, 2.6545, 2.6543, 2.6542, 2.654, 2.6536, 2.6536, 2.6535, 2.6535, 2.6533, 2.6532, 2.6187, 2.5643, 2.5666, 2.512, 2.4488, 2.4109, 2.4137, 2.3486, 2.3419, 2.466, 2.2861, 2.4941, 2.0703, 2.1778, 1.7996, 2.1797, 2.1714, 1.0435, 1.885, 1.8764, -0.8241, 1.539, 2.9767, 2.9764, 2.9761, 2.9759, 2.9753, 2.9749, 2.9748, 2.9743, 2.9739, 2.9738, 2.9735, 2.9734, 2.9734, 2.9734, 2.9733, 2.9733, 2.9733, 2.9729, 2.9729, 2.9728, 2.9724, 2.9716, 2.9716, 2.9716, 2.9715, 2.9712, 2.971, 2.9709, 2.9707, 2.9705, 2.8795, 2.8953, 2.8111, 2.8128, 2.8262, 2.7801, 2.8638, 2.5003, 2.8552, 2.6644, 2.4292, 2.2361, 2.1658, 2.4572, 2.6492, 2.2097, 1.4278, 2.3488, 1.7407, 1.9965, 0.8627, 2.4498, 0.6448, 1.5628, 3.0346, 3.0346, 3.0345, 3.034, 3.034, 3.033, 3.033, 3.0329, 3.0327, 3.0327, 3.0326, 3.0326, 3.0324, 3.0321, 3.0319, 3.0319, 3.0318, 3.0317, 3.0317, 3.0316, 3.0315, 3.0313, 3.0311, 3.0311, 3.0303, 3.0298, 3.0292, 3.0292, 3.0292, 3.0291, 2.9765, 2.8904, 2.9151, 2.861, 2.9316, 2.7061, 2.5594, 2.8462, 2.5441, 2.4374, 2.746, 1.3873, 1.8437, 2.007, 1.1386, 1.2486, 2.4268, 0.6228, 3.1051, 3.1048, 3.1047, 3.1045, 3.1033, 3.1029, 3.1029, 3.1028, 3.1026, 3.1026, 3.1023, 3.1021, 3.1021, 3.1018, 3.1018, 3.1017, 3.1017, 3.1017, 3.1017, 3.1008, 3.1007, 3.1003, 3.0994, 3.0993, 3.0989, 3.0989, 3.0986, 3.0982, 3.0982, 3.0981, 3.0222, 2.9683, 2.5818, 2.8278, 2.468, 2.8118, 2.7721, 1.9646, 2.2561, 2.1342, 1.7834, 0.0694, 1.6239, 0.6443, 3.129, 3.1285, 3.1276, 3.1274, 3.1273, 3.1266, 3.1261, 3.1242, 3.1238, 3.1238, 3.1233, 3.1231, 3.123, 3.1225, 3.1221, 3.1209, 3.1207, 3.1174, 3.1169, 3.1163, 3.116, 3.1153, 3.1153, 3.1148, 3.1146, 3.1141, 3.1137, 3.1136, 3.1127, 3.112, 3.1117, 2.9549, 2.9415, 2.9705, 3.0584, 2.9291, 3.0609, 2.7769, 2.7052, 2.8055, 2.7124, 2.5044, 2.8272, 2.5371, 2.607, 1.9631, 2.3662, 2.3451, 2.3926, 2.3611, 2.1929, 2.6282, 2.4574, 2.1651, 1.9023, 2.1726, 1.7735, 1.3635, 1.4753, 3.3118, 3.3118, 3.3113, 3.3107, 3.3096, 3.3087, 3.308, 3.3077, 3.3075, 3.3066, 3.3059, 3.3048, 3.3043, 3.3041, 3.3039, 3.3037, 3.3031, 3.3011, 3.3007, 3.3, 3.299, 3.2988, 3.2983, 3.2976, 3.2967, 3.2933, 3.2927, 3.2913, 3.2907, 3.2907, 3.2378, 3.0275, 3.1996, 3.221, 1.5231, 0.7986, 2.5548, 1.4506, 1.7865, 0.9671, 0.6783, 1.544, 0.5595, 3.3373, 3.3367, 3.3366, 3.3364, 3.3363, 3.3361, 3.3356, 3.3354, 3.3354, 3.3354, 3.3351, 3.3351, 3.335, 3.335, 3.3346, 3.3346, 3.3342, 3.3341, 3.334, 3.3338, 3.333, 3.3327, 3.3325, 3.332, 3.332, 3.3318, 3.3314, 3.3314, 3.3311, 3.3308, 3.2622, 3.2569, 3.1742, 3.0342, 3.1026, 2.3504, 3.0044, 1.4468, 2.698, 0.0068, 1.5479, 2.417, 3.8314, 3.8307, 3.83, 3.8296, 3.8294, 3.8294, 3.8291, 3.8288, 3.8285, 3.8278, 3.8276, 3.8275, 3.8269, 3.8264, 3.8262, 3.8259, 3.8257, 3.8244, 3.8242, 3.8241, 3.8237, 3.8236, 3.8236, 3.8233, 3.8233, 3.8232, 3.8224, 3.8224, 3.822, 3.8216, 3.7702, 3.7281, 3.5499, 3.4107, 3.2602, 3.5238, 3.1764, 2.1947, 3.1178, 2.1778, 0.0598, 1.9245, 2.6993, 2.1994, 3.8964, 3.8955, 3.8951, 3.8949, 3.8948, 3.8944, 3.8935, 3.893, 3.893, 3.8929, 3.8929, 3.8928, 3.8922, 3.8921, 3.8915, 3.891, 3.8908, 3.8906, 3.8902, 3.8894, 3.8881, 3.8879, 3.8866, 3.8862, 3.8862, 3.8858, 3.8853, 3.8843, 3.8841, 3.8832, 3.8696, 3.7588, 3.828, 3.279, 3.5999, 3.1791, 3.4486, 3.3568, 2.8178, 1.823, 2.8223, -0.1284, 2.3359, 1.6717, 4.3035, 4.3025, 4.3006, 4.2992, 4.2991, 4.2984, 4.2984, 4.298, 4.2979, 4.2977, 4.297, 4.2969, 4.2958, 4.2958, 4.2956, 4.2955, 4.2952, 4.2948, 4.2944, 4.2943, 4.2933, 4.2932, 4.2928, 4.2916, 4.2911, 4.2911, 4.291, 4.2906, 4.2904, 4.2883, 4.1767, 3.9608, 3.8716, 3.4849, 3.5536, 3.9707, 3.7574, 4.323, 4.3226, 4.3086, 4.3061, 4.3017, 4.2932, 4.2882, 4.2848, 4.2703, 4.2633, 4.2302, 4.2168, 3.5493, 3.3074, 2.8516, 2.7019, 2.5089, 1.9698, 1.8486, 1.5196, 1.2352, 1.2346, 1.2344, 1.2343, 1.2339, 1.2337, 1.2336, 1.2336, 1.2336, 1.2335, 1.2335, 0.2224, 5.0106, 5.0101, 5.0095, 5.007, 5.0061, 5.0052, 5.0048, 5.0041, 5.0037, 5.0035, 5.0035, 5.0012, 4.9981, 4.9968, 4.9932, 4.9932, 4.9931, 4.9889, 4.9827, 4.9704, 4.9644, 4.957, 4.9532, 4.9531, 4.9496, 4.9423, 4.9368, 4.872, 4.755, 4.4345, 4.2147, 3.9384, 3.2594, 2.8028, 2.7273, 5.0974, 5.0961, 5.0941, 5.092, 5.0893, 5.089, 5.0885, 5.0879, 5.0866, 5.083, 5.0786, 5.075, 5.0724, 5.0688, 5.0403, 5.018, 4.6636, 4.6348, 4.1913, 3.309, 2.3606, 2.033, 2.0329, 2.0329, 2.0329, 2.0329, 2.0329, 2.0329, 2.0328, 2.0328, 2.0328, 2.0327, 5.2049, 5.2038, 5.2018, 5.2005, 5.1976, 5.1957, 5.1916, 5.1858, 5.1559, 5.122, 5.0567, 4.7778, 4.6631, 4.3785, 4.27, 4.133, 2.6794, 1.9158, 1.9154, 1.9153, 1.9152, 1.9152, 1.9152, 1.9152, 1.9152, 1.9152, 1.9152, 1.9152, 1.9152, 1.9152, 1.9151, 1.9148, 1.9151, 1.915, 1.9147]}, \"token.table\": {\"Topic\": [18, 6, 12, 5, 12, 14, 4, 13, 9, 18, 3, 13, 3, 14, 11, 15, 14, 10, 19, 7, 3, 7, 17, 20, 18, 7, 13, 18, 13, 13, 15, 15, 15, 11, 15, 8, 13, 10, 7, 12, 3, 7, 20, 1, 17, 6, 10, 2, 7, 20, 7, 13, 18, 13, 9, 5, 3, 5, 12, 7, 18, 3, 18, 3, 9, 1, 19, 5, 3, 12, 15, 18, 20, 14, 14, 12, 15, 13, 19, 18, 11, 11, 14, 3, 13, 15, 15, 15, 9, 15, 7, 15, 10, 19, 3, 16, 4, 5, 18, 12, 18, 15, 12, 18, 15, 3, 5, 12, 18, 12, 14, 18, 12, 12, 3, 3, 20, 20, 14, 15, 15, 15, 13, 16, 7, 18, 20, 2, 9, 13, 19, 12, 20, 10, 7, 13, 13, 9, 15, 3, 3, 7, 15, 8, 12, 19, 13, 11, 7, 12, 6, 13, 7, 20, 3, 20, 12, 14, 3, 12, 12, 12, 13, 19, 7, 5, 13, 13, 3, 13, 15, 19, 6, 19, 3, 4, 12, 12, 4, 18, 15, 9, 9, 3, 20, 7, 7, 13, 3, 7, 12, 18, 3, 13, 6, 6, 12, 13, 11, 2, 1, 17, 5, 1, 9, 11, 4, 6, 13, 15, 19, 4, 6, 15, 8, 9, 10, 15, 19, 12, 9, 16, 11, 6, 11, 2, 7, 1, 7, 11, 1, 1, 6, 8, 10, 15, 6, 1, 17, 1, 12, 7, 2, 1, 2, 9, 9, 7, 11, 14, 11, 9, 10, 11, 8, 9, 6, 7, 10, 8, 5, 3, 5, 12, 6, 1, 2, 4, 10, 5, 11, 4, 11, 15, 4, 20, 2, 14, 14, 2, 18, 1, 2, 6, 10, 14, 1, 8, 1, 10, 17, 18, 4, 6, 14, 1, 4, 8, 9, 2, 7, 11, 18, 3, 7, 9, 1, 4, 6, 13, 4, 18, 4, 3, 12, 7, 1, 2, 4, 6, 8, 9, 10, 18, 8, 16, 13, 4, 6, 5, 17, 1, 2, 4, 6, 16, 5, 8, 9, 1, 11, 2, 8, 9, 6, 10, 14, 11, 15, 16, 9, 9, 9, 1, 8, 11, 15, 10, 7, 19, 1, 2, 4, 9, 11, 14, 15, 4, 10, 14, 5, 11, 1, 11, 1, 4, 9, 14, 1, 4, 10, 11, 13, 13, 5, 7, 1, 12, 14, 16, 2, 6, 7, 15, 2, 1, 14, 4, 13, 9, 1, 2, 4, 1, 4, 9, 13, 6, 6, 9, 11, 19, 14, 5, 4, 1, 2, 3, 4, 5, 12, 2, 1, 6, 7, 8, 5, 2, 4, 8, 15, 7, 17, 4, 9, 11, 1, 3, 14, 12, 6, 1, 17, 5, 5, 8, 8, 1, 18, 2, 8, 1, 2, 4, 6, 11, 14, 6, 5, 12, 11, 13, 8, 16, 6, 10, 4, 2, 6, 19, 11, 2, 14, 10, 19, 16, 4, 6, 8, 3, 4, 5, 7, 15, 8, 7, 4, 8, 4, 7, 2, 20, 4, 4, 6, 7, 20, 10, 1, 2, 4, 5, 6, 8, 9, 10, 15, 10, 4, 4, 6, 1, 4, 6, 7, 11, 1, 18, 11, 5, 10, 1, 7, 11, 1, 6, 11, 18, 14, 4, 5, 4, 14, 12, 1, 2, 9, 10, 11, 16, 11, 15, 5, 10, 1, 2, 4, 10, 4, 6, 14, 15, 8, 6, 1, 2, 4, 6, 7, 8, 11, 19, 9, 16, 2, 14, 9, 17, 11, 7, 18, 15, 1, 12, 1, 2, 9, 10, 11, 6, 11, 8, 1, 18, 3, 10, 2, 19, 4, 2, 4, 6, 10, 12, 1, 9, 1, 2, 6, 9, 10, 2, 4, 9, 10, 10, 1, 2, 4, 10, 7, 9, 10, 3, 9, 7, 8, 9, 11, 2, 1, 10, 3, 1, 2, 9, 1, 2, 4, 14, 16, 6, 2, 2, 8, 2, 4, 8, 16, 15, 1, 2, 12, 4, 6, 8, 9, 11, 1, 4, 10, 13, 14, 10, 14, 10, 16, 1, 11, 2, 16, 14, 6, 7, 5, 7, 14, 1, 2, 11, 1, 4, 6, 7, 9, 13, 4, 8, 16, 6, 7, 13, 4, 6, 7, 15, 4, 14, 15, 17, 1, 2, 11, 1, 2, 1, 7, 9, 11, 13, 4, 9, 19, 3, 10, 4, 2, 9, 1, 2, 4, 6, 8, 11, 17, 9, 13, 11, 2, 1, 2, 6, 9, 10, 13, 15, 1, 2, 9, 11, 15, 1, 4, 1, 2, 4, 6, 9, 4, 7, 8, 10, 10, 3, 1, 2, 9, 11, 15, 4, 4, 7, 9, 3, 2, 1, 1, 2, 4, 6, 7, 5, 8, 1, 4, 4, 13, 2, 3, 4, 5, 14, 6, 14, 16, 4, 7, 8, 1, 2, 4, 10, 11, 8, 2, 8, 9, 15, 6, 4, 14, 8, 10, 8, 10, 2, 10, 14, 3, 12, 14, 1, 2, 11, 11, 11, 16, 7, 13, 16, 6, 16, 7, 15, 10, 4, 9, 13, 9, 10, 13, 10, 9, 1, 10, 13, 6, 14, 4, 7, 7, 1, 4, 4, 8, 9, 11, 16, 6, 9, 11, 17, 1, 11, 1, 2, 4, 6, 1, 4, 6, 7, 8, 13, 14, 14, 16, 16, 1, 4, 6, 7, 9, 10, 3, 8, 7, 11, 2, 10, 9, 4, 8, 2, 2, 4, 17, 10, 2, 4, 6, 8, 9, 12, 1, 4, 13, 4, 8, 10, 16, 11, 16, 3, 5, 12, 17, 4, 6, 12, 4, 11, 13, 5, 7, 16, 8, 7, 16, 4, 9, 6, 12, 14, 11, 11, 1, 2, 8, 9, 11, 1, 8, 11, 1, 1, 6, 10, 5, 1, 4, 7, 7, 10, 16, 1, 2, 10, 11, 4, 4, 9, 6, 1, 2, 6, 7, 8, 16, 20, 2, 4, 6, 7, 8, 10, 11, 1, 4, 9, 16, 18, 16, 20, 4, 14, 9, 13, 6, 10, 11, 1, 2, 4, 6, 8, 14, 7, 6, 13, 11, 13, 1, 10, 11, 7, 1, 6, 7, 9, 10, 4, 6, 20, 4, 5, 12, 1, 4, 6, 7, 1, 12, 6, 1, 4, 16, 15, 18, 1, 4, 8, 11, 14, 5, 1, 2, 11, 1, 6, 7, 8, 9, 15, 16, 8, 10, 8, 7, 11, 15, 15, 16, 15, 7, 13, 11, 11, 5, 5, 8, 9, 13, 14, 7, 11, 13, 14, 16, 17, 11, 1, 6, 8, 9, 15, 17, 7, 1, 2, 9, 10, 11, 4, 1, 3, 3, 14, 8, 12, 2, 10, 9, 13, 18, 1, 17, 2, 4, 6, 10, 1, 2, 3, 4, 6, 7, 8, 10, 13, 14, 15, 19, 13, 1, 2, 8, 9, 11, 13, 15, 3, 7, 13, 18, 10, 6, 15, 10, 7, 10, 7, 9, 10, 1, 2, 4, 8, 9, 1, 2, 4, 2, 6, 7, 9, 15, 1, 2, 11, 1, 7, 12, 1, 2, 4, 6, 8, 16, 13, 4, 5, 8, 13, 6, 14, 11, 6, 7, 9, 16, 14, 2, 4, 8, 10, 8, 15, 1, 7, 9, 4, 7, 13, 13, 16, 4, 14, 1, 4, 15, 10, 2, 4, 8, 10, 1, 9, 11, 1, 11, 13, 17, 2, 8, 5, 8, 11, 14, 6, 1, 4, 19, 4, 7, 8, 14, 4, 7, 16, 1, 2, 4, 4, 1, 4, 6, 7, 16, 2, 3, 5, 12, 8, 1, 2, 4, 8, 9, 10, 1, 2, 14, 6, 6, 10, 10, 13, 2, 4, 6, 9, 11, 12, 1, 17, 9, 10, 6, 7, 8, 9, 10, 18, 4, 6, 16, 1, 2, 4, 11, 1, 2, 4, 11, 1, 14, 2, 18, 1, 2, 4, 6, 8, 9, 10, 1, 9, 13, 4, 8, 4, 8, 8, 19, 8, 1, 2, 6, 11, 11, 1, 2, 6, 11, 9, 1, 4, 7, 3, 16, 11, 4, 7, 1, 14, 7, 15, 1, 4, 6, 7, 14, 6, 4, 6, 11, 3, 12, 1, 2, 4, 6, 6, 7, 14, 6, 9, 16, 15, 3, 9, 1, 2, 4, 6, 9, 17, 5, 2, 15, 2, 16, 1, 2, 4, 6, 10, 2, 2, 4, 8, 10, 2, 4, 8, 4, 8, 14, 18, 5, 2, 4, 6, 2, 10, 6, 13, 2, 9, 1, 1, 2, 4, 6, 12, 2, 18, 17, 12, 1, 2, 4, 8, 9, 10, 13, 15, 3, 12], \"Freq\": [0.9668774324268226, 0.9906863117470691, 0.9900111705175832, 0.9910171761152677, 0.9849502873423492, 0.9947577921661451, 0.9959836639607299, 0.9973647074465296, 0.9956768725062738, 0.9863791795844368, 0.9405827508100911, 0.059180961670098016, 0.9940170279857286, 0.9886397519412029, 0.02585864606527594, 0.9720935465279659, 0.994758716315269, 0.9937774510842802, 0.9422755600149324, 0.9947604723097465, 0.28927212717012085, 0.28520605309343244, 0.08422582015997496, 0.34038848699134705, 0.9936673638025377, 0.14877764640694918, 0.8480325845196104, 0.9783299972578531, 0.9966785835363458, 0.9963557543975033, 0.9970445593152779, 0.9945038991073748, 0.9968150874256653, 0.5105010943787126, 0.4871849386258387, 0.9938605582667489, 0.9929024821460319, 0.9966074378010575, 0.9925422423248442, 0.9943073885080218, 0.6277470730858774, 0.2914539982184431, 0.0797139140426511, 0.7989516506797537, 0.19661700778447064, 0.9964182531793385, 0.9934994961153836, 0.9247052991108957, 0.07227581648223093, 0.9829299600989837, 0.07544900042594978, 0.9217013025007919, 0.8407066312091461, 0.9957993505001597, 0.9928978763005041, 0.9846260552801195, 0.7347719489825453, 0.09383570072891356, 0.17066025103328722, 0.9944237150169181, 0.8902839327224027, 0.8889585753665966, 0.10987128459587149, 0.9900874016460114, 0.9943247754641078, 0.9994691893085881, 0.9286807161616305, 0.9931287986341657, 0.9682283707201674, 0.02920053816457648, 0.9850791453103995, 0.9600249536329944, 0.9691309205985471, 0.9932171573287223, 0.9938426486452295, 0.9139883612819035, 0.07898664850584351, 0.3668439191488096, 0.6293890769709969, 0.926360228949905, 0.9937802689071317, 0.9856234582333183, 0.9992802997288672, 0.9994688404959933, 0.062298033080607836, 0.9344704962091176, 0.9986878284865695, 0.9868642265439308, 0.8270801010496492, 0.16965745662556908, 0.12758054936960658, 0.8710128864369437, 0.34170446249031955, 0.6460349993957605, 0.9995796130394579, 0.9911904629351871, 0.2141755584639415, 0.7853103810344522, 0.9970962600016677, 0.9783255761998829, 0.945646732019165, 0.9953330018090718, 0.9805246560995504, 0.9910953321094602, 0.9943551267938125, 0.9924051111890758, 0.007445074096366294, 0.8922367237300294, 0.10083497220236634, 0.05408170314739988, 0.9396695921860728, 0.998599052903651, 0.9873331427887588, 0.9930470571380888, 0.9987743456388487, 0.34548569339447754, 0.6496633147526588, 0.9555628598887767, 0.9985089675032134, 0.9861133183496844, 0.9854417617961208, 0.9947765446021082, 0.9925216722453366, 0.9850194766169875, 0.9955669617243592, 0.9803007912990095, 0.9870376184701496, 0.24988330630971314, 0.7478901773354091, 0.9971555491048673, 0.9854334392929813, 0.40178510759504477, 0.5739787251357782, 0.9953616871250598, 0.2607469560531203, 0.7372309769359057, 0.9983579022716318, 0.9945236773048636, 0.9935845919270531, 0.9681546187715174, 0.7289240689644696, 0.26926252315689064, 0.9921880279114252, 0.9969152534010945, 0.9910037405011599, 0.9918792109452494, 0.9947887588666456, 0.9875055692012249, 0.5272450260700186, 0.46866224539557205, 0.9955885095996635, 0.9966896814535299, 0.9946849033645595, 0.9177059869761687, 0.6090497096899824, 0.3905903209329077, 0.9984878380567261, 0.9972872191748159, 0.9776409289689807, 0.988781595509801, 0.995264850170388, 0.9944586541811883, 0.5927070692998377, 0.40391889167100054, 0.9954787931447864, 0.9882605626368192, 0.9917928325683686, 0.9980741673843565, 0.9252164581015975, 0.35818393660032577, 0.6388504540856557, 0.9759859706135574, 0.9944681340251231, 0.989318809747825, 0.6574474102569124, 0.12450866168890815, 0.2177599187697222, 0.9851666638470199, 0.9927086213690963, 0.9785964092237539, 0.99382129450792, 0.9962329925289163, 0.9964031266091871, 0.5635153575245583, 0.43557080364491296, 0.9958356719154505, 0.6004079418348347, 0.39794479865797183, 0.8728575587851726, 0.1250823916016135, 0.9935449995288865, 0.9414787556896433, 0.9997570496142357, 0.9962388263235575, 0.9974660850034696, 0.07136234028149072, 0.9284794143951711, 0.9963941665820427, 0.9907665284760798, 0.9925382948008301, 0.9986114087461353, 0.9568490836587773, 0.9961197262394027, 0.12606247289821051, 0.2795840983089025, 0.592868065610396, 0.11497397279520534, 0.4485604290742518, 0.16112549708623847, 0.2097060489715365, 0.06477406918039738, 0.11363664009831115, 0.884201285336383, 0.9867573057249749, 0.7304765821975598, 0.08037606406057292, 0.08983207159711092, 0.09810607819158165, 0.9950064759476458, 0.995509621904646, 0.11410863113722117, 0.8802665830585633, 0.9854904172549604, 0.9956601912973397, 0.9947585900500611, 0.9866855058838816, 0.9928337819625569, 0.831482820881771, 0.12379638716528124, 0.043864861593997294, 0.9941297626943654, 0.12281971721653423, 0.1062862937450777, 0.4109736691476338, 0.017714382290846285, 0.3412970988036384, 0.9981512172259231, 0.9972053757188234, 0.9646840745365414, 0.9964579280444292, 0.9875637536156386, 0.9972850212702209, 0.9971885855121544, 0.9987281259216029, 0.11114350822459564, 0.8858303491333442, 0.9968313140744025, 0.6141579270645943, 0.35512533197612595, 0.030290101845022507, 0.9976573246933598, 0.8390895647011807, 0.10503539358990598, 0.05490486483108722, 0.8601111432459544, 0.13806556312407944, 0.2665743119740218, 0.732927550233814, 0.9966978927717027, 0.993013145515591, 0.9999799615370066, 0.9081574819487515, 0.0278575914708206, 0.06384031378729721, 0.992274508387428, 0.08627298498164904, 0.6908374630727502, 0.14313472508319044, 0.07842998634695367, 0.9959711378411676, 0.9975053448685341, 0.05180507813682229, 0.8397646699657999, 0.1079635241843019, 0.9951161388689491, 0.9926366748978396, 0.9932629210020795, 0.9894380524711452, 0.9909516897992466, 0.9969251877269827, 0.9212138695913579, 0.1503134364090485, 0.04257128793403123, 0.48562802532154137, 0.12666272089014227, 0.19446143871100682, 0.9976323464781729, 0.9955766063625474, 0.23939443731340848, 0.757004031504562, 0.9232313446978023, 0.9898827370367563, 0.09994229286739091, 0.3778640113890396, 0.518878479407413, 0.08328030775748424, 0.09568375784902446, 0.719400105309332, 0.09922760073232165, 0.9961041556258857, 0.6179093013722966, 0.3813779353856444, 0.996044984074479, 0.9947754548423179, 0.994221705779384, 0.993694019254307, 0.03075170183415882, 0.24976382221402163, 0.5670313801615626, 0.15150838464634345, 0.9974283815309316, 0.991839093622576, 0.9988956969240448, 0.8327427687495416, 0.16706793593415958, 0.9947032746753057, 0.07880294192596377, 0.17964399472952758, 0.012688609293163658, 0.1823152808965094, 0.444101325260728, 0.054093544881381905, 0.04808315100567281, 0.9568012703398691, 0.9960256128542411, 0.9897258103299577, 0.9934819951340333, 0.9988036200133433, 0.9988475846846211, 0.99259265578395, 0.32874281683625045, 0.7633688818728136, 0.05895583469841524, 0.1340699352030628, 0.011791166939683047, 0.0314431118391548, 0.9970034999570697, 0.9989273481269442, 0.9953998946544661, 0.9316193211138674, 0.06495694349050818, 0.996446574183955, 0.8463036028009154, 0.15246385516108096, 0.2792751879637609, 0.528408340222182, 0.19130965519103443, 0.4131274479838775, 0.5812607116982463, 0.9955304287440435, 0.9976947685533848, 0.9909069698696227, 0.9961962150694844, 0.09071600216874724, 0.08012143257239719, 0.828362910314619, 0.9910666532819117, 0.9908337506348284, 0.9982885307652835, 0.9988312443277297, 0.05623665541298346, 0.527839863364654, 0.122674378552043, 0.06722242065645, 0.07350000079557374, 0.026679715591275875, 0.1255516027824747, 0.83522861925927, 0.1617077965859113, 0.9977567171520604, 0.997904587937778, 0.9873225429020864, 0.17952160004530002, 0.8189604421114163, 0.08263982559885835, 0.8495954000163333, 0.06669178907978042, 0.9903244519928021, 0.23381592651100228, 0.31202332261985477, 0.022575330835545047, 0.38378062420426584, 0.04676318530220046, 0.9928979627094251, 0.9942285275840735, 0.9976893866243585, 0.9230356724031502, 0.07543382166741941, 0.9968711702050745, 0.9920799648584919, 0.9930086097152122, 0.24780944168967678, 0.6879125735216677, 0.06275693653180126, 0.9872109363311388, 0.8383922531509985, 0.1593852351430801, 0.9235887415872674, 0.07396706372019242, 0.9981012281351666, 0.6319045774164983, 0.3643522111459543, 0.003006206362590382, 0.024557064915424053, 0.6863053405310616, 0.16155963760147402, 0.12537027877874385, 0.9982277362891459, 0.9942822109631246, 0.2566440641121201, 0.7390398512858273, 0.995419353002429, 0.9928375247846544, 0.9954281914203278, 0.9935030467714067, 0.014770494276348243, 0.1403196956253083, 0.6570487615188461, 0.06908779580872565, 0.0468129375048779, 0.0718274842632096, 0.9867838800556344, 0.9949577273082355, 0.04971157172532916, 0.8468109114590553, 0.10113733557911794, 0.9967091989652075, 0.2744908577122197, 0.052745302070191236, 0.6200264080087786, 0.05166886733406488, 0.8993316817740794, 0.09588462783620699, 0.9949461968717925, 0.6110407000684016, 0.3876812171126413, 0.9934594715820401, 0.9357260121817329, 0.9923261380122922, 0.982834784855683, 0.9910542166113525, 0.8334835801532503, 0.1635172146349701, 0.9943749834556888, 0.9908699056621598, 0.9968594277820274, 0.9918794871879749, 0.9951762428574209, 0.9776605856374129, 0.998773940165621, 0.9978999370211865, 0.6151002059534273, 0.07980492268184002, 0.06550026672943474, 0.1302476568297955, 0.07905204605276606, 0.029362188533884535, 0.9957504512358275, 0.997415912196218, 0.9965262554957607, 0.8521847093141474, 0.1451671113658169, 0.9959487483646281, 0.9986899754705668, 0.9980539362482932, 0.9918970685187573, 0.9929376738966892, 0.9477197066718579, 0.05134059904371705, 0.9888884313942011, 0.9852797340949359, 0.9997512281113351, 0.9924311284471207, 0.022350225821559717, 0.975282581304424, 0.9993631419321105, 0.1396770492892328, 0.8590542222181717, 0.9966265841459196, 0.6937686352213295, 0.03257983817368341, 0.059040620446725776, 0.19862124693702424, 0.01587646936382542, 0.996361480924292, 0.9980542089074836, 0.10463330067019175, 0.893033054557218, 0.994103145790126, 0.9995129278288614, 0.9935627110889621, 0.8595938142858509, 0.9926868928990846, 0.01006372398243297, 0.37034504255353334, 0.6189190249196277, 0.9882540962081537, 0.9977275376385454, 0.19658789088056797, 0.14003520994232238, 0.3926371847998193, 0.004308775690532997, 0.028545638949781103, 0.0592456657448287, 0.009694745303699242, 0.11041237706990804, 0.05816847182219546, 0.9954966217844895, 0.9968408132510077, 0.9930857102982172, 0.9990718934222956, 0.22297207242965464, 0.4245388259060624, 0.1105941479251087, 0.16470203750137155, 0.07610780072265545, 0.6563677915809157, 0.3418854103264412, 0.9994128141668216, 0.9906173136745762, 0.9946110429574399, 0.8417044055971462, 0.11400863906501027, 0.043643932142074245, 0.4307504087067007, 0.11224766350663212, 0.456006132995693, 0.9904641425207134, 0.9908377897168841, 0.9945499722908382, 0.9991867723933697, 0.09480792939225757, 0.9024310316225999, 0.9997910197752299, 0.2847300320362698, 0.1294227418346681, 0.11031747994478852, 0.00924448155961915, 0.4659218706048051, 0.9953861735129118, 0.6587289810015461, 0.34007931833884625, 0.9981915075995674, 0.9975178353550591, 0.4788956370382148, 0.3787738791687643, 0.09288404043310464, 0.04825144957563877, 0.22477418768165086, 0.20881389033147446, 0.5639305063728992, 0.991118004853116, 0.9947230373056166, 0.999361557520966, 0.19364856308841882, 0.21957777746805457, 0.08664952653447892, 0.18248915436806926, 0.048904467627414246, 0.21235698359018132, 0.05645347940882718, 0.9885399769421915, 0.9421526484397922, 0.05610015770044297, 0.9969143900388979, 0.9948580491433554, 0.6218522762740917, 0.35929242629169744, 0.9937208004217664, 0.9950883854551104, 0.9859048886741957, 0.991310651099275, 0.9961428740258992, 0.9948025304233858, 0.11934331690839126, 0.1100196202749232, 0.5491657317112691, 0.11281672926496361, 0.10629014162153597, 0.9965665897552324, 0.9835414795634945, 0.9972220204454831, 0.5473061525797767, 0.4499759347240947, 0.9998104904011581, 0.9990867466307912, 0.9914121988693805, 0.983370376257806, 0.9943567551268032, 0.6832822907213879, 0.19635305943584724, 0.07709163742951049, 0.04282868746083916, 0.992220758082517, 0.9941110223493854, 0.9919499413469822, 0.6413206328568865, 0.14038601898563507, 0.018131035662351396, 0.0512849294449368, 0.14815646284092854, 0.8307563455611183, 0.12733193224605815, 0.025635411138033828, 0.0160573454381091, 0.9971478565220862, 0.25057385829497936, 0.3131177307151888, 0.3505643804444862, 0.08525088342627278, 0.9969297381217317, 0.6207312387638585, 0.3787694507928125, 0.9975821660668253, 0.9947540178366938, 0.32590984671859674, 0.036958848596954266, 0.10079685980987528, 0.5353433221013376, 0.9982468378196064, 0.12648008682024411, 0.8711093303535122, 0.999560905539281, 0.14221827499940173, 0.7095370769095836, 0.1468811692616772, 0.11083756832623111, 0.31156702277531106, 0.061091573093198244, 0.04276410116523877, 0.472150586334575, 0.9976908170174854, 0.9901717274687107, 0.9963370917279684, 0.9955419244301749, 0.6654349980917065, 0.14037943795359287, 0.1932496158841668, 0.993321455863911, 0.9879974344523615, 0.04493689813913913, 0.9500944177989414, 0.9926489712046463, 0.19210301801772436, 0.5014131938639843, 0.19015767099982336, 0.035988919831168614, 0.07975922773394126, 0.19561646909569302, 0.6657823685011306, 0.05262197414270105, 0.04061043656664972, 0.04404230444552153, 0.9955688092408117, 0.9963742961045768, 0.9902949268841268, 0.9953271071955442, 0.27537249367507727, 0.7235277284796148, 0.9907412884715292, 0.988664390791194, 0.9903203679130029, 0.8282520440630396, 0.16987080139382088, 0.9894850864664497, 0.9962940649581149, 0.9895113084307093, 0.8738763499314411, 0.06291909719506376, 0.061171344495200876, 0.11811863169916162, 0.10579690393198289, 0.15933268664455255, 0.5544777495230429, 0.031441650164525034, 0.03059187583575409, 0.4648357884029537, 0.5330901573330077, 0.9933765640977001, 0.18252662534347605, 0.781735461113916, 0.0344193064933412, 0.13329630228951034, 0.8650079191127799, 0.9931325867372196, 0.994071278152604, 0.9924436221057686, 0.9958381621279732, 0.9944942611787618, 0.9828372317244833, 0.9208111475648625, 0.07643096481763681, 0.984755066543714, 0.10726232351845566, 0.8906388435970645, 0.28268492208025703, 0.22358454794257104, 0.020649528313167388, 0.39162898524972634, 0.08046195515130741, 0.8973478977665246, 0.10040256198786289, 0.9849107542761605, 0.9992255956837813, 0.9994087987796064, 0.9966647625629195, 0.2801473180628001, 0.718397578002626, 0.15399339359887793, 0.6309007282755217, 0.0010662252771435662, 0.14790067772948612, 0.002437086347756723, 0.06351656293840958, 0.9714359758127027, 0.9965810225533962, 0.9977097836833433, 0.9986516089843271, 0.9959195155224307, 0.1962503491649292, 0.7156319378914489, 0.028459265135699702, 0.017787040709812314, 0.04150309498956207, 0.2510577420739977, 0.7427124869689099, 0.23581392656581207, 0.10480618958480536, 0.05152970987919597, 0.4786149324372779, 0.12751419732817987, 0.24084733073412876, 0.7567363663189601, 0.12760940725416087, 0.5282362013858415, 0.2302690300264995, 0.1137837305030874, 0.9944696845501407, 0.11539618436651239, 0.8100031685243598, 0.06187911335595592, 0.012264328773252524, 0.9959736788705714, 0.9571521613894386, 0.009212872050903462, 0.40229541288945114, 0.35699879197250917, 0.09212872050903462, 0.1389608201011272, 0.9963094174002797, 0.7198056981680782, 0.16008665689777063, 0.1180200901217141, 0.991338696366521, 0.986319813573322, 0.9964603951155392, 0.07203334720841968, 0.4113072942333574, 0.2881333888336787, 0.22701418514168625, 0.0012473306875916829, 0.9855943405856368, 0.9979538380711986, 0.43891688904204984, 0.5605905114034889, 0.9802670552505502, 0.017823037368191824, 0.24525162881455212, 0.7139128987718805, 0.02042979019299724, 0.020335643694411997, 0.9898520081491928, 0.7935530988478822, 0.19571937415530727, 0.009785968707765363, 0.13625796085866432, 0.862778623528306, 0.9950978466330254, 0.6404407319551617, 0.21694744052309423, 0.09807213064742615, 0.031204768842362868, 0.011887530987566806, 0.9925893354537554, 0.13295806487755937, 0.09218425831510783, 0.23577896838287196, 0.5389233563037074, 0.9947882911735969, 0.9729642495929233, 0.022568758366846155, 0.9911041443037131, 0.9953014802375938, 0.9059556605296005, 0.09216658742960097, 0.9459130642710456, 0.004488318217181711, 0.0482494208347034, 0.13754855061381585, 0.10622561334532313, 0.7544742281193463, 0.519487285225909, 0.35811463917700964, 0.12158213058478722, 0.9913290866757727, 0.41392179475495505, 0.5787239908147983, 0.2803931463547421, 0.714630319912971, 0.9880932350095758, 0.9710609320534692, 0.02621268773641267, 0.9091835141846158, 0.08935079363538466, 0.9933443514301755, 0.9942658994777365, 0.8638843425805289, 0.13361763951092406, 0.5439433934771845, 0.28452423658806575, 0.17015665129286284, 0.995572235617508, 0.9947919477014663, 0.993824662283679, 0.9969747210000387, 0.9963172910258741, 0.8427311676393968, 0.1543846353939942, 0.9073038402962275, 0.09073038402962275, 0.9930500085762399, 0.30296995600739623, 0.6957795835122538, 0.7244222802808515, 0.20458817507043586, 0.06948277643901596, 0.9953703202105055, 0.9967069256894432, 0.9971748283150057, 0.9003725834606229, 0.09555841098049063, 0.9995457729256467, 0.9938481571575897, 0.9939230290739786, 0.21080081808407275, 0.16841306923855745, 0.2822056835889341, 0.3379640646206187, 0.0789387446801731, 0.5519545038183978, 0.16527799667411242, 0.08880608776519473, 0.07863039020876618, 0.036077473154610365, 0.9975688321123302, 0.9974839750488205, 0.9840445136335043, 0.9916461024967107, 0.26497288005936603, 0.09086599963666508, 0.20460735582521788, 0.14074698545119801, 0.03177132854428849, 0.2665614464865804, 0.9996880446579633, 0.9943485694816068, 0.05650835694707285, 0.932387889626702, 0.9577207465099775, 0.038764887358737184, 0.9943490058597122, 0.8377569420043908, 0.16004318939234824, 0.9965177008247463, 0.7146837010630658, 0.05373561662128314, 0.22837637064045335, 0.993243235653258, 0.1646173924893148, 0.627705008082207, 0.05235372810315914, 0.07178397770845532, 0.08311828997821143, 0.9836672607824122, 0.8868312441587841, 0.11085390551984801, 0.9967975017894096, 0.3291839459345924, 0.5776444401591095, 0.09225537338294308, 0.9854278811314726, 0.985785249264945, 0.9944522469365082, 0.8976180615636875, 0.08488664255781052, 0.0007349492862148097, 0.01653635893983322, 0.11264912327413959, 0.8848670262983138, 0.985790884953873, 0.05967251932466769, 0.9330612112584402, 0.9938605639274041, 0.9879219719616316, 0.28829092480012236, 0.7092310481279084, 0.9988926627434329, 0.27696407584159805, 0.718375571714145, 0.9167820905081017, 0.08209988870221806, 0.6471317257805089, 0.02807192417769331, 0.32208839319669164, 0.9936770381156518, 0.9826375282244826, 0.12696237556746864, 0.32596014152782726, 0.043221234235734006, 0.1921544038730341, 0.31137297497326705, 0.3007332518044635, 0.14557232768505912, 0.5526518308522604, 0.9960108018515668, 0.9961157187977152, 0.2804941575087019, 0.716290164937476, 0.999493617254189, 0.994803455600462, 0.9929342913650618, 0.9986243020502629, 0.9971220144680116, 0.998940059476283, 0.992830128992616, 0.6913056996738011, 0.14408343740536045, 0.10797045309404248, 0.056011975666533986, 0.9925808369769893, 0.9956739337675654, 0.9970254937152062, 0.996614933624064, 0.5550583182230121, 0.07273177962922228, 0.1783842595116715, 0.0780909633913755, 0.10794927292337202, 0.006890379122768427, 0.9953179859356737, 0.1710268937586882, 0.045515221726102506, 0.061606461730280164, 0.4229697372526698, 0.006896245716076137, 0.03402147886597561, 0.25745984006684247, 0.20187676882211733, 0.2878107987936943, 0.06888362719943869, 0.44058240763205336, 0.9935014661610634, 0.9927551134289161, 0.9901948622211918, 0.8729072286271294, 0.1252157944057492, 0.9950095747632564, 0.9948277717280904, 0.9923663287057758, 0.9978420463289142, 0.9923728481587769, 0.1783182196695663, 0.2483179268833385, 0.10680989807618692, 0.39223973869786155, 0.021422324190421668, 0.05219805753440773, 0.9946255780670323, 0.8327118508632795, 0.16677562279194533, 0.9832199410519512, 0.9953656622013977, 0.347607593189531, 0.044692404838653985, 0.605830376701754, 0.9942272539996795, 0.13712255024075617, 0.03395415529771105, 0.2944870007551478, 0.10578025304286905, 0.4276917638461681, 0.8714533255202083, 0.12625295528737998, 0.9956370231499262, 0.9945571511907861, 0.24747313756882475, 0.752312250309164, 0.7635807966347793, 0.08849606446115554, 0.14072325004478833, 0.00677019072380425, 0.9962096789690928, 0.9997965926340111, 0.993755319673543, 0.021455837881498734, 0.9772158889664423, 0.9898276908717254, 0.43076097648385, 0.5629747415432494, 0.5281760821669533, 0.0025890984419948693, 0.1424004143097178, 0.17761215312084805, 0.1486142505705055, 0.9990415181873455, 0.23277837273134508, 0.11236114530747987, 0.6542386687148734, 0.9947586750931275, 0.026451236198613705, 0.46089275194554186, 0.3751266224530671, 0.05691023545762343, 0.08015526120792033, 0.9955052858274045, 0.8849495403622477, 0.1121423659963179, 0.99685694167253, 0.8233848454944832, 0.13493597802417953, 0.038553136578337005, 0.9874633493082471, 0.990887093857748, 0.9904768936877733, 0.9593049262826053, 0.03676778463104062, 0.9983263718902388, 0.9957152199252227, 0.9983831292180987, 0.9949243889182937, 0.476200613920838, 0.114198579827411, 0.3724515773456084, 0.036573401382634894, 0.9979886506191512, 0.20670376686680791, 0.7894324713317451, 0.992380314290467, 0.0466814017433041, 0.9506030900454654, 0.9901953852164587, 0.007746977641357147, 0.2663023564216519, 0.4638502862762591, 0.13363536431341078, 0.06584930995153575, 0.061007448925687525, 0.9974328480427316, 0.1463597731394171, 0.4353697399147176, 0.1672683121593338, 0.059016037556216566, 0.19121196168214166, 0.9942947651666331, 0.9965123843451442, 0.9862790198850588, 0.9573587549703917, 0.9895500673628708, 0.9956436245434397, 0.9781261370657417, 0.07504436186137302, 0.9186464986478421, 0.9944785978777128, 0.9942929282165334, 0.9921419306294278, 0.9979373641833925, 0.9204628657175435, 0.12160663235387573, 0.12360674143864342, 0.5272287547447638, 0.2272123920296099, 0.1861988546733556, 0.34451179596992326, 0.265684686503255, 0.023757919900539003, 0.013701425155209184, 0.030696462126574422, 0.010846961581207272, 0.04799890286744756, 0.035702752087131626, 0.023011367888876963, 0.017829418631458104, 0.9980663807095767, 0.9959676115688484, 0.021193040722369782, 0.5311673497505337, 0.09067402233115172, 0.14996088308613553, 0.17088565747024748, 0.003487462397351989, 0.03219196059094144, 0.967773295592781, 0.9982756189419253, 0.9958873991866305, 0.9883143481210104, 0.9963699305586177, 0.9985880053745441, 0.9973495981960099, 0.9937546971174386, 0.9983362189860344, 0.9958916301620774, 0.06023326504292144, 0.19132919484222102, 0.7458295465608801, 0.01279313344017796, 0.7722400549343786, 0.060476630808113996, 0.13665392538371912, 0.017445181963879036, 0.9138676759918289, 0.08461737740665082, 0.9983700097507658, 0.06828364805320832, 0.08421649926562358, 0.779799260767639, 0.022761216017736105, 0.04415675907440804, 0.2818476364710463, 0.014521423893121825, 0.7029689293715793, 0.9984617729178237, 0.9977651880820548, 0.9957034131277694, 0.2790920569183675, 0.015644173594078898, 0.12765645652768381, 0.5437914741301825, 0.03316564801944726, 0.9944948291480127, 0.9957816701669122, 0.9954289520015654, 0.9911787638966305, 0.9201108999115087, 0.07611211488238583, 0.2625069667738083, 0.7355663964807754, 0.9848091773504305, 0.9463646047652899, 0.05262710485036247, 0.9979587780610539, 0.9864552120172849, 0.9983631338065263, 0.9954493048321018, 0.99301199248999, 0.847760555329046, 0.15038535068445685, 0.9970000751245892, 0.9919907961847527, 0.24505266471144035, 0.7279328541428289, 0.026492179968804364, 0.07032943328889929, 0.002009412379682837, 0.9263391070337879, 0.9981176114055388, 0.9855319167523463, 0.34231231749754204, 0.6554028517940744, 0.9960968978583787, 0.9942314497897227, 0.9982276621297653, 0.9969558894563791, 0.564225200921403, 0.08387946837227274, 0.24319011333831594, 0.1080174448822793, 0.40278559601246444, 0.30328008740491735, 0.2932236796201121, 0.015360794010260874, 0.983090816656696, 0.9929706941150187, 0.9844416862310511, 0.9954643217119362, 0.9965821698756587, 0.9936585217810635, 0.8203609191473006, 0.15029513022545965, 0.026614762644091815, 0.9929078339566259, 0.26258135108617164, 0.5626743237560821, 0.166122895585129, 0.189076846277837, 0.08647700721234405, 0.5892162186332595, 0.13337979078514084, 0.2668563843660236, 0.08063286434081288, 0.6489025749332085, 0.2928333033220438, 0.6029519057985139, 0.10371179492655719, 0.9959649730321055, 0.2930977672770619, 0.09934044879054567, 0.5166861826307099, 0.0787772655132024, 0.011584891987235647, 0.6141722896970171, 0.27701666761163124, 0.027753140901939522, 0.08098598148819446, 0.9937514923203855, 0.18112358348562826, 0.40834149210981463, 0.022776019480228706, 0.29012310528386565, 0.07429320639979363, 0.022776019480228706, 0.2743183506823072, 0.7088820745354671, 0.015617133825972936, 0.9928302904818785, 0.995209556354525, 0.9987960198543024, 0.4705462541149033, 0.5268242114176824, 0.7270521124361302, 0.02157187586348958, 0.07869739898347124, 0.037950522352435366, 0.13422500537282403, 0.997971817262074, 0.9965636725180552, 0.9651566950166411, 0.9969737405811376, 0.9974829860317057, 0.08692806746955709, 0.9112106837102983, 0.30000653895637336, 0.12285982071546718, 0.40143732117495673, 0.1728609105415294, 0.22118525478161713, 0.7785086745360144, 0.9890521908696885, 0.4252879292380247, 0.5078455313594185, 0.051162457652694705, 0.015116180670114344, 0.25338248455164003, 0.742577135383091, 0.0038839650916674745, 0.9854936388599058, 0.9937518960286121, 0.9951343492102863, 0.9894482019452184, 0.9329081033621904, 0.29562365736033996, 0.39858016532086565, 0.10516415238073193, 0.056395280188903954, 0.09693565954178153, 0.025086868411434145, 0.021875749254770573, 0.9922597129563515, 0.9949115325840339, 0.9972210149568885, 0.9547119544291701, 0.041873331334612726, 0.9945158492368562, 0.9966812241076554, 0.9937030548061722, 0.9754938168481657, 0.9930582328872023, 0.3505232320696982, 0.1705479784397798, 0.013712400276565211, 0.4636505343513612, 0.9980367805361292, 0.17539774325052349, 0.5244668740109157, 0.2665493263570948, 0.03314603022057137, 0.9954670377061466, 0.2909692195436651, 0.25111042234590275, 0.4567818158863564, 0.9624004565293167, 0.9881949744870451, 0.9931157268449471, 0.9430161418494486, 0.054554652834265624, 0.9964033550007393, 0.9899772056551758, 0.9960098560339578, 0.9929637281428059, 0.28588836081949337, 0.21023963500842585, 0.4867422978364716, 0.004692848995723791, 0.012389121348710808, 0.9978597592708935, 0.7304117616338153, 0.0850680364955046, 0.1818695952662512, 0.9039734068452098, 0.09590347053879902, 0.9974359332117717, 0.7929501166681927, 0.15295683059559118, 0.05359356979947824, 0.696324158661541, 0.27777381634530945, 0.024565031377476343, 0.9983323572605386, 0.9980659735094747, 0.9896784576617185, 0.9979461420269116, 0.9997545459662982, 0.9971292817632617, 0.1544761763751865, 0.5941153743389673, 0.14242703461792197, 0.10844227581538093, 0.9979252832516412, 0.9861702284708629, 0.9984446581974307, 0.9947282358637501, 0.9956016033459674, 0.9952905238876818, 0.9931722919594398, 0.5051733624236356, 0.3534911543763327, 0.04296577567005149, 0.05045223658225743, 0.0471972535769505, 0.9970922005939472, 0.21893798940124956, 0.16822353987892621, 0.5937301407491513, 0.016080191311956184, 0.06200537096627203, 0.9350409941713823, 0.9912069803846494, 0.3727996172378997, 0.1344523209710458, 0.4889175308038029, 0.9924312518509109, 0.9973951275195682, 0.8388537302121032, 0.14840146404671326, 0.011563750445198435, 0.40708397257766415, 0.592030765057393, 0.9986162097910608, 0.9923674443196823, 0.99708936964552, 0.9955894470535664, 0.9980180094877241, 0.17486470371276724, 0.21779555911530293, 0.24083162786788304, 0.3659593649557614, 0.9803943062441343, 0.9977893508649804, 0.9822950775588374, 0.9997784308875016, 0.9991416960694776, 0.0017492797669491627, 0.11895102415254305, 0.1987619135195986, 0.12070030391949221, 0.08943192808527593, 0.3194622174390908, 0.15087537989936528, 0.9965920799219592, 0.8443020331262996, 0.15548799068735733], \"Term\": [\"ATF\", \"ATI\", \"Access\", \"Adam\", \"Adobe\", \"Apple\", \"Apr\", \"April\", \"Armenians\", \"Avenue\", \"B\", \"B\", \"BC\", \"Bay\", \"Bible\", \"Bible\", \"Bill\", \"Blue\", \"Boulder\", \"Box\", \"C\", \"C\", \"C\", \"C\", \"COM\", \"California\", \"California\", \"Cambridge\", \"Center\", \"Chicago\", \"Christ\", \"Christian\", \"Christianity\", \"Christians\", \"Christians\", \"Church\", \"City\", \"Clipper\", \"Computer\", \"Control\", \"D\", \"D\", \"D\", \"DC\", \"DC\", \"DES\", \"Dave\", \"Don\", \"Don\", \"Doug\", \"Dr\", \"Dr\", \"Drug\", \"Earth\", \"Europe\", \"Eve\", \"F\", \"F\", \"F\", \"FAQ\", \"Firearms\", \"G\", \"G\", \"GN\", \"Germany\", \"God\", \"Golden\", \"Greeks\", \"H\", \"H\", \"Hall\", \"Happy\", \"Hill\", \"IBM\", \"IDE\", \"IV\", \"IV\", \"Inc\", \"Inc\", \"Interface\", \"Iran\", \"Islam\", \"Israel\", \"J\", \"James\", \"James\", \"Jesus\", \"Jew\", \"Jews\", \"Jews\", \"John\", \"John\", \"Jose\", \"Jose\", \"K\", \"Koresh\", \"L\", \"L\", \"LA\", \"LX\", \"Las\", \"Law\", \"List\", \"London\", \"Lord\", \"M\", \"M\", \"MA\", \"MA\", \"MB\", \"MB\", \"MD\", \"MIT\", \"MO\", \"MR\", \"MS\", \"MS\", \"MVP\", \"Mac\", \"Mail\", \"Man\", \"Mark\", \"Mars\", \"Mb\", \"Medical\", \"Mexico\", \"Microsoft\", \"Mr\", \"Mr\", \"NASA\", \"NIST\", \"NL\", \"NL\", \"NSA\", \"National\", \"National\", \"New\", \"Northern\", \"Office\", \"OpenWindows\", \"P\", \"P\", \"PS\", \"Paul\", \"Plus\", \"Power\", \"Press\", \"Qur\", \"R\", \"R\", \"RSA\", \"Research\", \"Robert\", \"Roberts\", \"S\", \"S\", \"SC\", \"SCSI\", \"SI\", \"SR\", \"SS\", \"ST\", \"San\", \"San\", \"Society\", \"Sony\", \"South\", \"Space\", \"Sparc\", \"St\", \"St\", \"Stephen\", \"System\", \"Systems\", \"T\", \"T\", \"T\", \"TC\", \"Team\", \"Technical\", \"Toronto\", \"Turkey\", \"Turks\", \"U\", \"U\", \"USA\", \"University\", \"University\", \"V\", \"V\", \"VW\", \"Vegas\", \"W\", \"Washington\", \"Windows\", \"X\", \"X\", \"York\", \"absolute\", \"abuse\", \"accept\", \"accessory\", \"acquire\", \"act\", \"act\", \"act\", \"address\", \"address\", \"address\", \"address\", \"address\", \"advance\", \"advance\", \"advantage\", \"age\", \"age\", \"age\", \"age\", \"agent\", \"ah\", \"air\", \"air\", \"al\", \"algorithm\", \"alt\", \"ammunition\", \"animal\", \"answer\", \"answer\", \"answer\", \"anti\", \"appear\", \"appear\", \"appear\", \"appear\", \"appear\", \"application\", \"apply\", \"appoint\", \"approach\", \"arbitrary\", \"archive\", \"aren\", \"argument\", \"arm\", \"arm\", \"armenian\", \"article\", \"article\", \"article\", \"atheist\", \"attack\", \"attack\", \"attack\", \"authority\", \"authority\", \"available\", \"available\", \"average\", \"aware\", \"ax\", \"b\", \"b\", \"b\", \"background\", \"bad\", \"bad\", \"bad\", \"bad\", \"being\", \"belief\", \"believe\", \"believe\", \"believe\", \"belt\", \"benefit\", \"bet\", \"bible\", \"biblical\", \"bike\", \"birthday\", \"bit\", \"bit\", \"bit\", \"bit\", \"bit\", \"black\", \"blind\", \"block\", \"block\", \"blooded\", \"blue\", \"board\", \"board\", \"board\", \"body\", \"body\", \"body\", \"body\", \"bomb\", \"book\", \"book\", \"box\", \"brand\", \"btw\", \"buffer\", \"build\", \"build\", \"build\", \"build\", \"bus\", \"button\", \"buy\", \"c\", \"c\", \"cable\", \"call\", \"call\", \"call\", \"call\", \"call\", \"call\", \"call\", \"callback\", \"camp\", \"canadian\", \"captain\", \"car\", \"card\", \"cartridge\", \"carve\", \"case\", \"case\", \"case\", \"case\", \"case\", \"catch\", \"cause\", \"cd\", \"certain\", \"certain\", \"character\", \"child\", \"child\", \"chip\", \"chip\", \"chip\", \"christian\", \"christian\", \"circuit\", \"city\", \"civil\", \"civilian\", \"claim\", \"claim\", \"claim\", \"clock\", \"club\", \"code\", \"com\", \"come\", \"come\", \"come\", \"come\", \"come\", \"come\", \"come\", \"company\", \"company\", \"compare\", \"concept\", \"concerned\", \"conclusion\", \"conclusion\", \"condition\", \"condition\", \"condition\", \"configuration\", \"consider\", \"consider\", \"consider\", \"consider\", \"consider\", \"consideration\", \"consistently\", \"contact\", \"contain\", \"contain\", \"controller\", \"cool\", \"cop\", \"copy\", \"copy\", \"copy\", \"corner\", \"correct\", \"correct\", \"cost\", \"cost\", \"country\", \"course\", \"course\", \"course\", \"cover\", \"cover\", \"cover\", \"cover\", \"cpu\", \"crash\", \"crime\", \"crime\", \"criminal\", \"cross\", \"customer\", \"cycle\", \"d\", \"d\", \"d\", \"d\", \"d\", \"d\", \"damn\", \"dangerous\", \"date\", \"date\", \"date\", \"daughter\", \"day\", \"day\", \"day\", \"day\", \"de\", \"de\", \"dealer\", \"death\", \"death\", \"debate\", \"dec\", \"decent\", \"deck\", \"default\", \"define\", \"define\", \"definitely\", \"deletion\", \"deny\", \"description\", \"determine\", \"dialog\", \"didn\", \"die\", \"different\", \"different\", \"different\", \"different\", \"different\", \"different\", \"digital\", \"direct\", \"directory\", \"discussion\", \"discussion\", \"disease\", \"disk\", \"display\", \"division\", \"doctor\", \"doesn\", \"doesn\", \"dog\", \"domain\", \"don\", \"door\", \"draw\", \"draw\", \"drive\", \"driver\", \"driver\", \"drug\", \"e\", \"e\", \"e\", \"e\", \"e\", \"earth\", \"easy\", \"eat\", \"eat\", \"edge\", \"edu\", \"effective\", \"efficiently\", \"electronic\", \"email\", \"email\", \"email\", \"enable\", \"encryption\", \"end\", \"end\", \"end\", \"end\", \"end\", \"end\", \"end\", \"end\", \"end\", \"enforcement\", \"engine\", \"ensure\", \"entry\", \"etc\", \"etc\", \"etc\", \"etc\", \"etc\", \"event\", \"event\", \"evidence\", \"evolve\", \"exact\", \"example\", \"example\", \"example\", \"exist\", \"exist\", \"exist\", \"expand\", \"expansion\", \"expensive\", \"explain\", \"external\", \"external\", \"f\", \"fact\", \"fact\", \"fact\", \"fact\", \"fact\", \"factor\", \"faith\", \"faith\", \"family\", \"fan\", \"far\", \"far\", \"far\", \"far\", \"fast\", \"fast\", \"fast\", \"fax\", \"fear\", \"file\", \"find\", \"find\", \"find\", \"find\", \"find\", \"find\", \"find\", \"finish\", \"fire\", \"fire\", \"firearm\", \"fix\", \"flag\", \"flag\", \"flame\", \"floppy\", \"flow\", \"follower\", \"following\", \"font\", \"force\", \"force\", \"force\", \"force\", \"force\", \"format\", \"found\", \"ftp\", \"function\", \"function\", \"g\", \"game\", \"gang\", \"garage\", \"generate\", \"get\", \"get\", \"get\", \"get\", \"gif\", \"gift\", \"girl\", \"give\", \"give\", \"give\", \"give\", \"give\", \"go\", \"go\", \"go\", \"go\", \"goal\", \"good\", \"good\", \"good\", \"good\", \"gov\", \"government\", \"government\", \"graphic\", \"greek\", \"group\", \"group\", \"group\", \"group\", \"gun\", \"guy\", \"guy\", \"h\", \"happen\", \"happen\", \"happen\", \"hard\", \"hard\", \"hard\", \"hard\", \"hard\", \"hardware\", \"hate\", \"haven\", \"health\", \"hear\", \"hear\", \"hear\", \"heat\", \"heaven\", \"hell\", \"hell\", \"helmet\", \"help\", \"help\", \"help\", \"help\", \"help\", \"high\", \"high\", \"high\", \"high\", \"high\", \"hit\", \"hole\", \"homosexual\", \"hot\", \"human\", \"human\", \"hurt\", \"ice\", \"icon\", \"image\", \"image\", \"imagination\", \"imaging\", \"implementation\", \"important\", \"important\", \"important\", \"include\", \"include\", \"include\", \"include\", \"include\", \"include\", \"increase\", \"increase\", \"industry\", \"information\", \"information\", \"information\", \"input\", \"input\", \"insert\", \"insist\", \"insurance\", \"internal\", \"interpretation\", \"introduce\", \"involve\", \"involve\", \"islamic\", \"isn\", \"isn\", \"issue\", \"issue\", \"issue\", \"issue\", \"issue\", \"job\", \"job\", \"joke\", \"k\", \"key\", \"kid\", \"kill\", \"kill\", \"know\", \"know\", \"know\", \"know\", \"know\", \"know\", \"la\", \"land\", \"launch\", \"law\", \"left\", \"let\", \"let\", \"let\", \"let\", \"let\", \"letter\", \"letter\", \"life\", \"life\", \"life\", \"life\", \"life\", \"light\", \"light\", \"like\", \"like\", \"like\", \"like\", \"link\", \"list\", \"list\", \"list\", \"list\", \"listen\", \"liter\", \"live\", \"live\", \"live\", \"live\", \"live\", \"load\", \"local\", \"local\", \"local\", \"locate\", \"lock\", \"logic\", \"look\", \"look\", \"look\", \"look\", \"look\", \"loop\", \"lose\", \"lot\", \"lot\", \"low\", \"low\", \"m\", \"m\", \"m\", \"m\", \"mac\", \"machine\", \"machine\", \"machine\", \"mail\", \"mail\", \"main\", \"make\", \"make\", \"make\", \"make\", \"make\", \"male\", \"man\", \"man\", \"man\", \"man\", \"manager\", \"manual\", \"manual\", \"map\", \"master\", \"matter\", \"matter\", \"maybe\", \"maybe\", \"maybe\", \"mb\", \"mb\", \"mb\", \"mean\", \"mean\", \"mean\", \"meaning\", \"medium\", \"medium\", \"meet\", \"meet\", \"meg\", \"memory\", \"memory\", \"message\", \"message\", \"middle\", \"mile\", \"military\", \"military\", \"million\", \"million\", \"million\", \"minor\", \"minority\", \"mirror\", \"miss\", \"mission\", \"mode\", \"mode\", \"model\", \"model\", \"modify\", \"money\", \"money\", \"month\", \"month\", \"month\", \"moral\", \"motherboard\", \"mouse\", \"murder\", \"murder\", \"n\", \"nature\", \"necessarily\", \"need\", \"need\", \"need\", \"need\", \"new\", \"new\", \"new\", \"new\", \"new\", \"new\", \"newsgroup\", \"notice\", \"ns\", \"nuclear\", \"number\", \"number\", \"number\", \"number\", \"number\", \"number\", \"o\", \"object\", \"observation\", \"observation\", \"obviously\", \"obviously\", \"occupy\", \"offer\", \"offer\", \"oh\", \"ok\", \"ok\", \"ok\", \"okay\", \"old\", \"old\", \"old\", \"old\", \"old\", \"oo\", \"opinion\", \"opinion\", \"orbit\", \"order\", \"order\", \"order\", \"org\", \"origin\", \"output\", \"p\", \"p\", \"p\", \"p\", \"package\", \"package\", \"parameter\", \"parent\", \"parent\", \"particularly\", \"partner\", \"past\", \"past\", \"patient\", \"pattern\", \"pattern\", \"pay\", \"pay\", \"pc\", \"pc\", \"pc\", \"peace\", \"penalty\", \"people\", \"people\", \"people\", \"people\", \"people\", \"person\", \"person\", \"person\", \"personal\", \"personally\", \"phone\", \"phone\", \"physical\", \"picture\", \"piece\", \"pin\", \"plane\", \"play\", \"plug\", \"point\", \"point\", \"point\", \"point\", \"pointer\", \"poor\", \"population\", \"port\", \"possible\", \"possible\", \"possible\", \"possible\", \"possible\", \"possible\", \"possibly\", \"post\", \"post\", \"post\", \"post\", \"post\", \"post\", \"post\", \"power\", \"power\", \"power\", \"power\", \"pp\", \"predict\", \"prefer\", \"price\", \"price\", \"printer\", \"prior\", \"privacy\", \"private\", \"pro\", \"problem\", \"problem\", \"problem\", \"problem\", \"problem\", \"problem\", \"procedure\", \"program\", \"program\", \"progress\", \"proof\", \"prove\", \"prove\", \"prove\", \"pub\", \"public\", \"public\", \"public\", \"public\", \"public\", \"publish\", \"publish\", \"pull\", \"purchase\", \"q\", \"q\", \"question\", \"question\", \"question\", \"question\", \"quote\", \"r\", \"ram\", \"rate\", \"rate\", \"rational\", \"rd\", \"rd\", \"read\", \"read\", \"read\", \"read\", \"read\", \"reality\", \"reason\", \"reason\", \"reason\", \"reasonable\", \"receive\", \"receive\", \"receive\", \"receive\", \"receive\", \"recommend\", \"reduce\", \"reduce\", \"refer\", \"reference\", \"reference\", \"reference\", \"regardless\", \"registration\", \"regular\", \"release\", \"release\", \"religion\", \"religious\", \"replace\", \"replacement\", \"report\", \"report\", \"report\", \"report\", \"request\", \"research\", \"research\", \"resolution\", \"resource\", \"resource\", \"responsible\", \"return\", \"return\", \"return\", \"return\", \"return\", \"return\", \"review\", \"right\", \"right\", \"right\", \"right\", \"right\", \"ring\", \"risk\", \"rm\", \"rn\", \"rom\", \"room\", \"rotate\", \"round\", \"round\", \"route\", \"routine\", \"rs\", \"rule\", \"ruler\", \"run\", \"run\", \"run\", \"run\", \"s\", \"s\", \"s\", \"s\", \"s\", \"s\", \"s\", \"s\", \"s\", \"s\", \"s\", \"sale\", \"satellite\", \"say\", \"say\", \"say\", \"say\", \"say\", \"say\", \"say\", \"saying\", \"scan\", \"schedule\", \"scope\", \"score\", \"screen\", \"season\", \"secret\", \"section\", \"secure\", \"security\", \"security\", \"security\", \"see\", \"see\", \"see\", \"see\", \"see\", \"self\", \"self\", \"sell\", \"send\", \"send\", \"send\", \"send\", \"send\", \"sense\", \"sense\", \"sense\", \"serial\", \"server\", \"session\", \"set\", \"set\", \"set\", \"set\", \"set\", \"shouldn\", \"shuttle\", \"signal\", \"sister\", \"site\", \"site\", \"slow\", \"slow\", \"social\", \"software\", \"software\", \"soldier\", \"solid\", \"solution\", \"somebody\", \"son\", \"soon\", \"soon\", \"sorry\", \"soul\", \"source\", \"source\", \"source\", \"space\", \"space\", \"space\", \"speak\", \"speaker\", \"speed\", \"speed\", \"spend\", \"sport\", \"st\", \"stand\", \"start\", \"start\", \"start\", \"start\", \"state\", \"state\", \"state\", \"statement\", \"statement\", \"status\", \"std\", \"steal\", \"step\", \"stereo\", \"story\", \"story\", \"story\", \"strange\", \"style\", \"style\", \"style\", \"suggest\", \"suggest\", \"suggest\", \"suggest\", \"supply\", \"supply\", \"supply\", \"sure\", \"sure\", \"sure\", \"switch\", \"system\", \"system\", \"system\", \"system\", \"system\", \"t\", \"t\", \"t\", \"t\", \"table\", \"take\", \"take\", \"take\", \"take\", \"take\", \"take\", \"talk\", \"talk\", \"talk\", \"tap\", \"tax\", \"team\", \"technology\", \"technology\", \"tell\", \"tell\", \"tell\", \"tell\", \"tell\", \"telnet\", \"term\", \"territorial\", \"terrorism\", \"terrorist\", \"test\", \"test\", \"th\", \"th\", \"th\", \"th\", \"thank\", \"thank\", \"thermal\", \"thing\", \"thing\", \"thing\", \"thing\", \"think\", \"think\", \"think\", \"thinking\", \"thought\", \"thread\", \"threat\", \"tiff\", \"time\", \"time\", \"time\", \"time\", \"time\", \"time\", \"time\", \"topic\", \"town\", \"trade\", \"transfer\", \"transfer\", \"trap\", \"treatment\", \"trial\", \"tricky\", \"trouble\", \"true\", \"true\", \"true\", \"true\", \"truth\", \"try\", \"try\", \"try\", \"try\", \"turkish\", \"type\", \"type\", \"type\", \"ultra\", \"unable\", \"understanding\", \"unit\", \"unit\", \"universe\", \"unlikely\", \"update\", \"upgrade\", \"use\", \"use\", \"use\", \"use\", \"use\", \"user\", \"usually\", \"usually\", \"usually\", \"v\", \"v\", \"value\", \"ve\", \"ve\", \"ve\", \"version\", \"version\", \"version\", \"video\", \"village\", \"voltage\", \"vs\", \"w\", \"wait\", \"want\", \"want\", \"want\", \"want\", \"war\", \"warning\", \"warranty\", \"wasn\", \"waste\", \"watch\", \"water\", \"way\", \"way\", \"way\", \"way\", \"way\", \"weapon\", \"week\", \"week\", \"week\", \"week\", \"weight\", \"weight\", \"welcome\", \"wide\", \"wide\", \"wide\", \"widget\", \"wife\", \"will\", \"will\", \"will\", \"win\", \"win\", \"window\", \"wing\", \"wire\", \"withdraw\", \"word\", \"work\", \"work\", \"work\", \"work\", \"worthless\", \"wouldn\", \"wow\", \"x\", \"y\", \"year\", \"year\", \"year\", \"year\", \"year\", \"year\", \"year\", \"young\", \"z\", \"z\"]}, \"R\": 30, \"lambda.step\": 0.01, \"plot.opts\": {\"xlab\": \"PC1\", \"ylab\": \"PC2\"}, \"topic.order\": [14, 9, 16, 6, 15, 2, 20, 18, 19, 13, 1, 17, 4, 12, 7, 3, 8, 11, 10, 5]};\n",
       "\n",
       "function LDAvis_load_lib(url, callback){\n",
       "  var s = document.createElement('script');\n",
       "  s.src = url;\n",
       "  s.async = true;\n",
       "  s.onreadystatechange = s.onload = callback;\n",
       "  s.onerror = function(){console.warn(\"failed to load library \" + url);};\n",
       "  document.getElementsByTagName(\"head\")[0].appendChild(s);\n",
       "}\n",
       "\n",
       "if(typeof(LDAvis) !== \"undefined\"){\n",
       "   // already loaded: just create the visualization\n",
       "   !function(LDAvis){\n",
       "       new LDAvis(\"#\" + \"ldavis_el10829140356624142224390214325\", ldavis_el10829140356624142224390214325_data);\n",
       "   }(LDAvis);\n",
       "}else if(typeof define === \"function\" && define.amd){\n",
       "   // require.js is available: use it to load d3/LDAvis\n",
       "   require.config({paths: {d3: \"https://cdnjs.cloudflare.com/ajax/libs/d3/3.5.5/d3.min\"}});\n",
       "   require([\"d3\"], function(d3){\n",
       "      window.d3 = d3;\n",
       "      LDAvis_load_lib(\"https://cdn.rawgit.com/bmabey/pyLDAvis/files/ldavis.v1.0.0.js\", function(){\n",
       "        new LDAvis(\"#\" + \"ldavis_el10829140356624142224390214325\", ldavis_el10829140356624142224390214325_data);\n",
       "      });\n",
       "    });\n",
       "}else{\n",
       "    // require.js not available: dynamically load d3 & LDAvis\n",
       "    LDAvis_load_lib(\"https://cdnjs.cloudflare.com/ajax/libs/d3/3.5.5/d3.min.js\", function(){\n",
       "         LDAvis_load_lib(\"https://cdn.rawgit.com/bmabey/pyLDAvis/files/ldavis.v1.0.0.js\", function(){\n",
       "                 new LDAvis(\"#\" + \"ldavis_el10829140356624142224390214325\", ldavis_el10829140356624142224390214325_data);\n",
       "            })\n",
       "         });\n",
       "}\n",
       "</script>"
      ],
      "text/plain": [
       "<IPython.core.display.HTML object>"
      ]
     },
     "execution_count": 48,
     "metadata": {},
     "output_type": "execute_result"
    }
   ],
   "source": [
    "pyLDAvis.enable_notebook()\n",
    "vis = pyLDAvis.gensim.prepare(lda, corpus, id2word)\n",
    "pyLDAvis.display(vis)"
   ]
  },
  {
   "cell_type": "code",
   "execution_count": 49,
   "metadata": {
    "colab": {},
    "colab_type": "code",
    "id": "rjtXk8J3LaXC"
   },
   "outputs": [
    {
     "name": "stderr",
     "output_type": "stream",
     "text": [
      "/opt/anaconda3/envs/U4-S1-NLP/lib/python3.8/site-packages/ipykernel/ipkernel.py:287: DeprecationWarning: `should_run_async` will not call `transform_cell` automatically in the future. Please pass the result to `transformed_cell` argument and any exception that happen during thetransform in `preprocessing_exc_tuple` in IPython 7.17 and above.\n",
      "  and should_run_async(code)\n"
     ]
    }
   ],
   "source": [
    "def compute_coherence_values(dictionary, corpus, texts, limit, start=2, step=3):\n",
    "    \"\"\"\n",
    "    Compute c_v coherence for various number of topics\n",
    "\n",
    "    Parameters:\n",
    "    ----------\n",
    "    dictionary : Gensim dictionary\n",
    "    corpus : Gensim corpus\n",
    "    texts : List of input texts\n",
    "    limit : Max num of topics\n",
    "\n",
    "    Returns:\n",
    "    -------\n",
    "    model_list : List of LDA topic models\n",
    "    coherence_values : Coherence values corresponding to the LDA model with respective number of topics\n",
    "    \"\"\"\n",
    "    coherence_values = []\n",
    "    model_list = []\n",
    "    for num_topics in range(start, limit, step):\n",
    "        model = gensim.models.ldamulticore.LdaMulticore(corpus=corpus,\n",
    "                                                        id2word=id2word,\n",
    "                                                        num_topics=num_topics, \n",
    "                                                        chunksize=100,\n",
    "                                                        passes=10,\n",
    "                                                        per_word_topics=True,\n",
    "                                                        workers=12)\n",
    "        model_list.append(model)\n",
    "        coherencemodel = CoherenceModel(model=model, texts=texts, dictionary=dictionary, coherence='c_v')\n",
    "        coherence_values.append(coherencemodel.get_coherence())\n",
    "\n",
    "    return model_list, coherence_values"
   ]
  },
  {
   "cell_type": "code",
   "execution_count": 50,
   "metadata": {
    "colab": {},
    "colab_type": "code",
    "id": "pRA9EjvQ3L0c"
   },
   "outputs": [
    {
     "name": "stderr",
     "output_type": "stream",
     "text": [
      "/opt/anaconda3/envs/U4-S1-NLP/lib/python3.8/site-packages/ipykernel/ipkernel.py:287: DeprecationWarning: `should_run_async` will not call `transform_cell` automatically in the future. Please pass the result to `transformed_cell` argument and any exception that happen during thetransform in `preprocessing_exc_tuple` in IPython 7.17 and above.\n",
      "  and should_run_async(code)\n"
     ]
    },
    {
     "name": "stdout",
     "output_type": "stream",
     "text": [
      "CPU times: user 5min 12s, sys: 2min 23s, total: 7min 35s\n",
      "Wall time: 9min 50s\n"
     ]
    }
   ],
   "source": [
    "%%time\n",
    "model_list, coherence_values = compute_coherence_values(dictionary=id2word, \n",
    "                                                        corpus=corpus, \n",
    "                                                        texts=df['lemmas'], \n",
    "                                                        start=10, \n",
    "                                                        limit=41, \n",
    "                                                        step=5)"
   ]
  },
  {
   "cell_type": "code",
   "execution_count": 51,
   "metadata": {
    "colab": {},
    "colab_type": "code",
    "id": "2e9X-Ql-3L0e"
   },
   "outputs": [
    {
     "name": "stderr",
     "output_type": "stream",
     "text": [
      "/opt/anaconda3/envs/U4-S1-NLP/lib/python3.8/site-packages/ipykernel/ipkernel.py:287: DeprecationWarning: `should_run_async` will not call `transform_cell` automatically in the future. Please pass the result to `transformed_cell` argument and any exception that happen during thetransform in `preprocessing_exc_tuple` in IPython 7.17 and above.\n",
      "  and should_run_async(code)\n"
     ]
    }
   ],
   "source": [
    "# coherence_values = [0.5054, 0.5332, 0.5452, 0.564, 0.5678, 0.5518, 0.519]"
   ]
  },
  {
   "cell_type": "code",
   "execution_count": 52,
   "metadata": {
    "colab": {},
    "colab_type": "code",
    "id": "ybEBYQNF3L0g"
   },
   "outputs": [
    {
     "name": "stderr",
     "output_type": "stream",
     "text": [
      "/opt/anaconda3/envs/U4-S1-NLP/lib/python3.8/site-packages/ipykernel/ipkernel.py:287: DeprecationWarning: `should_run_async` will not call `transform_cell` automatically in the future. Please pass the result to `transformed_cell` argument and any exception that happen during thetransform in `preprocessing_exc_tuple` in IPython 7.17 and above.\n",
      "  and should_run_async(code)\n"
     ]
    },
    {
     "data": {
      "image/png": "[encoded data removed]",
      "text/plain": [
       "<Figure size 432x288 with 1 Axes>"
      ]
     },
     "metadata": {
      "needs_background": "light"
     },
     "output_type": "display_data"
    }
   ],
   "source": [
    "start=10; limit=41; step=5;\n",
    "x = range(start, limit, step)\n",
    "plt.plot(x, coherence_values)\n",
    "plt.xlabel(\"Num Topics\")\n",
    "plt.ylabel(\"Coherence score\")\n",
    "plt.legend((\"coherence_values\"), loc='best')\n",
    "plt.show()"
   ]
  },
  {
   "cell_type": "code",
   "execution_count": 53,
   "metadata": {
    "colab": {},
    "colab_type": "code",
    "id": "DmvQ2zKZ3L0i"
   },
   "outputs": [
    {
     "name": "stdout",
     "output_type": "stream",
     "text": [
      "Num Topics = 10  has Coherence Value of 0.6839\n",
      "Num Topics = 15  has Coherence Value of 0.5781\n",
      "Num Topics = 20  has Coherence Value of 0.626\n",
      "Num Topics = 25  has Coherence Value of 0.6068\n",
      "Num Topics = 30  has Coherence Value of 0.612\n",
      "Num Topics = 35  has Coherence Value of 0.5865\n",
      "Num Topics = 40  has Coherence Value of 0.5957\n"
     ]
    },
    {
     "name": "stderr",
     "output_type": "stream",
     "text": [
      "/opt/anaconda3/envs/U4-S1-NLP/lib/python3.8/site-packages/ipykernel/ipkernel.py:287: DeprecationWarning: `should_run_async` will not call `transform_cell` automatically in the future. Please pass the result to `transformed_cell` argument and any exception that happen during thetransform in `preprocessing_exc_tuple` in IPython 7.17 and above.\n",
      "  and should_run_async(code)\n"
     ]
    }
   ],
   "source": [
    "# Print the coherence scores\n",
    "for m, cv in zip(x, coherence_values):\n",
    "    print(\"Num Topics =\", m, \" has Coherence Value of\", round(cv, 4))"
   ]
  },
  {
   "cell_type": "code",
   "execution_count": 54,
   "metadata": {
    "colab": {},
    "colab_type": "code",
    "id": "Yol5vG3R3L0k"
   },
   "outputs": [
    {
     "name": "stderr",
     "output_type": "stream",
     "text": [
      "/opt/anaconda3/envs/U4-S1-NLP/lib/python3.8/site-packages/ipykernel/ipkernel.py:287: DeprecationWarning: `should_run_async` will not call `transform_cell` automatically in the future. Please pass the result to `transformed_cell` argument and any exception that happen during thetransform in `preprocessing_exc_tuple` in IPython 7.17 and above.\n",
      "  and should_run_async(code)\n"
     ]
    }
   ],
   "source": [
    "# Select the model and print the topics\n",
    "# optimal_model = model_list[4]\n",
    "# optimal_model =  models.LdaModel.load('optimal_model.model')\n",
    "# model_topics = optimal_model.show_topics(formatted=False)\n",
    "# pprint(optimal_model.print_topics(num_words=10))"
   ]
  },
  {
   "cell_type": "code",
   "execution_count": null,
   "metadata": {
    "colab": {},
    "colab_type": "code",
    "id": "8HwVEUDI3L0m"
   },
   "outputs": [],
   "source": []
  }
 ],
 "metadata": {
  "colab": {
   "collapsed_sections": [],
   "name": "DSPT6_LS_DS_414_Topic_Modeling.ipynb",
   "provenance": []
  },
  "kernelspec": {
   "display_name": "U4-S1-NLP",
   "language": "python",
   "name": "u4-s1-nlp"
  },
  "language_info": {
   "codemirror_mode": {
    "name": "ipython",
    "version": 3
   },
   "file_extension": ".py",
   "mimetype": "text/x-python",
   "name": "python",
   "nbconvert_exporter": "python",
   "pygments_lexer": "ipython3",
   "version": "3.8.0"
  }
 },
 "nbformat": 4,
 "nbformat_minor": 4
}
